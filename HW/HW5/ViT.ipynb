{
  "cells": [
    {
      "cell_type": "markdown",
      "metadata": {
        "id": "lpRn-_RxH1bV"
      },
      "source": [
        "- Full Name: **Seyyed Amirmahdi Sadrzadeh**\n",
        "- Student ID: **401102015**\n"
      ]
    },
    {
      "cell_type": "markdown",
      "metadata": {
        "id": "4lQHDdzoH1bW"
      },
      "source": [
        "# 🧠 Homework 4: Vision Transformer (ViT)\n",
        "\n",
        "## 📌 Objective\n",
        "In this assignment, you will **implement a Vision Transformer (ViT) from scratch** and gain a deep understanding of its core components. You will:\n",
        "\n",
        "- 🛠️ Complete all core blocks of the Vision Transformer model.\n",
        "- 🧪 Train the ViT on the CIFAR-10 image classification dataset.\n",
        "- 👁️ Visualize attention maps to interpret model behavior.\n",
        "- 📊 Analyze the effect of hyperparameters (e.g., patch size, depth, heads) on model performance.\n",
        "\n",
        "---\n",
        "\n",
        "## 📚 Learning Goals\n",
        "By the end of this assignment, you should be able to:\n",
        "- Explain the role of patch embeddings, self-attention, and MLP layers in ViT.\n",
        "- Implement Transformer blocks without relying on high-level libraries like Hugging Face Transformers.\n",
        "- Visualize self-attention maps to understand how ViT focuses on different parts of an image.\n",
        "- Experiment with architectural design choices and evaluate their effects.\n",
        "\n",
        "---\n",
        "\n",
        "## 🧪 Dataset\n",
        "We will use the **CIFAR-10** dataset, which consists of 60,000 32×32 color images in 10 classes, with 6,000 images per class. The dataset is split into 50,000 training and 10,000 test images.\n",
        "\n",
        "---\n",
        "\n",
        "## 🎯 Evaluation Criteria\n",
        "\n",
        "Your final submission will be evaluated based on:\n",
        "- ✅ Correct implementation of all model components.\n",
        "- ✅ Accuracy of the model on CIFAR-10 test set.\n",
        "- ✅ Insightfulness of attention visualizations.\n",
        "- ✅ Clarity of code and documentation.\n",
        "- ✅ Quality of hyperparameter analysis and discussion.\n",
        "\n",
        "\n",
        "\n"
      ]
    },
    {
      "cell_type": "code",
      "execution_count": 1,
      "metadata": {
        "id": "nRkSkaasH1bX",
        "outputId": "8b4025f2-dcea-4334-faba-f91ff51189cc",
        "colab": {
          "base_uri": "https://localhost:8080/"
        }
      },
      "outputs": [
        {
          "output_type": "stream",
          "name": "stdout",
          "text": [
            "\u001b[2K   \u001b[90m━━━━━━━━━━━━━━━━━━━━━━━━━━━━━━━━━━━━━━━━\u001b[0m \u001b[32m363.4/363.4 MB\u001b[0m \u001b[31m4.3 MB/s\u001b[0m eta \u001b[36m0:00:00\u001b[0m\n",
            "\u001b[2K   \u001b[90m━━━━━━━━━━━━━━━━━━━━━━━━━━━━━━━━━━━━━━━━\u001b[0m \u001b[32m13.8/13.8 MB\u001b[0m \u001b[31m28.9 MB/s\u001b[0m eta \u001b[36m0:00:00\u001b[0m\n",
            "\u001b[2K   \u001b[90m━━━━━━━━━━━━━━━━━━━━━━━━━━━━━━━━━━━━━━━━\u001b[0m \u001b[32m24.6/24.6 MB\u001b[0m \u001b[31m33.5 MB/s\u001b[0m eta \u001b[36m0:00:00\u001b[0m\n",
            "\u001b[2K   \u001b[90m━━━━━━━━━━━━━━━━━━━━━━━━━━━━━━━━━━━━━━━━\u001b[0m \u001b[32m883.7/883.7 kB\u001b[0m \u001b[31m19.5 MB/s\u001b[0m eta \u001b[36m0:00:00\u001b[0m\n",
            "\u001b[2K   \u001b[90m━━━━━━━━━━━━━━━━━━━━━━━━━━━━━━━━━━━━━━━━\u001b[0m \u001b[32m664.8/664.8 MB\u001b[0m \u001b[31m2.8 MB/s\u001b[0m eta \u001b[36m0:00:00\u001b[0m\n",
            "\u001b[2K   \u001b[90m━━━━━━━━━━━━━━━━━━━━━━━━━━━━━━━━━━━━━━━━\u001b[0m \u001b[32m211.5/211.5 MB\u001b[0m \u001b[31m5.3 MB/s\u001b[0m eta \u001b[36m0:00:00\u001b[0m\n",
            "\u001b[2K   \u001b[90m━━━━━━━━━━━━━━━━━━━━━━━━━━━━━━━━━━━━━━━━\u001b[0m \u001b[32m56.3/56.3 MB\u001b[0m \u001b[31m13.3 MB/s\u001b[0m eta \u001b[36m0:00:00\u001b[0m\n",
            "\u001b[2K   \u001b[90m━━━━━━━━━━━━━━━━━━━━━━━━━━━━━━━━━━━━━━━━\u001b[0m \u001b[32m127.9/127.9 MB\u001b[0m \u001b[31m7.5 MB/s\u001b[0m eta \u001b[36m0:00:00\u001b[0m\n",
            "\u001b[2K   \u001b[90m━━━━━━━━━━━━━━━━━━━━━━━━━━━━━━━━━━━━━━━━\u001b[0m \u001b[32m207.5/207.5 MB\u001b[0m \u001b[31m6.6 MB/s\u001b[0m eta \u001b[36m0:00:00\u001b[0m\n",
            "\u001b[2K   \u001b[90m━━━━━━━━━━━━━━━━━━━━━━━━━━━━━━━━━━━━━━━━\u001b[0m \u001b[32m21.1/21.1 MB\u001b[0m \u001b[31m103.9 MB/s\u001b[0m eta \u001b[36m0:00:00\u001b[0m\n",
            "\u001b[?25h"
          ]
        }
      ],
      "source": [
        "# ===============================\n",
        "# 1.1 Setup & Imports\n",
        "# ===============================\n",
        "!pip install einops torch torchvision matplotlib seaborn --quiet"
      ]
    },
    {
      "cell_type": "code",
      "execution_count": 2,
      "metadata": {
        "id": "jhx-m-BJH1bZ",
        "outputId": "3cc251a6-21d8-4565-8ace-881a8f6c1e9c",
        "colab": {
          "base_uri": "https://localhost:8080/"
        }
      },
      "outputs": [
        {
          "output_type": "stream",
          "name": "stdout",
          "text": [
            "Using cuda\n"
          ]
        }
      ],
      "source": [
        "import torch\n",
        "import torch.nn as nn\n",
        "import torchvision\n",
        "import torchvision.transforms as T\n",
        "import matplotlib.pyplot as plt\n",
        "import seaborn as sns\n",
        "from einops import rearrange, repeat\n",
        "from einops.layers.torch import Rearrange\n",
        "device = torch.device('cuda' if torch.cuda.is_available() else 'cpu')\n",
        "print('Using', device)\n"
      ]
    },
    {
      "cell_type": "code",
      "execution_count": 3,
      "metadata": {
        "id": "ZoCDpZJXH1bZ",
        "outputId": "b480f6f7-c105-468b-f863-6f4b283f6789",
        "colab": {
          "base_uri": "https://localhost:8080/"
        }
      },
      "outputs": [
        {
          "output_type": "stream",
          "name": "stderr",
          "text": [
            "100%|██████████| 170M/170M [00:03<00:00, 44.3MB/s]\n"
          ]
        }
      ],
      "source": [
        "\n",
        "# ===============================\n",
        "# 1.2 Data Loading & Visualization\n",
        "# ===============================\n",
        "transform = T.Compose([\n",
        "    T.ToTensor(),\n",
        "    T.Normalize(mean=[0.4914, 0.4822, 0.4465], std=[0.2470, 0.2435, 0.2616])\n",
        "])\n",
        "\n",
        "## To Do: Load CIFAR10:\n",
        "train_ds = torchvision.datasets.CIFAR10(root='./data', train=True, download=True, transform=transform)\n",
        "test_ds  = torchvision.datasets.CIFAR10(root='./data', train=False, download=True, transform=transform)\n",
        "train_loader = torch.utils.data.DataLoader(train_ds, batch_size=64, shuffle=True)\n",
        "test_loader  = torch.utils.data.DataLoader(test_ds, batch_size=64, shuffle=False)\n"
      ]
    },
    {
      "cell_type": "code",
      "execution_count": 4,
      "metadata": {
        "id": "fo_Wbi2IH1bZ",
        "outputId": "a8dd8740-0287-49ea-a430-ddff78d4dc30",
        "colab": {
          "base_uri": "https://localhost:8080/",
          "height": 183
        }
      },
      "outputs": [
        {
          "output_type": "display_data",
          "data": {
            "text/plain": [
              "<Figure size 1500x200 with 8 Axes>"
            ],
            "image/png": "[encoded data removed]"
          },
          "metadata": {}
        }
      ],
      "source": [
        "\n",
        "## TO do: Visualize 8 images with their labels\n",
        "classes = train_ds.classes\n",
        "images, labels = next(iter(train_loader))\n",
        "fig, axes = plt.subplots(1, 8, figsize=(15, 2))\n",
        "for i in range(8):\n",
        "    img = images[i].permute(1, 2, 0).cpu().numpy()  # Convert CHW to HWC for plt\n",
        "    # Undo normalization for visualization\n",
        "    img = img * [0.2470, 0.2435, 0.2616] + [0.4914, 0.4822, 0.4465]\n",
        "    img = img.clip(0,1)\n",
        "    axes[i].imshow(img)\n",
        "    axes[i].set_title(classes[labels[i]])\n",
        "    axes[i].axis('off')\n",
        "plt.show()\n"
      ]
    },
    {
      "cell_type": "code",
      "execution_count": 5,
      "metadata": {
        "id": "YZi5mZz7H1bZ"
      },
      "outputs": [],
      "source": [
        "# ===============================\n",
        "# 1.3 Helper: pair\n",
        "# ===============================\n",
        "def pair(t):\n",
        "    return t if isinstance(t, tuple) else (t, t)\n"
      ]
    },
    {
      "cell_type": "code",
      "execution_count": 6,
      "metadata": {
        "id": "0FQ7jME-H1ba"
      },
      "outputs": [],
      "source": [
        "# ===============================\n",
        "# 1.4 FeedForward\n",
        "# ===============================\n",
        "## To Do: Complete the FeedForward module -> layer norm -> Linear -> GELU -> Dropout -> Linear -> Dropout\n",
        "class FeedForward(nn.Module):\n",
        "    def __init__(self, dim, hidden_dim, dropout=0.):\n",
        "        super().__init__()\n",
        "        self.net = nn.Sequential(\n",
        "            nn.LayerNorm(dim),\n",
        "            nn.Linear(dim, hidden_dim),\n",
        "            nn.GELU(),\n",
        "            nn.Dropout(dropout),\n",
        "            nn.Linear(hidden_dim, dim),\n",
        "            nn.Dropout(dropout)\n",
        "        )\n",
        "    def forward(self, x):\n",
        "        return self.net(x)\n"
      ]
    },
    {
      "cell_type": "code",
      "execution_count": 7,
      "metadata": {
        "id": "QALQXtreH1ba"
      },
      "outputs": [],
      "source": [
        "\n",
        "# ===============================\n",
        "# 1.5 Attention\n",
        "# ===============================\n",
        "## To Do: Complete the Attention module\n",
        "class Attention(nn.Module):\n",
        "    def __init__(self, dim, heads=8, dim_head=64, dropout=0.):\n",
        "        super().__init__()\n",
        "        inner_dim = heads * dim_head\n",
        "        self.heads = heads\n",
        "        self.scale = dim_head ** -0.5\n",
        "        ## layer norm\n",
        "        self.norm = nn.LayerNorm(dim)\n",
        "        self.to_qkv = nn.Linear(dim, inner_dim * 3, bias=False)\n",
        "        ## softmax\n",
        "        self.attend = nn.Softmax(dim=-1)\n",
        "        self.dropout = nn.Dropout(dropout)\n",
        "        self.to_out = nn.Sequential(\n",
        "            nn.Linear(inner_dim, dim),\n",
        "            nn.Dropout(dropout)\n",
        "        )\n",
        "\n",
        "    def forward(self, x):\n",
        "        x = self.norm(x)\n",
        "        q, k, v = self.to_qkv(x).chunk(3, dim=-1)\n",
        "        q = rearrange(q, 'b n (h d) -> b h n d', h=self.heads)\n",
        "        k = rearrange(k, 'b n (h d) -> b h n d', h=self.heads)\n",
        "        v = rearrange(v, 'b n (h d) -> b h n d', h=self.heads)\n",
        "\n",
        "        ## q, k multiplication\n",
        "        dots = torch.matmul(q, k.transpose(-2, -1)) * self.scale\n",
        "        ## softmax\n",
        "        attn = self.attend(dots)\n",
        "        ### dropout\n",
        "        attn = self.dropout(attn)\n",
        "        ## v multiplication\n",
        "        out = torch.matmul(attn, v)\n",
        "        out = rearrange(out, 'b h n d -> b n (h d)')\n",
        "        return self.to_out(out)\n"
      ]
    },
    {
      "cell_type": "code",
      "execution_count": 8,
      "metadata": {
        "id": "Jy1MRTxyH1ba"
      },
      "outputs": [],
      "source": [
        "\n",
        "# ===============================\n",
        "# 1.6 Transformer Block\n",
        "# ===============================\n",
        "## To Do: Complete the Transformer module\n",
        "class Transformer(nn.Module):\n",
        "    def __init__(self, dim, depth, heads, dim_head, mlp_dim, dropout=0.):\n",
        "        super().__init__()\n",
        "        self.layers = nn.ModuleList([\n",
        "            ## Attention + FeedForward\n",
        "            nn.ModuleList([\n",
        "                Attention(dim, heads=heads, dim_head=dim_head, dropout=dropout),\n",
        "                FeedForward(dim, mlp_dim, dropout=dropout)\n",
        "            ]) for _ in range(depth)\n",
        "        ])\n",
        "        self.norm = nn.LayerNorm(dim)\n",
        "\n",
        "    def forward(self, x):\n",
        "        for attn, ff in self.layers:\n",
        "            ## To do: Normal Transformer forward, nothing weird\n",
        "            x = attn(x) + x\n",
        "            x = ff(x) + x\n",
        "        return self.norm(x)\n"
      ]
    },
    {
      "cell_type": "code",
      "execution_count": 9,
      "metadata": {
        "id": "W5dHhNNqH1ba"
      },
      "outputs": [],
      "source": [
        "\n",
        "# ===============================\n",
        "# 1.7 ViT Model\n",
        "# ===============================\n",
        "class ViT(nn.Module):\n",
        "    def __init__(self, *, image_size, patch_size, num_classes,\n",
        "                 dim, depth, heads, mlp_dim,\n",
        "                 pool='cls', channels=3,\n",
        "                 dim_head=64, dropout=0., emb_dropout=0.):\n",
        "        super().__init__()\n",
        "        image_height, image_width = pair(image_size)\n",
        "        patch_height, patch_width = pair(patch_size)\n",
        "        assert image_height % patch_height == 0 and image_width % patch_width == 0\n",
        "\n",
        "        num_patches = (image_height // patch_height) * (image_width // patch_width)\n",
        "        patch_dim = channels * patch_height * patch_width\n",
        "\n",
        "        self.to_patch_embedding = nn.Sequential(\n",
        "            Rearrange('b c (h p1) (w p2) -> b (h w) (p1 p2 c)',\n",
        "                      p1=patch_height, p2=patch_width),\n",
        "            nn.Linear(patch_dim, dim)\n",
        "        )\n",
        "\n",
        "        self.pos_embedding = nn.Parameter(torch.randn(1, num_patches + 1, dim))\n",
        "        self.cls_token = nn.Parameter(torch.randn(1, 1, dim))\n",
        "        self.dropout = nn.Dropout(emb_dropout)\n",
        "\n",
        "        self.transformer = Transformer(dim, depth, heads, dim_head, mlp_dim, dropout)\n",
        "\n",
        "        self.pool = pool\n",
        "\n",
        "        self.mlp_head = nn.Sequential(\n",
        "            nn.LayerNorm(dim),\n",
        "            nn.Linear(dim, num_classes)\n",
        "        )\n",
        "\n",
        "    ## To do: complete the forward function\n",
        "    def forward(self, img):\n",
        "        x = self.to_patch_embedding(img)\n",
        "        b, n, _ = x.shape\n",
        "\n",
        "        cls_tokens = repeat(self.cls_token, '1 1 d -> b 1 d', b=b)\n",
        "        x = torch.cat((cls_tokens, x), dim=1)\n",
        "        x += self.pos_embedding[:, :(n + 1)]\n",
        "        x = self.dropout(x)\n",
        "\n",
        "        x = self.transformer(x)\n",
        "\n",
        "        x = x[:, 0] if self.pool == 'cls' else x.mean(dim=1)\n",
        "        return self.mlp_head(x)\n"
      ]
    },
    {
      "cell_type": "code",
      "execution_count": 10,
      "metadata": {
        "id": "UMgCKEjaH1bb"
      },
      "outputs": [],
      "source": [
        "\n",
        "# ===============================\n",
        "# 1.8 Training Loop & Visualization\n",
        "# ===============================\n",
        "## To do: Complete the training loop\n",
        "def train(model, epochs=10, lr=3e-4):\n",
        "    opt = torch.optim.Adam(model.parameters(), lr=lr)\n",
        "    loss_fn = nn.CrossEntropyLoss()\n",
        "\n",
        "    model.to(device)\n",
        "    losses = []\n",
        "    for epoch in range(epochs):\n",
        "        model.train()\n",
        "        total_loss = 0\n",
        "        for imgs, labels in train_loader:\n",
        "            ## Forward, loss and backward here\n",
        "            imgs, labels = imgs.to(device), labels.to(device)\n",
        "            opt.zero_grad()\n",
        "            preds = model(imgs)\n",
        "            loss = loss_fn(preds, labels)\n",
        "            loss.backward()\n",
        "            opt.step()\n",
        "\n",
        "            total_loss += loss.item()\n",
        "\n",
        "        avg_loss = total_loss / len(train_loader)\n",
        "\n",
        "        losses.append(avg_loss)\n",
        "        print(f\"Epoch {epoch+1}/{epochs}, Loss: {avg_loss:.4f}\")\n",
        "\n",
        "    plt.plot(losses)\n",
        "    plt.title(\"Training Loss\")\n",
        "    plt.xlabel(\"Epoch\")\n",
        "    plt.ylabel(\"Loss\")\n",
        "    plt.show()\n",
        "\n",
        "    # Evaluate\n",
        "    model.eval()\n",
        "    correct = 0\n",
        "    total = 0\n",
        "    with torch.no_grad():\n",
        "        for imgs, labels in test_loader:\n",
        "            imgs, labels = imgs.to(device), labels.to(device)\n",
        "            preds = model(imgs).argmax(dim=1)\n",
        "            correct += (preds == labels).sum().item()\n",
        "            total += labels.size(0)\n",
        "    print(f\"Test Accuracy: {100 * correct / total:.2f}%\")\n",
        "\n"
      ]
    },
    {
      "cell_type": "code",
      "execution_count": 12,
      "metadata": {
        "id": "15f4qWBkH1bb",
        "outputId": "f3a09c2e-fc7d-400f-a3f8-9990b97706c3",
        "colab": {
          "base_uri": "https://localhost:8080/",
          "height": 1000
        }
      },
      "outputs": [
        {
          "output_type": "stream",
          "name": "stdout",
          "text": [
            "Epoch 1/30, Loss: 1.6650\n",
            "Epoch 2/30, Loss: 1.3389\n",
            "Epoch 3/30, Loss: 1.2221\n",
            "Epoch 4/30, Loss: 1.1418\n",
            "Epoch 5/30, Loss: 1.0796\n",
            "Epoch 6/30, Loss: 1.0228\n",
            "Epoch 7/30, Loss: 0.9731\n",
            "Epoch 8/30, Loss: 0.9259\n",
            "Epoch 9/30, Loss: 0.8866\n",
            "Epoch 10/30, Loss: 0.8503\n",
            "Epoch 11/30, Loss: 0.8131\n",
            "Epoch 12/30, Loss: 0.7820\n",
            "Epoch 13/30, Loss: 0.7502\n",
            "Epoch 14/30, Loss: 0.7163\n",
            "Epoch 15/30, Loss: 0.6918\n",
            "Epoch 16/30, Loss: 0.6576\n",
            "Epoch 17/30, Loss: 0.6288\n",
            "Epoch 18/30, Loss: 0.6093\n",
            "Epoch 19/30, Loss: 0.5802\n",
            "Epoch 20/30, Loss: 0.5540\n",
            "Epoch 21/30, Loss: 0.5301\n",
            "Epoch 22/30, Loss: 0.5068\n",
            "Epoch 23/30, Loss: 0.4899\n",
            "Epoch 24/30, Loss: 0.4734\n",
            "Epoch 25/30, Loss: 0.4552\n",
            "Epoch 26/30, Loss: 0.4340\n",
            "Epoch 27/30, Loss: 0.4182\n",
            "Epoch 28/30, Loss: 0.4060\n",
            "Epoch 29/30, Loss: 0.3834\n",
            "Epoch 30/30, Loss: 0.3740\n"
          ]
        },
        {
          "output_type": "display_data",
          "data": {
            "text/plain": [
              "<Figure size 640x480 with 1 Axes>"
            ],
            "image/png": "[encoded data removed]"
          },
          "metadata": {}
        },
        {
          "output_type": "stream",
          "name": "stdout",
          "text": [
            "Test Accuracy: 66.84%\n"
          ]
        }
      ],
      "source": [
        "\n",
        "# ===============================\n",
        "# Run and enjoy!\n",
        "# ===============================\n",
        "model = ViT(\n",
        "    image_size=32, patch_size=4, num_classes=10,\n",
        "    dim=128, depth=6, heads=8, mlp_dim=256,\n",
        "    pool='cls', channels=3, dim_head=64,\n",
        "    dropout=0.1, emb_dropout=0.1\n",
        ")\n",
        "\n",
        "train(model, epochs=30)\n"
      ]
    },
    {
      "cell_type": "markdown",
      "metadata": {
        "id": "J5PuigOyH1bb"
      },
      "source": [
        "---\n",
        "\n",
        "## 🧠 Bonus (Optional)\n",
        "- 🧩 Implement a variant of ViT using sinusoidal positional embeddings.\n",
        "- 🎨 Visualize per-head attention maps across different layers.\n",
        "- 🔁 Try training with different patch sizes and analyze effects.\n",
        "\n",
        "---"
      ]
    }
  ],
  "metadata": {
    "kernelspec": {
      "display_name": "Python 3",
      "name": "python3"
    },
    "language_info": {
      "codemirror_mode": {
        "name": "ipython",
        "version": 3
      },
      "file_extension": ".py",
      "mimetype": "text/x-python",
      "name": "python",
      "nbconvert_exporter": "python",
      "pygments_lexer": "ipython3",
      "version": "3.12.4"
    },
    "colab": {
      "provenance": [],
      "gpuType": "T4"
    },
    "accelerator": "GPU"
  },
  "nbformat": 4,
  "nbformat_minor": 0
}