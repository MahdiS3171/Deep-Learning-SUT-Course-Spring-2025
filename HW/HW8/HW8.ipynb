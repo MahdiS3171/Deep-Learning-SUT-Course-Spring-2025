{
 "cells": [
  {
   "cell_type": "markdown",
   "id": "aeea70e1",
   "metadata": {},
   "source": [
    "First & Second Name:\n",
    "\n",
    "Student ID:\n",
    "\n",
    "Note I: Each section is worth 50 points. Each question is worth 5 points, and your implementation is worth 30 points in total. (5 × 4 + 30 = 50) × 2 = 100.\n",
    "\n",
    "Note II: For each section, your model (agent) can converge. By achieving convergence in each section, you will earn an additional **5 points** per section. Alternatively, if your agent demonstrates an incremental average return, that will suffice."
   ]
  },
  {
   "cell_type": "markdown",
   "id": "4830028d",
   "metadata": {},
   "source": [
    "# Section One"
   ]
  },
  {
   "cell_type": "markdown",
   "id": "7879bfaa",
   "metadata": {},
   "source": [
    "### Develop the model of nueral network for training agent."
   ]
  },
  {
   "cell_type": "markdown",
   "id": "6081eb2f",
   "metadata": {},
   "source": [
    "In this section, you’ll embark on implementing a Deep Q-Network (DQN) agent from scratch, one of the fundamental algorithms in deep reinforcement learning. DQN revolutionized the field by successfully combining deep neural networks with Q-learning, enabling agents to learn directly from high-dimensional sensory inputs. You’ll build each component systematically - starting with the neural network architecture that approximates Q-values, then implementing the experience replay buffer that breaks correlations in training data, followed by the epsilon-greedy policy for balancing exploration and exploitation, and finally bringing it all together in the DQN agent class. This hands-on implementation will deepen your understanding of how value-based reinforcement learning algorithms work under the hood.\n",
    "Below is the schema for DQN implementation"
   ]
  },
  {
   "cell_type": "markdown",
   "id": "d8638979",
   "metadata": {},
   "source": [
    "![image-3](https://www.researchgate.net/publication/344238597/figure/fig4/AS:935663859937283@1600091056689/DQN-training-process.png)"
   ]
  },
  {
   "cell_type": "markdown",
   "id": "ccdc8141",
   "metadata": {},
   "source": [
    "The CartPole-v1 environment serves as your testing ground - a classic control problem where an agent must balance a pole on a moving cart. Through this implementation, you’ll gain practical experience with key concepts like target networks for stable learning, batch sampling from replay memory, and the temporal difference learning update rule. Pay special attention to how each component interacts with others: how the neural network processes states to output Q-values, how the replay buffer stores and samples experiences, and how the epsilon-greedy policy uses these Q-values to select actions. The visualization at the end will show your agent’s learning progress across multiple random seeds, demonstrating the effectiveness of your implementation. The conceptual questions following the implementation will help solidify your understanding of where DQN fits in the broader landscape of reinforcement learning algorithms."
   ]
  },
  {
   "cell_type": "markdown",
   "id": "10b7cc93",
   "metadata": {},
   "source": [
    "# Implement Models"
   ]
  },
  {
   "cell_type": "code",
   "execution_count": null,
   "id": "5d3d375c",
   "metadata": {},
   "outputs": [],
   "source": [
    "import gymnasium as gym\n",
    "import matplotlib.pyplot as plt\n",
    "import os\n",
    "import torch.nn as nn\n",
    "import torch.optim as optim\n",
    "import torch\n",
    "import collections\n",
    "import random\n",
    "from collections import namedtuple\n",
    "import numpy as np\n",
    "import tqdm\n",
    "import collections\n",
    "\n",
    "Transition = collections.namedtuple('Transition', ('state', 'action', 'next_state', 'reward'))\n",
    "class FCModel(nn.Module):\n",
    "    \"\"\" Implement a dense nn for using on QNetwork\"\"\"\n",
    "\n",
    "    def __init__(self, input_size, output_size):\n",
    "        #####################################################################\n",
    "        # TODO:\n",
    "        # 1) Creat a nueral network (dense) for getting with input_size and return output_size\n",
    "\n",
    "        # comment the line below to test your code\n",
    "        raise NotImplementedError(\" No filter has implemented to the images\")\n",
    "        #####################################################################\n",
    "\n",
    "    def forward(self, inputs):\n",
    "        #####################################################################\n",
    "        # TODO:\n",
    "        # 2) Implement forward function\n",
    "\n",
    "        # comment the line below to test your code\n",
    "        raise NotImplementedError(\" No filter has implemented to the images\")\n",
    "        #####################################################################\n",
    "    pass\n",
    "\n",
    "# QNetwork class\n",
    "class QNetwork:\n",
    "    \"\"\" Implement QNetwork for estimate q-values\"\"\"\n",
    "    def __init__(self, env, lr):\n",
    "\n",
    "        #####################################################################\n",
    "        # TODO:\n",
    "        # 3) Implement optimizer\n",
    "        # 4) Implement suitable lr\n",
    "        # 5) and self.net which contain a FCModel in it\n",
    "\n",
    "        # comment the line below to test your code\n",
    "        raise NotImplementedError(\" No filter has implemented to the images\")\n",
    "        #####################################################################"
   ]
  },
  {
   "cell_type": "markdown",
   "id": "6d85c535",
   "metadata": {},
   "source": [
    "### Develop the replay buffer for adding experiences in buffers."
   ]
  },
  {
   "cell_type": "code",
   "execution_count": null,
   "id": "bd7b7838",
   "metadata": {},
   "outputs": [],
   "source": [
    "# Memory/Replay Buffer class\n",
    "class ReplayMemory:\n",
    "    def __init__(self, env, memory_size=50000, burn_in=10000):\n",
    "        self.memory_size = memory_size\n",
    "        self.burn_in = burn_in\n",
    "        self.memory = collections.deque(maxlen=memory_size)\n",
    "        self.env = env\n",
    "    \n",
    "    def __len__(self):\n",
    "        return len(self.memory)\n",
    "    \n",
    "    def sample_batch(self, batch_size=32):\n",
    "        #####################################################################\n",
    "        # TODO:\n",
    "        # 6) Impelement sample batch function to return sample from replay buffer with giben batch size \n",
    "\n",
    "        # comment the line below to test your code\n",
    "        raise NotImplementedError(\" No filter has implemented to the images\")\n",
    "        #####################################################################\n",
    "\n",
    "\n",
    "    def append(self, transition):\n",
    "        self.memory.append(transition)\n",
    "\n",
    "    def burn_in_memory(self):\n",
    "        #####################################################################\n",
    "        # TODO:\n",
    "        # 7) Fill the memory with random transitions for burn_in steps\n",
    "        # the storing should be with Transition nametuple which implemented above\n",
    "\n",
    "        # comment the line below to test your code\n",
    "        raise NotImplementedError(\" No filter has implemented to the images\")\n",
    "        #####################################################################\n",
    "\n"
   ]
  },
  {
   "cell_type": "markdown",
   "id": "5043cccc",
   "metadata": {},
   "source": [
    "### Policy module for selecting best action in given states. (Note: you can add the update_epsilone function to update the epsilone for each iteration)"
   ]
  },
  {
   "cell_type": "code",
   "execution_count": null,
   "id": "264ca1b5",
   "metadata": {},
   "outputs": [],
   "source": [
    "class Policy:\n",
    "    def __init__(self, env, epsilon_start=1.0, epsilon_end=0.05, epsilon_decay=0.995):\n",
    "        self.env = env\n",
    "        self.epsilon = epsilon_start\n",
    "        self.epsilon_end = epsilon_end\n",
    "        self.epsilon_decay = epsilon_decay\n",
    "        \n",
    "    def select_action(self, state, q_network, training=True):\n",
    "        #####################################################################\n",
    "        # TODO:\n",
    "        # 8) implement select action with epsilon greedy \n",
    "        # comment the line below to test your code\n",
    "        raise NotImplementedError(\" No filter has implemented to the images\")\n",
    "        #####################################################################\n",
    "\n",
    "        return torch.argmax(q_network.net(state)).view(1, 1)\n",
    "    \n",
    "    def update_epsilon(self):\n",
    "        \"\"\"Decay epsilon\"\"\"\n",
    "        self.epsilon = max(self.epsilon_end, self.epsilon * self.epsilon_decay)\n"
   ]
  },
  {
   "cell_type": "markdown",
   "id": "c2b241ec",
   "metadata": {},
   "source": [
    "### Develop Agent for DQN alghorithm. This module is reponsbile for training, testing, fill the buffer and optimize the learning."
   ]
  },
  {
   "cell_type": "code",
   "execution_count": null,
   "id": "269dfbef",
   "metadata": {},
   "outputs": [],
   "source": [
    "class DQNAgent:\n",
    "    def __init__(self, env_name, lr=1e-4, gamma=0.99, batch_size=128, \n",
    "                 target_update=10, memory_size=50000, burn_in=10000,\n",
    "                 epsilon_start=1.0, epsilon_end=0.05, epsilon_decay=0.995):\n",
    "        \n",
    "        #####################################################################\n",
    "        # TODO:\n",
    "        # 8) inital all element you implemented before like replay buffer, policy etc.\n",
    "\n",
    "        raise NotImplementedError(\" No filter has implemented to the images\")\n",
    "        #####################################################################\n",
    "\n",
    "    def train(self):\n",
    "        \"\"\"Train the agent for one episode\"\"\"\n",
    "        if len(self.memory) < self.burn_in:\n",
    "            self.memory.burn_in_memory()\n",
    "            \n",
    "        state, _ = self.env.reset()\n",
    "\n",
    "        #####################################################################\n",
    "        # TODO:\n",
    "        # 9) Complete training function, you should use optimize_model function \n",
    "\n",
    "        raise NotImplementedError(\" No filter has implemented to the images\")\n",
    "        #####################################################################\n",
    "\n",
    "        # Update epsilon\n",
    "        self.policy.update_epsilon()\n",
    "        \n",
    "        return episode_reward, episode_loss / steps if steps > 0 else 0, steps\n",
    "\n",
    "    def _optimize_model(self):\n",
    "        \"\"\"Perform one step of optimization\"\"\"\n",
    "        transitions = self.memory.sample_batch(self.batch_size)\n",
    "        batch = Transition(*zip(*transitions))\n",
    "        \n",
    "        # Compute a mask of non-final states\n",
    "        non_final_mask = torch.tensor(tuple(map(lambda s: s is not None, batch.next_state)), \n",
    "                                      dtype=torch.bool)\n",
    "        \n",
    "        non_final_next_states = torch.cat([s for s in batch.next_state if s is not None])\n",
    "        state_batch = torch.cat(batch.state)\n",
    "        action_batch = torch.cat(batch.action)\n",
    "        reward_batch = torch.cat(batch.reward)\n",
    "        \n",
    "        # Compute Q(s_t, a) - the model computes Q(s_t), then we select the columns of actions taken\n",
    "        state_action_values = self.policy_net.net(state_batch).gather(1, action_batch)\n",
    "        \n",
    "        # Compute V(s_{t+1}) for all next states\n",
    "        next_state_values = torch.zeros(self.batch_size)\n",
    "        with torch.no_grad():\n",
    "            next_state_values[non_final_mask] = self.target_net.net(non_final_next_states).max(1)[0]\n",
    "        \n",
    "        # Compute the expected Q values\n",
    "        expected_state_action_values = (next_state_values * self.gamma) + reward_batch\n",
    "        \n",
    "        # Compute loss\n",
    "        criterion = nn.MSELoss()\n",
    "        loss = criterion(state_action_values, expected_state_action_values.unsqueeze(1))\n",
    "        \n",
    "        # Optimize the model\n",
    "        self.policy_net.optimizer.zero_grad()\n",
    "        loss.backward()\n",
    "\n",
    "        self.policy_net.optimizer.step()\n",
    "        \n",
    "        return loss.item()\n",
    "\n",
    "    def test(self, render=False):\n",
    "        \"\"\"Test the agent on one episode\"\"\"\n",
    "        state, _ = self.env.reset()\n",
    "        total_reward = 0\n",
    "        done = False\n",
    "        \n",
    "        #####################################################################\n",
    "        # TODO:\n",
    "        # 10) Complete training function\n",
    "\n",
    "        raise NotImplementedError(\" No filter has implemented to the images\")\n",
    "        #####################################################################\n",
    "                \n",
    "        return total_reward\n"
   ]
  },
  {
   "cell_type": "code",
   "execution_count": null,
   "id": "cb96f8dc",
   "metadata": {},
   "outputs": [],
   "source": [
    "# Note: Feels free for adjust andy hyper paramter you want for trainin. Except these: seed, env_name, state_space_size\n",
    "if __name__ == \"__main__\":\n",
    "    env_name = 'CartPole-v1'\n",
    "    num_episodes_train = 200\n",
    "    num_episodes_test = 20\n",
    "    learning_rate = 5e-4 \n",
    "    \n",
    "    env = gym.make(env_name)\n",
    "    action_space_size = env.action_space.n\n",
    "    state_space_size = 4\n",
    "    \n",
    "    num_seeds = 5\n",
    "    l = num_episodes_train // 10\n",
    "    res = np.zeros((num_seeds, l))\n",
    "    gamma = 0.99\n",
    "    \n",
    "    for i in tqdm.tqdm(range(num_seeds)):\n",
    "        reward_means = []\n",
    "        agent = DQNAgent(env_name, lr=learning_rate, gamma=gamma)\n",
    "        \n",
    "        for m in range(num_episodes_train):\n",
    "            episode_reward, episode_loss, steps = agent.train()\n",
    "            \n",
    "            if m % 10 == 0:\n",
    "                print(f\"Episode: {m}\")\n",
    "                \n",
    "                G = np.zeros(num_episodes_test)\n",
    "                for k in range(num_episodes_test):\n",
    "                    g = agent.test()\n",
    "                    G[k] = g\n",
    "                \n",
    "                reward_mean = G.mean()\n",
    "                reward_sd = G.std()\n",
    "                print(f\"The test reward for episode {m} is {reward_mean} with a standard deviation of {reward_sd}.\")\n",
    "                reward_means.append(reward_mean)\n",
    "        \n",
    "        res[i] = np.array(reward_means)\n",
    "    \n",
    "    ks = np.arange(l) * 10\n",
    "    avs = np.mean(res, axis=0)\n",
    "    maxs = np.max(res, axis=0)\n",
    "    mins = np.min(res, axis=0)\n",
    "    \n",
    "    plt.figure(figsize=(10, 6))\n",
    "    plt.fill_between(ks, mins, maxs, alpha=0.1)\n",
    "    plt.plot(ks, avs, '-o', markersize=1)\n",
    "    \n",
    "    plt.xlabel('Episode', fontsize=15)\n",
    "    plt.ylabel('Avg. Return', fontsize=15)\n",
    "    plt.title('DQN Performance on CartPole-v1')\n",
    "    plt.grid(True, alpha=0.3)\n",
    "    plt.savefig('dqn_performance.png')\n",
    "    plt.show()"
   ]
  },
  {
   "cell_type": "markdown",
   "id": "51bbab75",
   "metadata": {},
   "source": [
    "## Answer these questions:"
   ]
  },
  {
   "attachments": {
    "image-2.png": {
     "image/png": "[encoded data removed]"
    }
   },
   "cell_type": "markdown",
   "id": "905e1ffd",
   "metadata": {},
   "source": [
    "![image-2.png](attachment:image-2.png)"
   ]
  },
  {
   "cell_type": "markdown",
   "id": "58291e84",
   "metadata": {},
   "source": [
    "Q1) According given image, explain the value based, policy based apporches in MODEL FREE."
   ]
  },
  {
   "cell_type": "markdown",
   "id": "c903cc2d",
   "metadata": {},
   "source": [
    "Q2) The DQN you implemented is consider which one of those? why? what is rule of the Policy Class you implemented?"
   ]
  },
  {
   "cell_type": "markdown",
   "id": "0204f99d",
   "metadata": {},
   "source": [
    "Q3) Explain the rule of Replay Buffer in algorithm. (why we should use this?)"
   ]
  },
  {
   "cell_type": "markdown",
   "id": "ab38138b",
   "metadata": {},
   "source": [
    "Q4) Explain the rule of epsilon"
   ]
  },
  {
   "cell_type": "markdown",
   "id": "d82b2ee6",
   "metadata": {},
   "source": [
    "# Section Two"
   ]
  },
  {
   "cell_type": "markdown",
   "id": "ff7108f6",
   "metadata": {},
   "source": [
    "Section Two challenges you to implement the Soft Actor-Critic (SAC) algorithm, representing a significant shift from the value-based approach of DQN to a state-of-the-art actor-critic method. SAC belongs to the family of maximum entropy reinforcement learning algorithms, which explicitly balance reward maximization with maintaining stochastic policies for better exploration. Unlike DQN’s discrete action selection, SAC can naturally handle continuous action spaces while incorporating entropy regularization to encourage exploration and prevent premature convergence to suboptimal policies. You’ll need to architect multiple neural networks - an actor network that outputs actions, critic networks that evaluate state-action pairs, and potentially a value network depending on your implementation choice."
   ]
  },
  {
   "cell_type": "markdown",
   "id": "25f87399",
   "metadata": {},
   "source": [
    "Implementing SAC requires understanding several advanced concepts including the reparameterization trick for gradient computation through stochastic nodes, soft value functions that incorporate entropy bonuses, and the careful orchestration of multiple function approximators. The algorithm’s elegance lies in its ability to automatically tune the temperature parameter that balances exploration and exploitation. As you build your implementation, consider how SAC differs fundamentally from DQN in its approach to the exploration-exploitation trade-off and its ability to maintain a stochastic policy throughout training. The comparison questions at the end will help you articulate these differences and understand when each algorithm might be preferred. Your implementation will again be tested on CartPole-v1, allowing direct comparison with your DQN results and highlighting the distinct characteristics of policy-based versus value-based methods."
   ]
  },
  {
   "cell_type": "markdown",
   "id": "89dc7cbe",
   "metadata": {},
   "source": [
    "### Implement SAC"
   ]
  },
  {
   "cell_type": "markdown",
   "id": "86171200",
   "metadata": {},
   "source": [
    "Implement SAC with (Cart-pole) enviroment."
   ]
  },
  {
   "cell_type": "code",
   "execution_count": null,
   "id": "85de8d3f",
   "metadata": {},
   "outputs": [],
   "source": [
    "import numpy as np\n",
    "import torch\n",
    "import torch.nn as nn\n",
    "import torch.optim as optim\n",
    "import random\n",
    "from collections import deque\n",
    "import matplotlib.pyplot as plt\n",
    "import gymnasium as gym\n",
    "\n",
    "#####################################################################\n",
    "# TODO:\n",
    "# 10) Implement whole SAC. you can inspire by DQN.\n",
    "raise NotImplementedError(\" No filter has implemented to the images\")\n",
    "#####################################################################\n",
    "\n",
    "# Below is how you modules can be\n",
    "# Feels free to adjsut as you like\n",
    "for run in range(n_runs):\n",
    "    print(f\"Run {run+1}/{n_runs}\")\n",
    "    seed = 100 + run  \n",
    "    env = gym.make('CartPole-v1')\n",
    "    set_seed(seed, env)\n",
    "    policy = Policy()\n",
    "    value_net = ValueNetwork()\n",
    "    optimizer_policy = optim.Adam(policy.parameters(), lr=1e-2)\n",
    "    optimizer_value = optim.Adam(value_net.parameters(), lr=1e-2)\n",
    "    scores = A2C(policy, value_net, env, optimizer_policy, optimizer_value, n_episodes=n_episodes)\n",
    "    all_scores.append(scores)\n",
    "    env.close()\n",
    "\n",
    "all_scores = np.array(all_scores)\n",
    "mean_scores = np.mean(all_scores, axis=0)\n",
    "std_scores = np.std(all_scores, axis=0)\n",
    "conf_interval = 1.96 * std_scores / np.sqrt(n_runs)\n",
    "\n",
    "episodes = np.arange(1, n_episodes + 1)\n",
    "\n",
    "plt.figure(figsize=(12, 7))\n",
    "plt.plot(episodes, mean_scores, label='Mean Reward')\n",
    "plt.fill_between(episodes, mean_scores - conf_interval, mean_scores + conf_interval, alpha=0.3, color='blue', label='95% Confidence Interval')\n",
    "plt.xlabel('Episodes')\n",
    "plt.ylabel('Reward')\n",
    "plt.title('A2C: CartPole-v1\\nMean and 95% Confidence Interval over 5 runs')\n",
    "plt.legend()\n",
    "plt.grid(True)\n",
    "plt.show()"
   ]
  },
  {
   "cell_type": "markdown",
   "id": "24ebaa32",
   "metadata": {},
   "source": [
    "Q1) Plot the average return with 5 different seed, mean and std."
   ]
  },
  {
   "cell_type": "markdown",
   "id": "fabc2127",
   "metadata": {},
   "source": [
    "Q2) Explain the SAC algorithm; what is different between SAC and DQN? "
   ]
  },
  {
   "cell_type": "markdown",
   "id": "246b0f9b",
   "metadata": {},
   "source": [
    "Q3) According to the diagram which is given in the previous question, how is SAC categorized?\n"
   ]
  },
  {
   "cell_type": "markdown",
   "id": "ce2c40b4",
   "metadata": {},
   "source": [
    "Q4) Explain each components in SAC, and functionality."
   ]
  },
  {
   "cell_type": "markdown",
   "id": "b32b1376",
   "metadata": {},
   "source": []
  }
 ],
 "metadata": {
  "kernelspec": {
   "display_name": "venv",
   "language": "python",
   "name": "python3"
  },
  "language_info": {
   "codemirror_mode": {
    "name": "ipython",
    "version": 3
   },
   "file_extension": ".py",
   "mimetype": "text/x-python",
   "name": "python",
   "nbconvert_exporter": "python",
   "pygments_lexer": "ipython3",
   "version": "3.12.3"
  }
 },
 "nbformat": 4,
 "nbformat_minor": 5
}
