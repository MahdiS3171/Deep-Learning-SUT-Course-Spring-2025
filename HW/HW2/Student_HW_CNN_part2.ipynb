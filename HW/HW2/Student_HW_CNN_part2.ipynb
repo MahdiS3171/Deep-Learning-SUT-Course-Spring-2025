{
  "cells": [
    {
      "cell_type": "markdown",
      "metadata": {
        "id": "Z06orXchgkaR"
      },
      "source": [
        "# Personal Info"
      ]
    },
    {
      "cell_type": "markdown",
      "metadata": {
        "id": "z7P8Y1bOgkaT"
      },
      "source": [
        "Name: Seyyed Amirmahdi Sadrzadeh\n",
        "\n",
        "Student Number: 401102015"
      ]
    },
    {
      "cell_type": "markdown",
      "metadata": {
        "id": "ezCpyvWuDV8R"
      },
      "source": [
        "# Introduction\n",
        "\n",
        "* Importing libraries\n",
        "\n",
        "* Helper functions\n",
        "\n",
        "* Plotting functions\n",
        "\n",
        "* Set seed and set device"
      ]
    },
    {
      "cell_type": "markdown",
      "metadata": {
        "id": "wT6AGnZC0R6j"
      },
      "source": [
        "## Libraries\n",
        "\n",
        "First, let's download the necessary libraries that are used throughout the assignment."
      ]
    },
    {
      "cell_type": "code",
      "execution_count": 18,
      "metadata": {
        "id": "MRh3pWSc0N3d"
      },
      "outputs": [],
      "source": [
        "import time\n",
        "import torch\n",
        "import scipy.signal\n",
        "import numpy as np\n",
        "import matplotlib.pyplot as plt\n",
        "\n",
        "import torch.nn as nn\n",
        "import torch.nn.functional as F\n",
        "\n",
        "import torchvision.transforms as transforms\n",
        "import torchvision.datasets as datasets\n",
        "from torch.utils.data import DataLoader\n",
        "\n",
        "from tqdm.notebook import tqdm, trange\n",
        "from PIL import Image\n",
        "import requests, os\n",
        "import random"
      ]
    },
    {
      "cell_type": "markdown",
      "metadata": {
        "id": "7zbHOFOL0uxT"
      },
      "source": [
        "## Helper Functioins"
      ]
    },
    {
      "cell_type": "code",
      "execution_count": 19,
      "metadata": {
        "id": "V-epTjVD0wRq"
      },
      "outputs": [],
      "source": [
        "from scipy.signal import correlate2d\n",
        "import zipfile, gzip, shutil, tarfile\n",
        "\n",
        "\n",
        "def download_data(fname, folder, url, tar):\n",
        "  \"\"\"\n",
        "  Data downloading from OSF.\n",
        "\n",
        "  Args:\n",
        "    fname : str\n",
        "      The name of the archive\n",
        "    folder : str\n",
        "      The name of the destination folder\n",
        "    url : str\n",
        "      The download url\n",
        "    tar : boolean\n",
        "      `tar=True` the archive is `fname`.tar.gz, `tar=False` is `fname`.zip\n",
        "\n",
        "  Returns:\n",
        "    Nothing.\n",
        "  \"\"\"\n",
        "\n",
        "  if not os.path.exists(folder):\n",
        "    print(f'\\nDownloading {folder} dataset...')\n",
        "    r = requests.get(url, allow_redirects=True)\n",
        "    with open(fname, 'wb') as fh:\n",
        "      fh.write(r.content)\n",
        "    print(f'\\nDownloading {folder} completed.')\n",
        "\n",
        "    print('\\nExtracting the files...\\n')\n",
        "    if not tar:\n",
        "      with zipfile.ZipFile(fname, 'r') as fz:\n",
        "        fz.extractall()\n",
        "    else:\n",
        "      with tarfile.open(fname) as ft:\n",
        "        ft.extractall()\n",
        "    # Remove the archive\n",
        "    os.remove(fname)\n",
        "\n",
        "    # Extract all .gz files\n",
        "    foldername = folder + '/raw/'\n",
        "    for filename in os.listdir(foldername):\n",
        "      # Remove the extension\n",
        "      fname = filename.replace('.gz', '')\n",
        "      # Gunzip all files\n",
        "      with gzip.open(foldername + filename, 'rb') as f_in:\n",
        "        with open(foldername + fname, 'wb') as f_out:\n",
        "          shutil.copyfileobj(f_in, f_out)\n",
        "          os.remove(foldername+filename)\n",
        "  else:\n",
        "    print(f'{folder} dataset has already been downloaded.\\n')\n",
        "\n",
        "\n",
        "def test(model, device, data_loader):\n",
        "  \"\"\"\n",
        "  Test function\n",
        "\n",
        "  Args:\n",
        "    net: nn.module\n",
        "      Net instance\n",
        "    device: string\n",
        "      GPU/CUDA if available, CPU otherwise.\n",
        "    data_loader: torch.loader\n",
        "      Test loader\n",
        "\n",
        "  Returns:\n",
        "    acc: float\n",
        "      Test accuracy\n",
        "  \"\"\"\n",
        "  model.eval()\n",
        "  correct = 0\n",
        "  total = 0\n",
        "  for data in data_loader:\n",
        "    inputs, labels = data\n",
        "    inputs = inputs.to(device).float()\n",
        "    labels = labels.to(device).long()\n",
        "\n",
        "    outputs = model(inputs)\n",
        "    _, predicted = torch.max(outputs, 1)\n",
        "    total += labels.size(0)\n",
        "    correct += (predicted == labels).sum().item()\n",
        "\n",
        "  acc = 100 * correct / total\n",
        "  return f\"{acc}%\""
      ]
    },
    {
      "cell_type": "markdown",
      "metadata": {
        "id": "uuBjTiYn0xGR"
      },
      "source": [
        "## Plotting Functions"
      ]
    },
    {
      "cell_type": "code",
      "execution_count": 20,
      "metadata": {
        "id": "jwKMz8q401hp"
      },
      "outputs": [],
      "source": [
        "def display_image_from_greyscale_array(matrix, title):\n",
        "  \"\"\"\n",
        "  Display image from greyscale array\n",
        "\n",
        "  Args:\n",
        "    matrix: np.ndarray\n",
        "      Image\n",
        "    title: string\n",
        "      Title of plot\n",
        "\n",
        "  Returns:\n",
        "    Nothing\n",
        "  \"\"\"\n",
        "  _matrix = matrix.astype(np.uint8)\n",
        "  _img = Image.fromarray(_matrix, 'L')\n",
        "  plt.figure(figsize=(3, 3))\n",
        "  plt.imshow(_img, cmap='gray', vmin=0, vmax=255) # Using 220 instead of 255 so the examples show up better\n",
        "  plt.title(title)\n",
        "  plt.axis('off')\n",
        "\n",
        "\n",
        "def make_plots(original, actual_convolution, solution):\n",
        "  \"\"\"\n",
        "  Function to build original image/obtained solution and actual convolution\n",
        "\n",
        "  Args:\n",
        "    original: np.ndarray\n",
        "      Image\n",
        "    actual_convolution: np.ndarray\n",
        "      Expected convolution output\n",
        "    solution: np.ndarray\n",
        "      Obtained convolution output\n",
        "\n",
        "  Returns:\n",
        "    Nothing\n",
        "  \"\"\"\n",
        "  display_image_from_greyscale_array(original, \"Original Image\")\n",
        "  display_image_from_greyscale_array(actual_convolution, \"Convolution result\")\n",
        "  display_image_from_greyscale_array(solution, \"Your solution\")\n",
        "\n",
        "\n",
        "def plot_loss_accuracy(train_loss, train_acc,\n",
        "                       validation_loss, validation_acc):\n",
        "  \"\"\"\n",
        "  Code to plot loss and accuracy\n",
        "\n",
        "  Args:\n",
        "    train_loss: list\n",
        "      Log of training loss\n",
        "    validation_loss: list\n",
        "      Log of validation loss\n",
        "    train_acc: list\n",
        "      Log of training accuracy\n",
        "    validation_acc: list\n",
        "      Log of validation accuracy\n",
        "\n",
        "  Returns:\n",
        "    Nothing\n",
        "  \"\"\"\n",
        "  epochs = len(train_loss)\n",
        "  fig, (ax1, ax2) = plt.subplots(1, 2)\n",
        "  ax1.plot(list(range(epochs)), train_loss, label='Training Loss')\n",
        "  ax1.plot(list(range(epochs)), validation_loss, label='Validation Loss')\n",
        "  ax1.set_xlabel('Epochs')\n",
        "  ax1.set_ylabel('Loss')\n",
        "  ax1.set_title('Epoch vs Loss')\n",
        "  ax1.legend()\n",
        "\n",
        "  ax2.plot(list(range(epochs)), train_acc, label='Training Accuracy')\n",
        "  ax2.plot(list(range(epochs)), validation_acc, label='Validation Accuracy')\n",
        "  ax2.set_xlabel('Epochs')\n",
        "  ax2.set_ylabel('Accuracy')\n",
        "  ax2.set_title('Epoch vs Accuracy')\n",
        "  ax2.legend()\n",
        "  fig.set_size_inches(15.5, 5.5)"
      ]
    },
    {
      "cell_type": "markdown",
      "metadata": {
        "id": "s1sLVmlC1Qm3"
      },
      "source": [
        "## Set Random Seed and Set Device"
      ]
    },
    {
      "cell_type": "code",
      "execution_count": 21,
      "metadata": {
        "id": "y9UOSLTf1VG2"
      },
      "outputs": [],
      "source": [
        "# For DL it's important to set the random seed so that you can have a\n",
        "# baseline to compare your results to expected results.\n",
        "# Read more here: https://pytorch.org/docs/stable/notes/randomness.html\n",
        "\n",
        "def set_seed(seed=None, seed_torch=True):\n",
        "  \"\"\"\n",
        "  Function that controls randomness.\n",
        "  NumPy and random modules must be imported.\n",
        "\n",
        "  Args:\n",
        "    seed : Integer\n",
        "      A non-negative integer that defines the random state. Default is `None`.\n",
        "    seed_torch : Boolean\n",
        "      If `True` sets the random seed for pytorch tensors, so pytorch module\n",
        "      must be imported. Default is `True`.\n",
        "\n",
        "  Returns:\n",
        "    Nothing.\n",
        "  \"\"\"\n",
        "  if seed is None:\n",
        "    seed = np.random.choice(2 ** 32)\n",
        "  random.seed(seed)\n",
        "  np.random.seed(seed)\n",
        "  if seed_torch:\n",
        "    torch.manual_seed(seed)\n",
        "    torch.cuda.manual_seed_all(seed)\n",
        "    torch.cuda.manual_seed(seed)\n",
        "    torch.backends.cudnn.benchmark = False\n",
        "    torch.backends.cudnn.deterministic = True\n",
        "\n",
        "  print(f'Random seed {seed} has been set.')\n",
        "\n",
        "\n",
        "# In case that `DataLoader` is used\n",
        "def seed_worker(worker_id):\n",
        "  \"\"\"\n",
        "  DataLoader will reseed workers following randomness in\n",
        "  multi-process data loading algorithm.\n",
        "\n",
        "  Args:\n",
        "    worker_id: integer\n",
        "      ID of subprocess to seed. 0 means that\n",
        "      the data will be loaded in the main process\n",
        "      Refer: https://pytorch.org/docs/stable/data.html#data-loading-randomness for more details\n",
        "\n",
        "  Returns:\n",
        "    Nothing\n",
        "  \"\"\"\n",
        "  worker_seed = torch.initial_seed() % 2**32\n",
        "  np.random.seed(worker_seed)\n",
        "  random.seed(worker_seed)"
      ]
    },
    {
      "cell_type": "code",
      "execution_count": 22,
      "metadata": {
        "id": "7-i7bxMq1jRl"
      },
      "outputs": [],
      "source": [
        "# using this function, you can be informed whether the notebook uses GPU or CPU.\n",
        "\n",
        "def set_device():\n",
        "  \"\"\"\n",
        "  Set the device. CUDA if available, CPU otherwise\n",
        "\n",
        "  Args:\n",
        "    None\n",
        "\n",
        "  Returns:\n",
        "    Nothing\n",
        "  \"\"\"\n",
        "  device = \"cuda\" if torch.cuda.is_available() else \"cpu\"\n",
        "  if device != \"cuda\":\n",
        "    print(\"WARNING: For this notebook to perform best, \"\n",
        "        \"if possible, in the menu under `Runtime` -> \"\n",
        "        \"`Change runtime type.`  select `GPU` \")\n",
        "  else:\n",
        "    print(\"GPU is enabled in this notebook.\")\n",
        "\n",
        "  return device"
      ]
    },
    {
      "cell_type": "code",
      "execution_count": 23,
      "metadata": {
        "colab": {
          "base_uri": "https://localhost:8080/",
          "height": 373
        },
        "id": "eZUdMmi31nEH",
        "outputId": "9c73a213-18ee-4491-924a-7efd26c66c58"
      },
      "outputs": [
        {
          "output_type": "error",
          "ename": "RuntimeError",
          "evalue": "CUDA error: device-side assert triggered\nCUDA kernel errors might be asynchronously reported at some other API call, so the stacktrace below might be incorrect.\nFor debugging consider passing CUDA_LAUNCH_BLOCKING=1\nCompile with `TORCH_USE_CUDA_DSA` to enable device-side assertions.\n",
          "traceback": [
            "\u001b[0;31m---------------------------------------------------------------------------\u001b[0m",
            "\u001b[0;31mRuntimeError\u001b[0m                              Traceback (most recent call last)",
            "\u001b[0;32m<ipython-input-23-c5ad19354d38>\u001b[0m in \u001b[0;36m<cell line: 0>\u001b[0;34m()\u001b[0m\n\u001b[1;32m      1\u001b[0m \u001b[0mSEED\u001b[0m \u001b[0;34m=\u001b[0m \u001b[0;36m1404\u001b[0m\u001b[0;34m\u001b[0m\u001b[0;34m\u001b[0m\u001b[0m\n\u001b[0;32m----> 2\u001b[0;31m \u001b[0mset_seed\u001b[0m\u001b[0;34m(\u001b[0m\u001b[0mseed\u001b[0m\u001b[0;34m=\u001b[0m\u001b[0mSEED\u001b[0m\u001b[0;34m)\u001b[0m\u001b[0;34m\u001b[0m\u001b[0;34m\u001b[0m\u001b[0m\n\u001b[0m\u001b[1;32m      3\u001b[0m \u001b[0mDEVICE\u001b[0m \u001b[0;34m=\u001b[0m \u001b[0mset_device\u001b[0m\u001b[0;34m(\u001b[0m\u001b[0;34m)\u001b[0m\u001b[0;34m\u001b[0m\u001b[0;34m\u001b[0m\u001b[0m\n",
            "\u001b[0;32m<ipython-input-21-6f31ebc07dc5>\u001b[0m in \u001b[0;36mset_seed\u001b[0;34m(seed, seed_torch)\u001b[0m\n\u001b[1;32m     23\u001b[0m   \u001b[0mnp\u001b[0m\u001b[0;34m.\u001b[0m\u001b[0mrandom\u001b[0m\u001b[0;34m.\u001b[0m\u001b[0mseed\u001b[0m\u001b[0;34m(\u001b[0m\u001b[0mseed\u001b[0m\u001b[0;34m)\u001b[0m\u001b[0;34m\u001b[0m\u001b[0;34m\u001b[0m\u001b[0m\n\u001b[1;32m     24\u001b[0m   \u001b[0;32mif\u001b[0m \u001b[0mseed_torch\u001b[0m\u001b[0;34m:\u001b[0m\u001b[0;34m\u001b[0m\u001b[0;34m\u001b[0m\u001b[0m\n\u001b[0;32m---> 25\u001b[0;31m     \u001b[0mtorch\u001b[0m\u001b[0;34m.\u001b[0m\u001b[0mmanual_seed\u001b[0m\u001b[0;34m(\u001b[0m\u001b[0mseed\u001b[0m\u001b[0;34m)\u001b[0m\u001b[0;34m\u001b[0m\u001b[0;34m\u001b[0m\u001b[0m\n\u001b[0m\u001b[1;32m     26\u001b[0m     \u001b[0mtorch\u001b[0m\u001b[0;34m.\u001b[0m\u001b[0mcuda\u001b[0m\u001b[0;34m.\u001b[0m\u001b[0mmanual_seed_all\u001b[0m\u001b[0;34m(\u001b[0m\u001b[0mseed\u001b[0m\u001b[0;34m)\u001b[0m\u001b[0;34m\u001b[0m\u001b[0;34m\u001b[0m\u001b[0m\n\u001b[1;32m     27\u001b[0m     \u001b[0mtorch\u001b[0m\u001b[0;34m.\u001b[0m\u001b[0mcuda\u001b[0m\u001b[0;34m.\u001b[0m\u001b[0mmanual_seed\u001b[0m\u001b[0;34m(\u001b[0m\u001b[0mseed\u001b[0m\u001b[0;34m)\u001b[0m\u001b[0;34m\u001b[0m\u001b[0;34m\u001b[0m\u001b[0m\n",
            "\u001b[0;32m/usr/local/lib/python3.11/dist-packages/torch/_compile.py\u001b[0m in \u001b[0;36minner\u001b[0;34m(*args, **kwargs)\u001b[0m\n\u001b[1;32m     30\u001b[0m                 \u001b[0mfn\u001b[0m\u001b[0;34m.\u001b[0m\u001b[0m__dynamo_disable\u001b[0m \u001b[0;34m=\u001b[0m \u001b[0mdisable_fn\u001b[0m\u001b[0;34m\u001b[0m\u001b[0;34m\u001b[0m\u001b[0m\n\u001b[1;32m     31\u001b[0m \u001b[0;34m\u001b[0m\u001b[0m\n\u001b[0;32m---> 32\u001b[0;31m             \u001b[0;32mreturn\u001b[0m \u001b[0mdisable_fn\u001b[0m\u001b[0;34m(\u001b[0m\u001b[0;34m*\u001b[0m\u001b[0margs\u001b[0m\u001b[0;34m,\u001b[0m \u001b[0;34m**\u001b[0m\u001b[0mkwargs\u001b[0m\u001b[0;34m)\u001b[0m\u001b[0;34m\u001b[0m\u001b[0;34m\u001b[0m\u001b[0m\n\u001b[0m\u001b[1;32m     33\u001b[0m \u001b[0;34m\u001b[0m\u001b[0m\n\u001b[1;32m     34\u001b[0m         \u001b[0;32mreturn\u001b[0m \u001b[0minner\u001b[0m\u001b[0;34m\u001b[0m\u001b[0;34m\u001b[0m\u001b[0m\n",
            "\u001b[0;32m/usr/local/lib/python3.11/dist-packages/torch/_dynamo/eval_frame.py\u001b[0m in \u001b[0;36m_fn\u001b[0;34m(*args, **kwargs)\u001b[0m\n\u001b[1;32m    743\u001b[0m             )\n\u001b[1;32m    744\u001b[0m             \u001b[0;32mtry\u001b[0m\u001b[0;34m:\u001b[0m\u001b[0;34m\u001b[0m\u001b[0;34m\u001b[0m\u001b[0m\n\u001b[0;32m--> 745\u001b[0;31m                 \u001b[0;32mreturn\u001b[0m \u001b[0mfn\u001b[0m\u001b[0;34m(\u001b[0m\u001b[0;34m*\u001b[0m\u001b[0margs\u001b[0m\u001b[0;34m,\u001b[0m \u001b[0;34m**\u001b[0m\u001b[0mkwargs\u001b[0m\u001b[0;34m)\u001b[0m\u001b[0;34m\u001b[0m\u001b[0;34m\u001b[0m\u001b[0m\n\u001b[0m\u001b[1;32m    746\u001b[0m             \u001b[0;32mfinally\u001b[0m\u001b[0;34m:\u001b[0m\u001b[0;34m\u001b[0m\u001b[0;34m\u001b[0m\u001b[0m\n\u001b[1;32m    747\u001b[0m                 \u001b[0m_maybe_set_eval_frame\u001b[0m\u001b[0;34m(\u001b[0m\u001b[0mprior\u001b[0m\u001b[0;34m)\u001b[0m\u001b[0;34m\u001b[0m\u001b[0;34m\u001b[0m\u001b[0m\n",
            "\u001b[0;32m/usr/local/lib/python3.11/dist-packages/torch/random.py\u001b[0m in \u001b[0;36mmanual_seed\u001b[0;34m(seed)\u001b[0m\n\u001b[1;32m     44\u001b[0m \u001b[0;34m\u001b[0m\u001b[0m\n\u001b[1;32m     45\u001b[0m     \u001b[0;32mif\u001b[0m \u001b[0;32mnot\u001b[0m \u001b[0mtorch\u001b[0m\u001b[0;34m.\u001b[0m\u001b[0mcuda\u001b[0m\u001b[0;34m.\u001b[0m\u001b[0m_is_in_bad_fork\u001b[0m\u001b[0;34m(\u001b[0m\u001b[0;34m)\u001b[0m\u001b[0;34m:\u001b[0m\u001b[0;34m\u001b[0m\u001b[0;34m\u001b[0m\u001b[0m\n\u001b[0;32m---> 46\u001b[0;31m         \u001b[0mtorch\u001b[0m\u001b[0;34m.\u001b[0m\u001b[0mcuda\u001b[0m\u001b[0;34m.\u001b[0m\u001b[0mmanual_seed_all\u001b[0m\u001b[0;34m(\u001b[0m\u001b[0mseed\u001b[0m\u001b[0;34m)\u001b[0m\u001b[0;34m\u001b[0m\u001b[0;34m\u001b[0m\u001b[0m\n\u001b[0m\u001b[1;32m     47\u001b[0m \u001b[0;34m\u001b[0m\u001b[0m\n\u001b[1;32m     48\u001b[0m     \u001b[0;32mimport\u001b[0m \u001b[0mtorch\u001b[0m\u001b[0;34m.\u001b[0m\u001b[0mmps\u001b[0m\u001b[0;34m\u001b[0m\u001b[0;34m\u001b[0m\u001b[0m\n",
            "\u001b[0;32m/usr/local/lib/python3.11/dist-packages/torch/cuda/random.py\u001b[0m in \u001b[0;36mmanual_seed_all\u001b[0;34m(seed)\u001b[0m\n\u001b[1;32m    125\u001b[0m             \u001b[0mdefault_generator\u001b[0m\u001b[0;34m.\u001b[0m\u001b[0mmanual_seed\u001b[0m\u001b[0;34m(\u001b[0m\u001b[0mseed\u001b[0m\u001b[0;34m)\u001b[0m\u001b[0;34m\u001b[0m\u001b[0;34m\u001b[0m\u001b[0m\n\u001b[1;32m    126\u001b[0m \u001b[0;34m\u001b[0m\u001b[0m\n\u001b[0;32m--> 127\u001b[0;31m     \u001b[0m_lazy_call\u001b[0m\u001b[0;34m(\u001b[0m\u001b[0mcb\u001b[0m\u001b[0;34m,\u001b[0m \u001b[0mseed_all\u001b[0m\u001b[0;34m=\u001b[0m\u001b[0;32mTrue\u001b[0m\u001b[0;34m)\u001b[0m\u001b[0;34m\u001b[0m\u001b[0;34m\u001b[0m\u001b[0m\n\u001b[0m\u001b[1;32m    128\u001b[0m \u001b[0;34m\u001b[0m\u001b[0m\n\u001b[1;32m    129\u001b[0m \u001b[0;34m\u001b[0m\u001b[0m\n",
            "\u001b[0;32m/usr/local/lib/python3.11/dist-packages/torch/cuda/__init__.py\u001b[0m in \u001b[0;36m_lazy_call\u001b[0;34m(callable, **kwargs)\u001b[0m\n\u001b[1;32m    247\u001b[0m \u001b[0;32mdef\u001b[0m \u001b[0m_lazy_call\u001b[0m\u001b[0;34m(\u001b[0m\u001b[0mcallable\u001b[0m\u001b[0;34m,\u001b[0m \u001b[0;34m**\u001b[0m\u001b[0mkwargs\u001b[0m\u001b[0;34m)\u001b[0m\u001b[0;34m:\u001b[0m\u001b[0;34m\u001b[0m\u001b[0;34m\u001b[0m\u001b[0m\n\u001b[1;32m    248\u001b[0m     \u001b[0;32mif\u001b[0m \u001b[0mis_initialized\u001b[0m\u001b[0;34m(\u001b[0m\u001b[0;34m)\u001b[0m\u001b[0;34m:\u001b[0m\u001b[0;34m\u001b[0m\u001b[0;34m\u001b[0m\u001b[0m\n\u001b[0;32m--> 249\u001b[0;31m         \u001b[0mcallable\u001b[0m\u001b[0;34m(\u001b[0m\u001b[0;34m)\u001b[0m\u001b[0;34m\u001b[0m\u001b[0;34m\u001b[0m\u001b[0m\n\u001b[0m\u001b[1;32m    250\u001b[0m     \u001b[0;32melse\u001b[0m\u001b[0;34m:\u001b[0m\u001b[0;34m\u001b[0m\u001b[0;34m\u001b[0m\u001b[0m\n\u001b[1;32m    251\u001b[0m         \u001b[0;31m# TODO(torch_deploy): this accesses linecache, which attempts to read the\u001b[0m\u001b[0;34m\u001b[0m\u001b[0;34m\u001b[0m\u001b[0m\n",
            "\u001b[0;32m/usr/local/lib/python3.11/dist-packages/torch/cuda/random.py\u001b[0m in \u001b[0;36mcb\u001b[0;34m()\u001b[0m\n\u001b[1;32m    123\u001b[0m         \u001b[0;32mfor\u001b[0m \u001b[0mi\u001b[0m \u001b[0;32min\u001b[0m \u001b[0mrange\u001b[0m\u001b[0;34m(\u001b[0m\u001b[0mdevice_count\u001b[0m\u001b[0;34m(\u001b[0m\u001b[0;34m)\u001b[0m\u001b[0;34m)\u001b[0m\u001b[0;34m:\u001b[0m\u001b[0;34m\u001b[0m\u001b[0;34m\u001b[0m\u001b[0m\n\u001b[1;32m    124\u001b[0m             \u001b[0mdefault_generator\u001b[0m \u001b[0;34m=\u001b[0m \u001b[0mtorch\u001b[0m\u001b[0;34m.\u001b[0m\u001b[0mcuda\u001b[0m\u001b[0;34m.\u001b[0m\u001b[0mdefault_generators\u001b[0m\u001b[0;34m[\u001b[0m\u001b[0mi\u001b[0m\u001b[0;34m]\u001b[0m\u001b[0;34m\u001b[0m\u001b[0;34m\u001b[0m\u001b[0m\n\u001b[0;32m--> 125\u001b[0;31m             \u001b[0mdefault_generator\u001b[0m\u001b[0;34m.\u001b[0m\u001b[0mmanual_seed\u001b[0m\u001b[0;34m(\u001b[0m\u001b[0mseed\u001b[0m\u001b[0;34m)\u001b[0m\u001b[0;34m\u001b[0m\u001b[0;34m\u001b[0m\u001b[0m\n\u001b[0m\u001b[1;32m    126\u001b[0m \u001b[0;34m\u001b[0m\u001b[0m\n\u001b[1;32m    127\u001b[0m     \u001b[0m_lazy_call\u001b[0m\u001b[0;34m(\u001b[0m\u001b[0mcb\u001b[0m\u001b[0;34m,\u001b[0m \u001b[0mseed_all\u001b[0m\u001b[0;34m=\u001b[0m\u001b[0;32mTrue\u001b[0m\u001b[0;34m)\u001b[0m\u001b[0;34m\u001b[0m\u001b[0;34m\u001b[0m\u001b[0m\n",
            "\u001b[0;31mRuntimeError\u001b[0m: CUDA error: device-side assert triggered\nCUDA kernel errors might be asynchronously reported at some other API call, so the stacktrace below might be incorrect.\nFor debugging consider passing CUDA_LAUNCH_BLOCKING=1\nCompile with `TORCH_USE_CUDA_DSA` to enable device-side assertions.\n"
          ]
        }
      ],
      "source": [
        "SEED = 1404\n",
        "set_seed(seed=SEED)\n",
        "DEVICE = set_device()"
      ]
    },
    {
      "cell_type": "markdown",
      "metadata": {
        "id": "geUh5n0hAaVS"
      },
      "source": [
        "# Reminder and a sample of training loop"
      ]
    },
    {
      "cell_type": "code",
      "execution_count": null,
      "metadata": {
        "id": "NkjvnW3mA1y2"
      },
      "outputs": [],
      "source": [
        "class emnist_net(nn.Module):\n",
        "\n",
        "\n",
        "  \"\"\"\n",
        "  Neural network instance with following structure\n",
        "  # Convolutional Layer 1: 1 --> 32, kernel_size=5, padding=2 + maxpooling\n",
        "  # Convolutional Block 2: 32 --> 64, kernel_size=5, padding=2 + maxpooling\n",
        "  # Fully Connected Layer 1: 3136 --> 128\n",
        "  # Fully Connected Layer 2: 128 --> 2\n",
        "  \"\"\"\n",
        "\n",
        "\n",
        "  def __init__(self):\n",
        "    \"\"\"\n",
        "    Initialise parameters of sample network\n",
        "\n",
        "    Args:\n",
        "      None\n",
        "\n",
        "    Returns:\n",
        "      Nothing\n",
        "    \"\"\"\n",
        "    super().__init__()\n",
        "\n",
        "    ####################################################################\n",
        "    # TODO:\n",
        "    # 1) Define the required layers according to the given structure\n",
        "\n",
        "    # comment the line below to test your code\n",
        "    # raise NotImplementedError(\"Define the required layers\")\n",
        "    ####################################################################\n",
        "\n",
        "    # 1)\n",
        "    self.conv1 = nn.Conv2d(in_channels=1, out_channels=32, kernel_size=5, padding=1)\n",
        "    self.conv2 = nn.Conv2d(in_channels=32, out_channels=64, kernel_size=5, padding=1)\n",
        "    self.fc1 = nn.Linear(64 * 7 * 7, 128)  # After two max pools, image size is reduced from 28x28 to 7x7\n",
        "    self.fc2 = nn.Linear(128, 26)\n",
        "\n",
        "\n",
        "  def forward(self, x):\n",
        "    \"\"\"\n",
        "    Forward pass of sample network\n",
        "\n",
        "    Args:\n",
        "      x: torch.tensor\n",
        "        Input features\n",
        "\n",
        "    Returns:\n",
        "      x: torch.tensor\n",
        "        Output after passing through sample network\n",
        "    \"\"\"\n",
        "\n",
        "    ####################################################################\n",
        "    # TODO:\n",
        "    # 2) Define forward pass for any input x (don't forget relus)\n",
        "\n",
        "    # comment the line below to test your code\n",
        "    # raise NotImplementedError(\"Define forward pass for any input x\")\n",
        "    ####################################################################\n",
        "\n",
        "    # 2)\n",
        "\n",
        "    # Conv layer 1.\n",
        "    x = self.conv1(x)\n",
        "    x = F.relu(x)\n",
        "    x = F.max_pool2d(x, kernel_size=2) # another way to implement maxpooling\n",
        "\n",
        "    # Conv layer 2.\n",
        "    x = self.conv2(x)\n",
        "    x = F.relu(x)\n",
        "    x = F.max_pool2d(x, kernel_size=2)\n",
        "\n",
        "    # Fully connected layer 1.\n",
        "    x = x.view(-1, 7 * 7 * 64)  # another way to flatten the output\n",
        "    x = self.fc1(x)\n",
        "    x = F.relu(x)\n",
        "\n",
        "    # Fully connected layer 2.\n",
        "    x = self.fc2(x)\n",
        "\n",
        "    return x"
      ]
    },
    {
      "cell_type": "code",
      "execution_count": null,
      "metadata": {
        "id": "UXArRmIoBEgv"
      },
      "outputs": [],
      "source": [
        "# Download the data\n",
        "\n",
        "fname = 'EMNIST.zip'\n",
        "folder = 'EMNIST'\n",
        "url = \"https://osf.io/xwfaj/download\"\n",
        "download_data(fname, folder, url, tar=False)\n",
        "\n",
        "mnist_train = datasets.EMNIST(root=\".\",\n",
        "                              train=True,\n",
        "                              transform=transforms.ToTensor(),\n",
        "                              download=False,\n",
        "                              split='letters')\n",
        "mnist_test = datasets.EMNIST(root=\".\",\n",
        "                             train=False,\n",
        "                             transform=transforms.ToTensor(),\n",
        "                             download=False,\n",
        "                             split='letters')\n",
        "\n",
        "# Labels should start from 0\n",
        "mnist_train.targets -= 1\n",
        "mnist_test.targets -= 1\n",
        "\n",
        "# Create data loaders\n",
        "g_seed = torch.Generator()\n",
        "g_seed.manual_seed(SEED)\n",
        "\n",
        "train_loader = torch.utils.data.DataLoader(mnist_train, batch_size=100,\n",
        "                                           shuffle=False,\n",
        "                                           num_workers=2,\n",
        "                                           worker_init_fn=seed_worker,\n",
        "                                           generator=g_seed)\n",
        "test_loader = torch.utils.data.DataLoader(mnist_test, batch_size=100,\n",
        "                                          shuffle=False,\n",
        "                                          num_workers=2,\n",
        "                                          worker_init_fn=seed_worker,\n",
        "                                          generator=g_seed)"
      ]
    },
    {
      "cell_type": "code",
      "execution_count": 17,
      "metadata": {
        "colab": {
          "base_uri": "https://localhost:8080/",
          "height": 408
        },
        "id": "InhZxcgJBlFu",
        "outputId": "e92222ce-c67b-49b7-997a-c757fe515502"
      },
      "outputs": [
        {
          "output_type": "error",
          "ename": "RuntimeError",
          "evalue": "CUDA error: device-side assert triggered\nCUDA kernel errors might be asynchronously reported at some other API call, so the stacktrace below might be incorrect.\nFor debugging consider passing CUDA_LAUNCH_BLOCKING=1\nCompile with `TORCH_USE_CUDA_DSA` to enable device-side assertions.\n",
          "traceback": [
            "\u001b[0;31m---------------------------------------------------------------------------\u001b[0m",
            "\u001b[0;31mRuntimeError\u001b[0m                              Traceback (most recent call last)",
            "\u001b[0;32m<ipython-input-17-d4b777f692e2>\u001b[0m in \u001b[0;36m<cell line: 0>\u001b[0;34m()\u001b[0m\n\u001b[1;32m      1\u001b[0m \u001b[0;31m# Training\u001b[0m\u001b[0;34m\u001b[0m\u001b[0;34m\u001b[0m\u001b[0m\n\u001b[1;32m      2\u001b[0m \u001b[0;34m\u001b[0m\u001b[0m\n\u001b[0;32m----> 3\u001b[0;31m \u001b[0mmodel\u001b[0m \u001b[0;34m=\u001b[0m \u001b[0memnist_net\u001b[0m\u001b[0;34m(\u001b[0m\u001b[0;34m)\u001b[0m\u001b[0;34m.\u001b[0m\u001b[0mto\u001b[0m\u001b[0;34m(\u001b[0m\u001b[0mDEVICE\u001b[0m\u001b[0;34m)\u001b[0m\u001b[0;34m\u001b[0m\u001b[0;34m\u001b[0m\u001b[0m\n\u001b[0m\u001b[1;32m      4\u001b[0m \u001b[0;34m\u001b[0m\u001b[0m\n\u001b[1;32m      5\u001b[0m \u001b[0;31m# Loss and Optimizer\u001b[0m\u001b[0;34m\u001b[0m\u001b[0;34m\u001b[0m\u001b[0m\n",
            "\u001b[0;32m/usr/local/lib/python3.11/dist-packages/torch/nn/modules/module.py\u001b[0m in \u001b[0;36mto\u001b[0;34m(self, *args, **kwargs)\u001b[0m\n\u001b[1;32m   1341\u001b[0m                     \u001b[0;32mraise\u001b[0m\u001b[0;34m\u001b[0m\u001b[0;34m\u001b[0m\u001b[0m\n\u001b[1;32m   1342\u001b[0m \u001b[0;34m\u001b[0m\u001b[0m\n\u001b[0;32m-> 1343\u001b[0;31m         \u001b[0;32mreturn\u001b[0m \u001b[0mself\u001b[0m\u001b[0;34m.\u001b[0m\u001b[0m_apply\u001b[0m\u001b[0;34m(\u001b[0m\u001b[0mconvert\u001b[0m\u001b[0;34m)\u001b[0m\u001b[0;34m\u001b[0m\u001b[0;34m\u001b[0m\u001b[0m\n\u001b[0m\u001b[1;32m   1344\u001b[0m \u001b[0;34m\u001b[0m\u001b[0m\n\u001b[1;32m   1345\u001b[0m     def register_full_backward_pre_hook(\n",
            "\u001b[0;32m/usr/local/lib/python3.11/dist-packages/torch/nn/modules/module.py\u001b[0m in \u001b[0;36m_apply\u001b[0;34m(self, fn, recurse)\u001b[0m\n\u001b[1;32m    901\u001b[0m         \u001b[0;32mif\u001b[0m \u001b[0mrecurse\u001b[0m\u001b[0;34m:\u001b[0m\u001b[0;34m\u001b[0m\u001b[0;34m\u001b[0m\u001b[0m\n\u001b[1;32m    902\u001b[0m             \u001b[0;32mfor\u001b[0m \u001b[0mmodule\u001b[0m \u001b[0;32min\u001b[0m \u001b[0mself\u001b[0m\u001b[0;34m.\u001b[0m\u001b[0mchildren\u001b[0m\u001b[0;34m(\u001b[0m\u001b[0;34m)\u001b[0m\u001b[0;34m:\u001b[0m\u001b[0;34m\u001b[0m\u001b[0;34m\u001b[0m\u001b[0m\n\u001b[0;32m--> 903\u001b[0;31m                 \u001b[0mmodule\u001b[0m\u001b[0;34m.\u001b[0m\u001b[0m_apply\u001b[0m\u001b[0;34m(\u001b[0m\u001b[0mfn\u001b[0m\u001b[0;34m)\u001b[0m\u001b[0;34m\u001b[0m\u001b[0;34m\u001b[0m\u001b[0m\n\u001b[0m\u001b[1;32m    904\u001b[0m \u001b[0;34m\u001b[0m\u001b[0m\n\u001b[1;32m    905\u001b[0m         \u001b[0;32mdef\u001b[0m \u001b[0mcompute_should_use_set_data\u001b[0m\u001b[0;34m(\u001b[0m\u001b[0mtensor\u001b[0m\u001b[0;34m,\u001b[0m \u001b[0mtensor_applied\u001b[0m\u001b[0;34m)\u001b[0m\u001b[0;34m:\u001b[0m\u001b[0;34m\u001b[0m\u001b[0;34m\u001b[0m\u001b[0m\n",
            "\u001b[0;32m/usr/local/lib/python3.11/dist-packages/torch/nn/modules/module.py\u001b[0m in \u001b[0;36m_apply\u001b[0;34m(self, fn, recurse)\u001b[0m\n\u001b[1;32m    928\u001b[0m             \u001b[0;31m# `with torch.no_grad():`\u001b[0m\u001b[0;34m\u001b[0m\u001b[0;34m\u001b[0m\u001b[0m\n\u001b[1;32m    929\u001b[0m             \u001b[0;32mwith\u001b[0m \u001b[0mtorch\u001b[0m\u001b[0;34m.\u001b[0m\u001b[0mno_grad\u001b[0m\u001b[0;34m(\u001b[0m\u001b[0;34m)\u001b[0m\u001b[0;34m:\u001b[0m\u001b[0;34m\u001b[0m\u001b[0;34m\u001b[0m\u001b[0m\n\u001b[0;32m--> 930\u001b[0;31m                 \u001b[0mparam_applied\u001b[0m \u001b[0;34m=\u001b[0m \u001b[0mfn\u001b[0m\u001b[0;34m(\u001b[0m\u001b[0mparam\u001b[0m\u001b[0;34m)\u001b[0m\u001b[0;34m\u001b[0m\u001b[0;34m\u001b[0m\u001b[0m\n\u001b[0m\u001b[1;32m    931\u001b[0m             \u001b[0mp_should_use_set_data\u001b[0m \u001b[0;34m=\u001b[0m \u001b[0mcompute_should_use_set_data\u001b[0m\u001b[0;34m(\u001b[0m\u001b[0mparam\u001b[0m\u001b[0;34m,\u001b[0m \u001b[0mparam_applied\u001b[0m\u001b[0;34m)\u001b[0m\u001b[0;34m\u001b[0m\u001b[0;34m\u001b[0m\u001b[0m\n\u001b[1;32m    932\u001b[0m \u001b[0;34m\u001b[0m\u001b[0m\n",
            "\u001b[0;32m/usr/local/lib/python3.11/dist-packages/torch/nn/modules/module.py\u001b[0m in \u001b[0;36mconvert\u001b[0;34m(t)\u001b[0m\n\u001b[1;32m   1327\u001b[0m                         \u001b[0mmemory_format\u001b[0m\u001b[0;34m=\u001b[0m\u001b[0mconvert_to_format\u001b[0m\u001b[0;34m,\u001b[0m\u001b[0;34m\u001b[0m\u001b[0;34m\u001b[0m\u001b[0m\n\u001b[1;32m   1328\u001b[0m                     )\n\u001b[0;32m-> 1329\u001b[0;31m                 return t.to(\n\u001b[0m\u001b[1;32m   1330\u001b[0m                     \u001b[0mdevice\u001b[0m\u001b[0;34m,\u001b[0m\u001b[0;34m\u001b[0m\u001b[0;34m\u001b[0m\u001b[0m\n\u001b[1;32m   1331\u001b[0m                     \u001b[0mdtype\u001b[0m \u001b[0;32mif\u001b[0m \u001b[0mt\u001b[0m\u001b[0;34m.\u001b[0m\u001b[0mis_floating_point\u001b[0m\u001b[0;34m(\u001b[0m\u001b[0;34m)\u001b[0m \u001b[0;32mor\u001b[0m \u001b[0mt\u001b[0m\u001b[0;34m.\u001b[0m\u001b[0mis_complex\u001b[0m\u001b[0;34m(\u001b[0m\u001b[0;34m)\u001b[0m \u001b[0;32melse\u001b[0m \u001b[0;32mNone\u001b[0m\u001b[0;34m,\u001b[0m\u001b[0;34m\u001b[0m\u001b[0;34m\u001b[0m\u001b[0m\n",
            "\u001b[0;31mRuntimeError\u001b[0m: CUDA error: device-side assert triggered\nCUDA kernel errors might be asynchronously reported at some other API call, so the stacktrace below might be incorrect.\nFor debugging consider passing CUDA_LAUNCH_BLOCKING=1\nCompile with `TORCH_USE_CUDA_DSA` to enable device-side assertions.\n"
          ]
        }
      ],
      "source": [
        "# Training\n",
        "\n",
        "model = emnist_net().to(DEVICE)\n",
        "\n",
        "# Loss and Optimizer\n",
        "criterion = nn.CrossEntropyLoss()\n",
        "optimizer = torch.optim.Adam(model.parameters(), lr=0.001)\n",
        "\n",
        "# Iterate through train set minibatchs\n",
        "for epoch in trange(3):\n",
        "  for images, labels in tqdm(train_loader):\n",
        "\n",
        "    # Zero out the gradients\n",
        "    optimizer.zero_grad()\n",
        "\n",
        "    # Forward pass\n",
        "    x = images\n",
        "\n",
        "    # Move the data to GPU for faster execution\n",
        "    x, labs = x.to(DEVICE), labels.to(DEVICE)\n",
        "    y = model(x)\n",
        "\n",
        "    # Calculate loss\n",
        "    loss = criterion(y, labs)\n",
        "\n",
        "    # Backpropagation and gradient update\n",
        "    loss.backward() # Calculate gradients\n",
        "    optimizer.step() # Apply gradient udpate\n",
        "\n",
        "\n",
        "# Testing\n",
        "correct = 0\n",
        "total = len(mnist_test)\n",
        "\n",
        "with torch.no_grad():\n",
        "  # Iterate through test set minibatchs\n",
        "  for images, labels in tqdm(test_loader):\n",
        "    # Forward pass\n",
        "    x = images\n",
        "      # Move the data to GPU for faster execution.\n",
        "    x, labs = x.to(DEVICE), labels.to(DEVICE)\n",
        "    y = model(x)\n",
        "\n",
        "    predictions = torch.argmax(y, dim=1)\n",
        "    correct += torch.sum((predictions == labs).float())\n",
        "\n",
        "print(f'Test accuracy: {correct / total * 100:.2f}%')"
      ]
    },
    {
      "cell_type": "markdown",
      "metadata": {
        "id": "XALNuY8MEFFs"
      },
      "source": [
        "# Download Fashion MNIST dataset\n",
        "\n",
        "* The dataset we are going to use consists of a training set of 60,000 examples and a test set of 10,000 examples.Each example is a 28x28 gray scale image, associated with a label from 10 classes.\n",
        "\n",
        "* Reducing the dataset to just the two categories (T-shirt/top and Shirt) reduces the training time to about 2 minutes."
      ]
    },
    {
      "cell_type": "code",
      "execution_count": null,
      "metadata": {
        "colab": {
          "base_uri": "https://localhost:8080/"
        },
        "id": "xJbt_LJREIZU",
        "outputId": "3d919408-dcc8-4840-af6c-6d81ca33abb8"
      },
      "outputs": [
        {
          "name": "stdout",
          "output_type": "stream",
          "text": [
            "\n",
            "Downloading FashionMNIST dataset...\n",
            "\n",
            "Downloading FashionMNIST completed.\n",
            "\n",
            "Extracting the files...\n",
            "\n"
          ]
        }
      ],
      "source": [
        "# webpage: https://github.com/zalandoresearch/fashion-mnist\n",
        "fname = 'FashionMNIST.tar.gz'\n",
        "folder = 'FashionMNIST'\n",
        "url = \"https://osf.io/dfhu5/download\"\n",
        "download_data(fname, folder, url, tar=True)"
      ]
    },
    {
      "cell_type": "code",
      "execution_count": null,
      "metadata": {
        "id": "EiZHjvQ4Epr6"
      },
      "outputs": [],
      "source": [
        "# need to split into train, validation, test\n",
        "def reduce_classes(data):\n",
        "  \"\"\"\n",
        "  Reducing Fashion-MNIST Data to two-categories:\n",
        "    T-Shirts and Shirts\n",
        "\n",
        "  Args:\n",
        "    data: torch.tensor\n",
        "      Training Data\n",
        "\n",
        "  Returns:\n",
        "    data: torch.tensor\n",
        "      Data with two classes\n",
        "  \"\"\"\n",
        "  # Only want T-Shirts (0) and Shirts (6) labels\n",
        "  train_idx = (data.targets == 0) | (data.targets == 6)\n",
        "  data.targets = data.targets[train_idx]\n",
        "  data.data = data.data[train_idx]\n",
        "\n",
        "  # Convert Xs predictions to 1, Os predictions to 0\n",
        "  data.targets[data.targets == 6] = 1\n",
        "\n",
        "  return data\n",
        "\n",
        "\n",
        "def get_fashion_mnist_dataset(binary=False, download=False, seed=0):\n",
        "  \"\"\"\n",
        "  Helper function to get Fashion MNIST data\n",
        "\n",
        "  Args:\n",
        "    binary: boolean\n",
        "      If True, training data has only two classes\n",
        "    download: boolean\n",
        "      If True, download training data\n",
        "    seed: int\n",
        "      Set seed for reproducibility [default: 0]\n",
        "\n",
        "  Returns:\n",
        "    train_data: torch.tensor\n",
        "      Training data\n",
        "    test_data: torch.tensor\n",
        "      Test data\n",
        "    validation_data: torch.tensor\n",
        "      Validation data\n",
        "  \"\"\"\n",
        "  transform = transforms.Compose([\n",
        "                                  transforms.ToTensor(),\n",
        "                                  transforms.Normalize((0.1307,), (0.3081,))\n",
        "                                  ])\n",
        "\n",
        "  train_data = datasets.FashionMNIST(root='.',\n",
        "                                     download=download,\n",
        "                                     train=True,\n",
        "                                     transform=transform)\n",
        "\n",
        "\n",
        "  test_data = datasets.FashionMNIST(root='.',\n",
        "                                    download=download,\n",
        "                                    train=False,\n",
        "                                    transform=transform)\n",
        "\n",
        "  if binary:\n",
        "    train_data = reduce_classes(train_data)\n",
        "    test_data = reduce_classes(test_data)\n",
        "\n",
        "  set_seed(seed)\n",
        "  validation_data, test_data = torch.utils.data.random_split(test_data,\n",
        "                                                             [int(0.8*len(test_data)),\n",
        "                                                              int(0.2*len(test_data))])\n",
        "\n",
        "  return train_data, validation_data, test_data"
      ]
    },
    {
      "cell_type": "markdown",
      "metadata": {
        "id": "T89RqHzwFS_V"
      },
      "source": [
        "Visualize the data"
      ]
    },
    {
      "cell_type": "code",
      "execution_count": null,
      "metadata": {
        "colab": {
          "base_uri": "https://localhost:8080/"
        },
        "id": "-v6inEBQFU_q",
        "outputId": "7fe7930d-73cb-4f74-c30a-fc1ceb829411"
      },
      "outputs": [
        {
          "name": "stdout",
          "output_type": "stream",
          "text": [
            "Random seed 1404 has been set.\n"
          ]
        }
      ],
      "source": [
        "#num_classes = 10\n",
        "#train_data, validation_data, test_data = get_fashion_mnist_dataset(seed=SEED)\n",
        "\n",
        "# Example of reducing the data into 2 categories\n",
        "num_classes = 2\n",
        "train_data, validation_data, test_data = get_fashion_mnist_dataset(binary=True, seed=SEED)"
      ]
    },
    {
      "cell_type": "code",
      "execution_count": null,
      "metadata": {
        "colab": {
          "base_uri": "https://localhost:8080/",
          "height": 869
        },
        "id": "uPKNNei5F0jw",
        "outputId": "8dd0d876-18a2-4082-9e77-8fc6a9321dc9"
      },
      "outputs": [
        {
          "data": {
            "image/png": "[encoded data removed]",
            "text/plain": [
              "<Figure size 1850x1050 with 6 Axes>"
            ]
          },
          "metadata": {},
          "output_type": "display_data"
        }
      ],
      "source": [
        "fig, ((ax1, ax2, ax3), (ax4, ax5, ax6)) = plt.subplots(2, 3, figsize=(12, 6))\n",
        "ax1.imshow(train_data[0][0].reshape(28, 28), cmap=plt.get_cmap('gray'))\n",
        "ax2.imshow(train_data[1][0].reshape(28, 28), cmap=plt.get_cmap('gray'))\n",
        "ax3.imshow(train_data[2][0].reshape(28, 28), cmap=plt.get_cmap('gray'))\n",
        "ax4.imshow(train_data[3][0].reshape(28, 28), cmap=plt.get_cmap('gray'))\n",
        "ax5.imshow(train_data[4][0].reshape(28, 28), cmap=plt.get_cmap('gray'))\n",
        "ax6.imshow(train_data[5][0].reshape(28, 28), cmap=plt.get_cmap('gray'))\n",
        "fig.set_size_inches(18.5, 10.5)\n",
        "plt.show()"
      ]
    },
    {
      "cell_type": "markdown",
      "metadata": {
        "id": "O3Tm1WztGd7k"
      },
      "source": [
        "# Getting the DataLoaders"
      ]
    },
    {
      "cell_type": "code",
      "execution_count": null,
      "metadata": {
        "id": "GVVqVsVRGfo4"
      },
      "outputs": [],
      "source": [
        "# It's good to take a better look at this section so that you also learn to define DataLoaders yourself\n",
        "\n",
        "def get_data_loaders(train_dataset, validation_dataset,\n",
        "                     test_dataset, seed,\n",
        "                     batch_size=64):\n",
        "  \"\"\"\n",
        "  Helper function to fetch dataloaders\n",
        "\n",
        "  Args:\n",
        "    train_dataset: torch.tensor\n",
        "      Training data\n",
        "    test_dataset: torch.tensor\n",
        "      Test data\n",
        "    validation_dataset: torch.tensor\n",
        "      Validation data\n",
        "    batch_size: int\n",
        "      Batch Size  [default: 64]\n",
        "    seed: int\n",
        "      Set seed for reproducibility\n",
        "\n",
        "  Returns:\n",
        "    train_loader: torch.loader\n",
        "      Training Data\n",
        "    test_loader: torch.loader\n",
        "      Test Data\n",
        "    validation_loader: torch.loader\n",
        "      Validation Data\n",
        "  \"\"\"\n",
        "\n",
        "  g_seed = torch.Generator()\n",
        "  g_seed.manual_seed(seed)\n",
        "\n",
        "  train_loader = DataLoader(train_dataset,\n",
        "                            batch_size=batch_size,\n",
        "                            shuffle=True,\n",
        "                            num_workers=2,\n",
        "                            worker_init_fn=seed_worker,\n",
        "                            generator=g_seed)\n",
        "  validation_loader = DataLoader(validation_dataset,\n",
        "                                 batch_size=batch_size,\n",
        "                                 shuffle=True,\n",
        "                                 num_workers=2,\n",
        "                                 worker_init_fn=seed_worker,\n",
        "                                 generator=g_seed)\n",
        "  test_loader = DataLoader(test_dataset,\n",
        "                           batch_size=batch_size,\n",
        "                           shuffle=True,\n",
        "                           num_workers=2,\n",
        "                           worker_init_fn=seed_worker,\n",
        "                           generator=g_seed)\n",
        "\n",
        "  return train_loader, validation_loader, test_loader\n",
        "\n",
        "\n",
        "train_loader, validation_loader, test_loader = get_data_loaders(train_data,\n",
        "                                                                validation_data,\n",
        "                                                                test_data, SEED)"
      ]
    },
    {
      "cell_type": "markdown",
      "metadata": {
        "id": "SNbjlXLjCIwi"
      },
      "source": [
        "# Code the training loop\n",
        "\n",
        "You already coded the structure of a CNN. Now, you are going to implement the training loop for a CNN.\n",
        "\n",
        "* Choose the correct criterion\n",
        "\n",
        "* Code the training part (calculating gradients, loss, stepping forward)\n",
        "\n",
        "* Keep a track of the running loss"
      ]
    },
    {
      "cell_type": "code",
      "execution_count": null,
      "metadata": {
        "id": "JPPrVKYoFXYd"
      },
      "outputs": [],
      "source": [
        "class FMNIST_Net1(nn.Module):\n",
        "\n",
        "  def __init__(self, num_classes):\n",
        "    \"\"\"\n",
        "    Initialise parameters of CNN\n",
        "\n",
        "    Args:\n",
        "      num_classes: int\n",
        "        Number of classes\n",
        "\n",
        "    Returns:\n",
        "      Nothing\n",
        "    \"\"\"\n",
        "    super(FMNIST_Net1, self).__init__()\n",
        "    self.conv1 = nn.Conv2d(1, 32, 3, 1)\n",
        "    self.conv2 = nn.Conv2d(32, 64, 3, 1)\n",
        "    self.fc1 = nn.Linear(9216, 128)\n",
        "    self.fc2 = nn.Linear(128, num_classes)\n",
        "\n",
        "  def forward(self, x):\n",
        "    \"\"\"\n",
        "\n",
        "    Args:\n",
        "      x: torch.tensor\n",
        "        Input features\n",
        "\n",
        "    Returns:\n",
        "      x: torch.tensor\n",
        "        Output after passing through CNN\n",
        "    \"\"\"\n",
        "    x = self.conv1(x)\n",
        "    x = F.relu(x)\n",
        "    x = self.conv2(x)\n",
        "    x = F.relu(x)\n",
        "    x = F.max_pool2d(x, 2)\n",
        "    x = torch.flatten(x, 1)\n",
        "    x = self.fc1(x)\n",
        "    x = F.relu(x)\n",
        "    x = self.fc2(x)\n",
        "\n",
        "    return x"
      ]
    },
    {
      "cell_type": "code",
      "execution_count": null,
      "metadata": {
        "colab": {
          "base_uri": "https://localhost:8080/",
          "height": 593,
          "referenced_widgets": [
            "43560a96623940738e529354914fbab6",
            "49af39d85ff9464187fce0601f1d8e08",
            "b338fd0e8b4242f2877eaf4b28db7be6",
            "7ecdb16aa18444f297c4a73b383b602f",
            "38a4ffd0491940a0ac626bd1684c731a",
            "a1c048f21a2842ae8e95764dda4bc688",
            "f34f93c5d8dc42c29cde006621968ad5",
            "1c01a23cbd2a4d82bdf5a626914764b9",
            "99a2ed73393b4fb9bc7caf5aa1f09c90",
            "c3cd9f841bee49f3821aaff4560d309d",
            "64ec8794f62d43719083bfcf1d510f30"
          ]
        },
        "id": "Klsn-CKlIs2B",
        "outputId": "70a7d754-7159-491e-c006-f58166bd1614"
      },
      "outputs": [
        {
          "name": "stdout",
          "output_type": "stream",
          "text": [
            "Random seed 1404 has been set.\n"
          ]
        },
        {
          "data": {
            "application/vnd.jupyter.widget-view+json": {
              "model_id": "43560a96623940738e529354914fbab6",
              "version_major": 2,
              "version_minor": 0
            },
            "text/plain": [
              "  0%|          | 0/20 [00:00<?, ?epoch/s]"
            ]
          },
          "metadata": {},
          "output_type": "display_data"
        },
        {
          "name": "stdout",
          "output_type": "stream",
          "text": [
            "Test accuracy is: 86.5%\n"
          ]
        },
        {
          "data": {
            "image/png": "[encoded data removed]",
            "text/plain": [
              "<Figure size 1550x550 with 2 Axes>"
            ]
          },
          "metadata": {},
          "output_type": "display_data"
        }
      ],
      "source": [
        "def train(model, device, train_loader, validation_loader, epochs):\n",
        "  \"\"\"\n",
        "  Args:\n",
        "    model: nn.module\n",
        "      Neural network instance\n",
        "    device: string\n",
        "      GPU/CUDA if available, CPU otherwise\n",
        "    epochs: int\n",
        "      Number of epochs\n",
        "    train_loader: torch.loader\n",
        "      Training Set\n",
        "    validation_loader: torch.loader\n",
        "      Validation set\n",
        "\n",
        "  Returns:\n",
        "    Nothing\n",
        "  \"\"\"\n",
        "\n",
        "\n",
        "  ####################################################################\n",
        "  # TODO:\n",
        "  # Code the training loop by following the steps\n",
        "\n",
        "  # comment the line below to test your code\n",
        "  raise NotImplementedError(\"Update the steps of the train loop\")\n",
        "  ####################################################################\n",
        "\n",
        "  # 1) set the criterion to CrossEntropyLoss\n",
        "  criterion =  ...\n",
        "\n",
        "  # 2) set the optimizer to SGD --> lr=0.01, momentum=0.9\n",
        "  optimizer = ...\n",
        "\n",
        "  train_loss, validation_loss = [], []\n",
        "  train_acc, validation_acc = [], []\n",
        "\n",
        "  with tqdm(range(epochs), unit='epoch') as tepochs:\n",
        "    tepochs.set_description('Training')\n",
        "    for epoch in tepochs:\n",
        "      model.train()\n",
        "      # Keeps track of the running loss\n",
        "      running_loss = 0.\n",
        "      correct, total = 0, 0\n",
        "      for data, target in train_loader:\n",
        "        data, target = data.to(device), target.to(device)\n",
        "\n",
        "        # 3) Get the model output\n",
        "        output = ...\n",
        "\n",
        "        # 4) Zero the gradients out\n",
        "        ...\n",
        "\n",
        "        # 5) Get the Loss\n",
        "        loss = ... # --> call the loss criterion with the model's output and the target values\n",
        "\n",
        "        # 6) Calculate the gradients\n",
        "        ...\n",
        "\n",
        "        # 7) Update the weights\n",
        "        ...\n",
        "\n",
        "        # 8) Set loss to whatever you end up naming your variable when calling criterion\n",
        "        # then set loss = loss.item() in the set_postfix function\n",
        "        tepochs.set_postfix(...)\n",
        "\n",
        "        # 9) Add the loss for this batch\n",
        "        running_loss += ...\n",
        "\n",
        "        # Get accuracy\n",
        "        _, predicted = torch.max(output, 1)\n",
        "        total += target.size(0)\n",
        "        correct += (predicted == target).sum().item()\n",
        "\n",
        "      # 10) Append the loss for this epoch (running loss divided by the number of batches)\n",
        "      # hint --> you can number of batches from train_loader\n",
        "      train_loss.append(...)\n",
        "      train_acc.append(correct / total)\n",
        "\n",
        "      # 11) complete according to above\n",
        "      # Evaluate on validation data\n",
        "      model.eval()\n",
        "      running_loss = 0.\n",
        "      correct, total = 0, 0\n",
        "      for data, target in validation_loader:\n",
        "        data, target = data.to(device), target.to(device)\n",
        "\n",
        "        # Zero the gradients out\n",
        "        ...\n",
        "\n",
        "        # Get the model output\n",
        "        output = ...\n",
        "\n",
        "        # Get the Loss\n",
        "        loss = ...\n",
        "\n",
        "        # complete as above\n",
        "        tepochs.set_postfix(...)\n",
        "        running_loss += ...\n",
        "\n",
        "        # Get accuracy\n",
        "        _, predicted = ...\n",
        "        total += ...\n",
        "        correct += (...).sum().item()\n",
        "\n",
        "      validation_loss.append(...)\n",
        "      validation_acc.append(...)\n",
        "\n",
        "  return train_loss, train_acc, validation_loss, validation_acc\n",
        "\n",
        "\n",
        "set_seed(SEED)\n",
        "## Uncomment to test your training loop\n",
        "net = FMNIST_Net1(num_classes=2).to(DEVICE)\n",
        "train_loss, train_acc, validation_loss, validation_acc = train(net, DEVICE, train_loader, validation_loader, 20)\n",
        "print(f'Test accuracy is: {test(net, DEVICE, test_loader)}')\n",
        "\n",
        "plot_loss_accuracy(train_loss, train_acc, validation_loss, validation_acc)"
      ]
    },
    {
      "cell_type": "markdown",
      "metadata": {
        "id": "Ax8Nyns4cdQ9"
      },
      "source": [
        "**Q1: Do you think this network is overfitting? If so, what ways do you recommend to face this problem?**"
      ]
    },
    {
      "cell_type": "markdown",
      "metadata": {
        "id": "pczUIQ0OdLfj"
      },
      "source": [
        "# Confronting Overfitting"
      ]
    },
    {
      "cell_type": "markdown",
      "metadata": {
        "id": "2Mr-llA0dPb-"
      },
      "source": [
        "## Reugulariztion\n",
        "\n",
        "* For this purpose, we'll try to add dropout regularization, and check if that helps reduce overfitting.\n",
        "\n",
        "* You'll be asked to try different regularization methods other that dropout."
      ]
    },
    {
      "cell_type": "code",
      "execution_count": null,
      "metadata": {
        "colab": {
          "base_uri": "https://localhost:8080/",
          "height": 593,
          "referenced_widgets": [
            "0598b038ca28494aa75128435e6efcc8",
            "d348a7c0f6b74c8aaabea5fac1774529",
            "808cdddacbf74cb4a0b5b4761db8f1d5",
            "acce10521a674dd98247db1ca24af535",
            "de60cc96c18b4b9281636f0c608de0da",
            "c15667ef1cea4df1bf1bab82098329c8",
            "0a64c6dd16964d18b4d96209d23677b6",
            "f5650e6e421c49a4b5f214e0962c7674",
            "2c7ad3f298d147d59000e442e1a70c02",
            "4ccae1dcd9b64dd681ffb00b45e77d0f",
            "91ed5414dec342d3a2f0f8e62ec82beb"
          ]
        },
        "id": "2DUjp5HDeOfh",
        "outputId": "259b9724-da1b-4f97-940b-22ae8ad34260"
      },
      "outputs": [
        {
          "name": "stdout",
          "output_type": "stream",
          "text": [
            "Random seed 1404 has been set.\n"
          ]
        },
        {
          "data": {
            "application/vnd.jupyter.widget-view+json": {
              "model_id": "0598b038ca28494aa75128435e6efcc8",
              "version_major": 2,
              "version_minor": 0
            },
            "text/plain": [
              "  0%|          | 0/20 [00:00<?, ?epoch/s]"
            ]
          },
          "metadata": {},
          "output_type": "display_data"
        },
        {
          "name": "stdout",
          "output_type": "stream",
          "text": [
            "Test accuracy is: 87.75%\n"
          ]
        },
        {
          "data": {
            "image/png": "[encoded data removed]",
            "text/plain": [
              "<Figure size 1550x550 with 2 Axes>"
            ]
          },
          "metadata": {},
          "output_type": "display_data"
        }
      ],
      "source": [
        "class FMNIST_Net2(nn.Module):\n",
        "\n",
        "  def __init__(self, num_classes):\n",
        "    \"\"\"\n",
        "    Initialise parameters of FMNIST_Net2\n",
        "\n",
        "    Args:\n",
        "      num_classes: int\n",
        "        Number of classes\n",
        "\n",
        "    Returns:\n",
        "      Nothing\n",
        "    \"\"\"\n",
        "    super(FMNIST_Net2, self).__init__()\n",
        "\n",
        "\n",
        "    ####################################################################\n",
        "    # TODO:\n",
        "    # 1) Add dropout layers (set the dropout1 parameter to 0.5 and dropout2 to 0.25)\n",
        "\n",
        "    # comment the line below to test your code\n",
        "    raise NotImplementedError(\"Add regularization layers\")\n",
        "    ####################################################################\n",
        "\n",
        "\n",
        "    self.conv1 = nn.Conv2d(1, 32, 3, 1)\n",
        "    self.conv2 = nn.Conv2d(32, 64, 3, 1)\n",
        "    # 1)\n",
        "    self.dropout1 = ...\n",
        "    self.dropout2 = ...\n",
        "    self.fc1 = nn.Linear(9216, 128)\n",
        "    self.fc2 = nn.Linear(128, num_classes)\n",
        "\n",
        "  def forward(self, x):\n",
        "    \"\"\"\n",
        "    Forward pass of FMNIST_Net2\n",
        "\n",
        "    Args:\n",
        "      x: torch.tensor\n",
        "        Input features\n",
        "\n",
        "    Returns:\n",
        "      x: torch.tensor\n",
        "        Output after passing through FMNIST_Net2\n",
        "    \"\"\"\n",
        "\n",
        "    ####################################################################\n",
        "    # TODO:\n",
        "    # 2) Add the layers in your forward pass in appropriate order\n",
        "\n",
        "    # comment the line below to test your code\n",
        "    raise NotImplementedError(\"Add regularization layers\")\n",
        "    ####################################################################\n",
        "\n",
        "    # 2)\n",
        "    x = self.conv1(x)\n",
        "    x = F.relu(x)\n",
        "    x = self.conv2(x)\n",
        "    x = F.relu(x)\n",
        "    x = F.max_pool2d(x, 2)\n",
        "    x = ...\n",
        "    x = torch.flatten(x, 1)\n",
        "    x = self.fc1(x)\n",
        "    x = F.relu(x)\n",
        "    x = ...\n",
        "    x = self.fc2(x)\n",
        "    return x\n",
        "\n",
        "\n",
        "set_seed(SEED)\n",
        "\n",
        "net2 = FMNIST_Net2(num_classes=2).to(DEVICE)\n",
        "train_loss, train_acc, validation_loss, validation_acc = train(net2, DEVICE, train_loader, validation_loader, 20)\n",
        "print(f'Test accuracy is: {test(net2, DEVICE, test_loader)}')\n",
        "plot_loss_accuracy(train_loss, train_acc, validation_loss, validation_acc)"
      ]
    },
    {
      "cell_type": "markdown",
      "metadata": {
        "id": "h6E3StmUglD0"
      },
      "source": [
        "**Q2: Why does the validation accuracy start higher than training accuracy?**"
      ]
    },
    {
      "cell_type": "code",
      "execution_count": null,
      "metadata": {
        "id": "ySoSy1jDg6eq"
      },
      "outputs": [],
      "source": [
        "# Define a CNN instance similar to the one above and add different regularization methods to it\n",
        "\n",
        "# YOUR CODE"
      ]
    },
    {
      "cell_type": "markdown",
      "metadata": {
        "id": "DeVuirlgipMW"
      },
      "source": [
        "## Data Augmentation\n",
        "\n",
        "Now, Let's add data augmentation to the model via transforms and see if that helps it generalize better.\n",
        "\n",
        "* Add the transforms you want in the list `augmentation_transforms`.\n",
        "\n",
        "* Run the same network you created in the above exercise (with regularization) and plot the loss and accuracies.\n",
        "\n",
        "\n",
        "\n",
        "> [Here](https://pytorch.org/vision/stable/transforms.html) is the link to the list of transforms available in PyTorch.\n",
        "\n"
      ]
    },
    {
      "cell_type": "code",
      "execution_count": null,
      "metadata": {
        "id": "-hhiDEBRj590"
      },
      "outputs": [],
      "source": [
        "def transforms_custom(binary=False, download=False, seed=0):\n",
        "  \"\"\"\n",
        "  Helper function defining transformations\n",
        "\n",
        "  Args:\n",
        "    binary: boolean\n",
        "      If True, number of classes = 2\n",
        "    download: boolean\n",
        "      If True, download dataset\n",
        "    seed: int\n",
        "      Set seed for reproducibility\n",
        "\n",
        "  Returns:\n",
        "    train_loader: torch.loader\n",
        "      Training Set\n",
        "    test_loader: torch.loader\n",
        "      Test Set\n",
        "    validation_loader: torch.loader\n",
        "      Validation Set\n",
        "  \"\"\"\n",
        "  # Basic preprocessing\n",
        "  preprocessing_transforms = [transforms.ToTensor(),\n",
        "                              transforms.Normalize((0.1307,), (0.3081,))]\n",
        "  # Add the augmentation transforms to the preprocessing\n",
        "  train_transform = transforms.Compose(get_augmentation_transforms() +\n",
        "                                       preprocessing_transforms)\n",
        "  # Load the Fashion MNIST dataset with the transforms\n",
        "  train_data = datasets.FashionMNIST(root='.',\n",
        "                                     download=download,\n",
        "                                     train=True,\n",
        "                                     transform=train_transform)\n",
        "  if binary:\n",
        "    # Reduce to our two classes to speed up training\n",
        "    train_data = reduce_classes(train_data)\n",
        "\n",
        "  # Get the data loader instances for the dataset\n",
        "  train_loader, validation_loader, test_loader = get_data_loaders(train_data,\n",
        "                                                                  validation_data,\n",
        "                                                                  test_data,\n",
        "                                                                  seed)\n",
        "\n",
        "  return train_loader, validation_loader, test_loader"
      ]
    },
    {
      "cell_type": "code",
      "execution_count": null,
      "metadata": {
        "colab": {
          "base_uri": "https://localhost:8080/",
          "height": 593,
          "referenced_widgets": [
            "ff73ff2f4d834099927ae20e848f8439",
            "15f2e9df352d479ba3ac0b5eaf3c0e2b",
            "fa568433c11e422f9969edab81614a69",
            "d617ecbf6727432eb6f1115115c446f8",
            "adc5beee51f348eb99073401e156459a",
            "498697b7a8464272baf4f8c2bac578f9",
            "f9a92a23640c4adda7ee1b4f03cb6d60",
            "9c0b69b625ee4ff2b893ee82559d2d9a",
            "debab9357ac1462b9e5a343a686930db",
            "21b2569fbc6d40679d46db53ca53ab14",
            "8eeb4abef15844d4adffffc43b0b167a"
          ]
        },
        "id": "FdjyD0MnkIeZ",
        "outputId": "160a1d23-534f-4d90-9baf-dec63dfaf13f"
      },
      "outputs": [
        {
          "name": "stdout",
          "output_type": "stream",
          "text": [
            "Random seed 1404 has been set.\n"
          ]
        },
        {
          "data": {
            "application/vnd.jupyter.widget-view+json": {
              "model_id": "ff73ff2f4d834099927ae20e848f8439",
              "version_major": 2,
              "version_minor": 0
            },
            "text/plain": [
              "  0%|          | 0/20 [00:00<?, ?epoch/s]"
            ]
          },
          "metadata": {},
          "output_type": "display_data"
        },
        {
          "name": "stdout",
          "output_type": "stream",
          "text": [
            "Test accuracy is: 86.25%\n"
          ]
        },
        {
          "data": {
            "image/png": "[encoded data removed]",
            "text/plain": [
              "<Figure size 1550x550 with 2 Axes>"
            ]
          },
          "metadata": {},
          "output_type": "display_data"
        }
      ],
      "source": [
        "def get_augmentation_transforms():\n",
        "  \"\"\"\n",
        "  Returns Augmentation Transforms\n",
        "\n",
        "  Args:\n",
        "    None\n",
        "\n",
        "  Returns:\n",
        "    augmentation_transforms: list\n",
        "      List of augmentation transforms\n",
        "  \"\"\"\n",
        "\n",
        "  ####################################################################\n",
        "  # TODO:\n",
        "  # 1) Add transforms\n",
        "\n",
        "  # comment the line below to test your code\n",
        "  raise NotImplementedError(\"Add transforms\")\n",
        "  ####################################################################\n",
        "\n",
        "  # 1)\n",
        "  augmentation_transforms = [..., ...]\n",
        "\n",
        "  return augmentation_transforms\n",
        "\n",
        "\n",
        "set_seed(SEED)\n",
        "net3 = FMNIST_Net2(num_classes=2).to(DEVICE)  # Get the network\n",
        "\n",
        "train_loader, validation_loader, test_loader = transforms_custom(binary=True, seed=SEED)\n",
        "train_loss, train_acc, validation_loss, validation_acc = train(net3, DEVICE, train_loader, validation_loader, 20)\n",
        "print(f'Test accuracy is: {test(net3, DEVICE, test_loader)}')\n",
        "plot_loss_accuracy(train_loss, train_acc, validation_loss, validation_acc)"
      ]
    },
    {
      "cell_type": "markdown",
      "metadata": {
        "id": "zuiZHV7SkrJU"
      },
      "source": [
        "**Q3: Did the training accuracy reduce further compared to dropout alone? Is the model still overfitting?**"
      ]
    },
    {
      "cell_type": "markdown",
      "metadata": {
        "id": "t9ROkbb-NesO"
      },
      "source": [
        "# Further Tasks"
      ]
    },
    {
      "cell_type": "markdown",
      "metadata": {
        "id": "he0rbfDBNh84"
      },
      "source": [
        "## Task 1: BatchNorm Experiment\n",
        "\n",
        "Replace the dropout layers with `BatchNorm2d` layers. Compare performance, overfitting behavior, and convergence speed.\n",
        "\n",
        "**Q: which should be applied first if implementing both in a CNN? why?**"
      ]
    },
    {
      "cell_type": "code",
      "execution_count": null,
      "metadata": {
        "id": "5TOdRTr8Nlkc"
      },
      "outputs": [],
      "source": [
        "# YOUR CODE HERE"
      ]
    },
    {
      "cell_type": "markdown",
      "metadata": {
        "id": "TPLi2z9bPa33"
      },
      "source": [
        "## Task 2: Early Stopping\n",
        "\n",
        "Implement early stopping: stop training if validation loss doesn't improve for 3 epochs.\n",
        "\n",
        "**Q: How does this help preventing overfitting and saving computational cost?**"
      ]
    },
    {
      "cell_type": "code",
      "execution_count": null,
      "metadata": {
        "id": "8yPt0L06PtO9"
      },
      "outputs": [],
      "source": [
        "# YOUR CODE HERE"
      ]
    },
    {
      "cell_type": "markdown",
      "metadata": {
        "id": "WuBZSE99QBLA"
      },
      "source": [
        "## Task 3: Try New Augmentations\n",
        "\n",
        "Experiment with different augmentation strategies. How do they impact training?”"
      ]
    },
    {
      "cell_type": "code",
      "execution_count": null,
      "metadata": {
        "id": "JIPLi8tSQTLo"
      },
      "outputs": [],
      "source": [
        "# YOUR CODE HERE"
      ]
    },
    {
      "cell_type": "markdown",
      "metadata": {
        "id": "kgAf_PSqFZkp"
      },
      "source": [
        "## Task 4: Compare Optimizers\n",
        "\n",
        "Compare model performance when trained with SGD, Adam, and RMSProp. Plot the loss curves."
      ]
    },
    {
      "cell_type": "code",
      "execution_count": null,
      "metadata": {
        "id": "cmM0jGQRFceK"
      },
      "outputs": [],
      "source": [
        "# YOUR CODE HERE"
      ]
    }
  ],
  "metadata": {
    "accelerator": "GPU",
    "colab": {
      "collapsed_sections": [
        "s1sLVmlC1Qm3",
        "he0rbfDBNh84"
      ],
      "gpuType": "T4",
      "provenance": []
    },
    "kernelspec": {
      "display_name": "Python 3",
      "name": "python3"
    },
    "language_info": {
      "name": "python"
    },
    "widgets": {
      "application/vnd.jupyter.widget-state+json": {
        "0598b038ca28494aa75128435e6efcc8": {
          "model_module": "@jupyter-widgets/controls",
          "model_module_version": "1.5.0",
          "model_name": "HBoxModel",
          "state": {
            "_dom_classes": [],
            "_model_module": "@jupyter-widgets/controls",
            "_model_module_version": "1.5.0",
            "_model_name": "HBoxModel",
            "_view_count": null,
            "_view_module": "@jupyter-widgets/controls",
            "_view_module_version": "1.5.0",
            "_view_name": "HBoxView",
            "box_style": "",
            "children": [
              "IPY_MODEL_d348a7c0f6b74c8aaabea5fac1774529",
              "IPY_MODEL_808cdddacbf74cb4a0b5b4761db8f1d5",
              "IPY_MODEL_acce10521a674dd98247db1ca24af535"
            ],
            "layout": "IPY_MODEL_de60cc96c18b4b9281636f0c608de0da"
          }
        },
        "0a64c6dd16964d18b4d96209d23677b6": {
          "model_module": "@jupyter-widgets/controls",
          "model_module_version": "1.5.0",
          "model_name": "DescriptionStyleModel",
          "state": {
            "_model_module": "@jupyter-widgets/controls",
            "_model_module_version": "1.5.0",
            "_model_name": "DescriptionStyleModel",
            "_view_count": null,
            "_view_module": "@jupyter-widgets/base",
            "_view_module_version": "1.2.0",
            "_view_name": "StyleView",
            "description_width": ""
          }
        },
        "15f2e9df352d479ba3ac0b5eaf3c0e2b": {
          "model_module": "@jupyter-widgets/controls",
          "model_module_version": "1.5.0",
          "model_name": "HTMLModel",
          "state": {
            "_dom_classes": [],
            "_model_module": "@jupyter-widgets/controls",
            "_model_module_version": "1.5.0",
            "_model_name": "HTMLModel",
            "_view_count": null,
            "_view_module": "@jupyter-widgets/controls",
            "_view_module_version": "1.5.0",
            "_view_name": "HTMLView",
            "description": "",
            "description_tooltip": null,
            "layout": "IPY_MODEL_498697b7a8464272baf4f8c2bac578f9",
            "placeholder": "​",
            "style": "IPY_MODEL_f9a92a23640c4adda7ee1b4f03cb6d60",
            "value": "Training: 100%"
          }
        },
        "1c01a23cbd2a4d82bdf5a626914764b9": {
          "model_module": "@jupyter-widgets/base",
          "model_module_version": "1.2.0",
          "model_name": "LayoutModel",
          "state": {
            "_model_module": "@jupyter-widgets/base",
            "_model_module_version": "1.2.0",
            "_model_name": "LayoutModel",
            "_view_count": null,
            "_view_module": "@jupyter-widgets/base",
            "_view_module_version": "1.2.0",
            "_view_name": "LayoutView",
            "align_content": null,
            "align_items": null,
            "align_self": null,
            "border": null,
            "bottom": null,
            "display": null,
            "flex": null,
            "flex_flow": null,
            "grid_area": null,
            "grid_auto_columns": null,
            "grid_auto_flow": null,
            "grid_auto_rows": null,
            "grid_column": null,
            "grid_gap": null,
            "grid_row": null,
            "grid_template_areas": null,
            "grid_template_columns": null,
            "grid_template_rows": null,
            "height": null,
            "justify_content": null,
            "justify_items": null,
            "left": null,
            "margin": null,
            "max_height": null,
            "max_width": null,
            "min_height": null,
            "min_width": null,
            "object_fit": null,
            "object_position": null,
            "order": null,
            "overflow": null,
            "overflow_x": null,
            "overflow_y": null,
            "padding": null,
            "right": null,
            "top": null,
            "visibility": null,
            "width": null
          }
        },
        "21b2569fbc6d40679d46db53ca53ab14": {
          "model_module": "@jupyter-widgets/base",
          "model_module_version": "1.2.0",
          "model_name": "LayoutModel",
          "state": {
            "_model_module": "@jupyter-widgets/base",
            "_model_module_version": "1.2.0",
            "_model_name": "LayoutModel",
            "_view_count": null,
            "_view_module": "@jupyter-widgets/base",
            "_view_module_version": "1.2.0",
            "_view_name": "LayoutView",
            "align_content": null,
            "align_items": null,
            "align_self": null,
            "border": null,
            "bottom": null,
            "display": null,
            "flex": null,
            "flex_flow": null,
            "grid_area": null,
            "grid_auto_columns": null,
            "grid_auto_flow": null,
            "grid_auto_rows": null,
            "grid_column": null,
            "grid_gap": null,
            "grid_row": null,
            "grid_template_areas": null,
            "grid_template_columns": null,
            "grid_template_rows": null,
            "height": null,
            "justify_content": null,
            "justify_items": null,
            "left": null,
            "margin": null,
            "max_height": null,
            "max_width": null,
            "min_height": null,
            "min_width": null,
            "object_fit": null,
            "object_position": null,
            "order": null,
            "overflow": null,
            "overflow_x": null,
            "overflow_y": null,
            "padding": null,
            "right": null,
            "top": null,
            "visibility": null,
            "width": null
          }
        },
        "2c7ad3f298d147d59000e442e1a70c02": {
          "model_module": "@jupyter-widgets/controls",
          "model_module_version": "1.5.0",
          "model_name": "ProgressStyleModel",
          "state": {
            "_model_module": "@jupyter-widgets/controls",
            "_model_module_version": "1.5.0",
            "_model_name": "ProgressStyleModel",
            "_view_count": null,
            "_view_module": "@jupyter-widgets/base",
            "_view_module_version": "1.2.0",
            "_view_name": "StyleView",
            "bar_color": null,
            "description_width": ""
          }
        },
        "38a4ffd0491940a0ac626bd1684c731a": {
          "model_module": "@jupyter-widgets/base",
          "model_module_version": "1.2.0",
          "model_name": "LayoutModel",
          "state": {
            "_model_module": "@jupyter-widgets/base",
            "_model_module_version": "1.2.0",
            "_model_name": "LayoutModel",
            "_view_count": null,
            "_view_module": "@jupyter-widgets/base",
            "_view_module_version": "1.2.0",
            "_view_name": "LayoutView",
            "align_content": null,
            "align_items": null,
            "align_self": null,
            "border": null,
            "bottom": null,
            "display": null,
            "flex": null,
            "flex_flow": null,
            "grid_area": null,
            "grid_auto_columns": null,
            "grid_auto_flow": null,
            "grid_auto_rows": null,
            "grid_column": null,
            "grid_gap": null,
            "grid_row": null,
            "grid_template_areas": null,
            "grid_template_columns": null,
            "grid_template_rows": null,
            "height": null,
            "justify_content": null,
            "justify_items": null,
            "left": null,
            "margin": null,
            "max_height": null,
            "max_width": null,
            "min_height": null,
            "min_width": null,
            "object_fit": null,
            "object_position": null,
            "order": null,
            "overflow": null,
            "overflow_x": null,
            "overflow_y": null,
            "padding": null,
            "right": null,
            "top": null,
            "visibility": null,
            "width": null
          }
        },
        "43560a96623940738e529354914fbab6": {
          "model_module": "@jupyter-widgets/controls",
          "model_module_version": "1.5.0",
          "model_name": "HBoxModel",
          "state": {
            "_dom_classes": [],
            "_model_module": "@jupyter-widgets/controls",
            "_model_module_version": "1.5.0",
            "_model_name": "HBoxModel",
            "_view_count": null,
            "_view_module": "@jupyter-widgets/controls",
            "_view_module_version": "1.5.0",
            "_view_name": "HBoxView",
            "box_style": "",
            "children": [
              "IPY_MODEL_49af39d85ff9464187fce0601f1d8e08",
              "IPY_MODEL_b338fd0e8b4242f2877eaf4b28db7be6",
              "IPY_MODEL_7ecdb16aa18444f297c4a73b383b602f"
            ],
            "layout": "IPY_MODEL_38a4ffd0491940a0ac626bd1684c731a"
          }
        },
        "498697b7a8464272baf4f8c2bac578f9": {
          "model_module": "@jupyter-widgets/base",
          "model_module_version": "1.2.0",
          "model_name": "LayoutModel",
          "state": {
            "_model_module": "@jupyter-widgets/base",
            "_model_module_version": "1.2.0",
            "_model_name": "LayoutModel",
            "_view_count": null,
            "_view_module": "@jupyter-widgets/base",
            "_view_module_version": "1.2.0",
            "_view_name": "LayoutView",
            "align_content": null,
            "align_items": null,
            "align_self": null,
            "border": null,
            "bottom": null,
            "display": null,
            "flex": null,
            "flex_flow": null,
            "grid_area": null,
            "grid_auto_columns": null,
            "grid_auto_flow": null,
            "grid_auto_rows": null,
            "grid_column": null,
            "grid_gap": null,
            "grid_row": null,
            "grid_template_areas": null,
            "grid_template_columns": null,
            "grid_template_rows": null,
            "height": null,
            "justify_content": null,
            "justify_items": null,
            "left": null,
            "margin": null,
            "max_height": null,
            "max_width": null,
            "min_height": null,
            "min_width": null,
            "object_fit": null,
            "object_position": null,
            "order": null,
            "overflow": null,
            "overflow_x": null,
            "overflow_y": null,
            "padding": null,
            "right": null,
            "top": null,
            "visibility": null,
            "width": null
          }
        },
        "49af39d85ff9464187fce0601f1d8e08": {
          "model_module": "@jupyter-widgets/controls",
          "model_module_version": "1.5.0",
          "model_name": "HTMLModel",
          "state": {
            "_dom_classes": [],
            "_model_module": "@jupyter-widgets/controls",
            "_model_module_version": "1.5.0",
            "_model_name": "HTMLModel",
            "_view_count": null,
            "_view_module": "@jupyter-widgets/controls",
            "_view_module_version": "1.5.0",
            "_view_name": "HTMLView",
            "description": "",
            "description_tooltip": null,
            "layout": "IPY_MODEL_a1c048f21a2842ae8e95764dda4bc688",
            "placeholder": "​",
            "style": "IPY_MODEL_f34f93c5d8dc42c29cde006621968ad5",
            "value": "Training: 100%"
          }
        },
        "4ccae1dcd9b64dd681ffb00b45e77d0f": {
          "model_module": "@jupyter-widgets/base",
          "model_module_version": "1.2.0",
          "model_name": "LayoutModel",
          "state": {
            "_model_module": "@jupyter-widgets/base",
            "_model_module_version": "1.2.0",
            "_model_name": "LayoutModel",
            "_view_count": null,
            "_view_module": "@jupyter-widgets/base",
            "_view_module_version": "1.2.0",
            "_view_name": "LayoutView",
            "align_content": null,
            "align_items": null,
            "align_self": null,
            "border": null,
            "bottom": null,
            "display": null,
            "flex": null,
            "flex_flow": null,
            "grid_area": null,
            "grid_auto_columns": null,
            "grid_auto_flow": null,
            "grid_auto_rows": null,
            "grid_column": null,
            "grid_gap": null,
            "grid_row": null,
            "grid_template_areas": null,
            "grid_template_columns": null,
            "grid_template_rows": null,
            "height": null,
            "justify_content": null,
            "justify_items": null,
            "left": null,
            "margin": null,
            "max_height": null,
            "max_width": null,
            "min_height": null,
            "min_width": null,
            "object_fit": null,
            "object_position": null,
            "order": null,
            "overflow": null,
            "overflow_x": null,
            "overflow_y": null,
            "padding": null,
            "right": null,
            "top": null,
            "visibility": null,
            "width": null
          }
        },
        "64ec8794f62d43719083bfcf1d510f30": {
          "model_module": "@jupyter-widgets/controls",
          "model_module_version": "1.5.0",
          "model_name": "DescriptionStyleModel",
          "state": {
            "_model_module": "@jupyter-widgets/controls",
            "_model_module_version": "1.5.0",
            "_model_name": "DescriptionStyleModel",
            "_view_count": null,
            "_view_module": "@jupyter-widgets/base",
            "_view_module_version": "1.2.0",
            "_view_name": "StyleView",
            "description_width": ""
          }
        },
        "7ecdb16aa18444f297c4a73b383b602f": {
          "model_module": "@jupyter-widgets/controls",
          "model_module_version": "1.5.0",
          "model_name": "HTMLModel",
          "state": {
            "_dom_classes": [],
            "_model_module": "@jupyter-widgets/controls",
            "_model_module_version": "1.5.0",
            "_model_name": "HTMLModel",
            "_view_count": null,
            "_view_module": "@jupyter-widgets/controls",
            "_view_module_version": "1.5.0",
            "_view_name": "HTMLView",
            "description": "",
            "description_tooltip": null,
            "layout": "IPY_MODEL_c3cd9f841bee49f3821aaff4560d309d",
            "placeholder": "​",
            "style": "IPY_MODEL_64ec8794f62d43719083bfcf1d510f30",
            "value": " 20/20 [01:23&lt;00:00,  4.07s/epoch, loss=0.0697]"
          }
        },
        "808cdddacbf74cb4a0b5b4761db8f1d5": {
          "model_module": "@jupyter-widgets/controls",
          "model_module_version": "1.5.0",
          "model_name": "FloatProgressModel",
          "state": {
            "_dom_classes": [],
            "_model_module": "@jupyter-widgets/controls",
            "_model_module_version": "1.5.0",
            "_model_name": "FloatProgressModel",
            "_view_count": null,
            "_view_module": "@jupyter-widgets/controls",
            "_view_module_version": "1.5.0",
            "_view_name": "ProgressView",
            "bar_style": "success",
            "description": "",
            "description_tooltip": null,
            "layout": "IPY_MODEL_f5650e6e421c49a4b5f214e0962c7674",
            "max": 20,
            "min": 0,
            "orientation": "horizontal",
            "style": "IPY_MODEL_2c7ad3f298d147d59000e442e1a70c02",
            "value": 20
          }
        },
        "8eeb4abef15844d4adffffc43b0b167a": {
          "model_module": "@jupyter-widgets/controls",
          "model_module_version": "1.5.0",
          "model_name": "DescriptionStyleModel",
          "state": {
            "_model_module": "@jupyter-widgets/controls",
            "_model_module_version": "1.5.0",
            "_model_name": "DescriptionStyleModel",
            "_view_count": null,
            "_view_module": "@jupyter-widgets/base",
            "_view_module_version": "1.2.0",
            "_view_name": "StyleView",
            "description_width": ""
          }
        },
        "91ed5414dec342d3a2f0f8e62ec82beb": {
          "model_module": "@jupyter-widgets/controls",
          "model_module_version": "1.5.0",
          "model_name": "DescriptionStyleModel",
          "state": {
            "_model_module": "@jupyter-widgets/controls",
            "_model_module_version": "1.5.0",
            "_model_name": "DescriptionStyleModel",
            "_view_count": null,
            "_view_module": "@jupyter-widgets/base",
            "_view_module_version": "1.2.0",
            "_view_name": "StyleView",
            "description_width": ""
          }
        },
        "99a2ed73393b4fb9bc7caf5aa1f09c90": {
          "model_module": "@jupyter-widgets/controls",
          "model_module_version": "1.5.0",
          "model_name": "ProgressStyleModel",
          "state": {
            "_model_module": "@jupyter-widgets/controls",
            "_model_module_version": "1.5.0",
            "_model_name": "ProgressStyleModel",
            "_view_count": null,
            "_view_module": "@jupyter-widgets/base",
            "_view_module_version": "1.2.0",
            "_view_name": "StyleView",
            "bar_color": null,
            "description_width": ""
          }
        },
        "9c0b69b625ee4ff2b893ee82559d2d9a": {
          "model_module": "@jupyter-widgets/base",
          "model_module_version": "1.2.0",
          "model_name": "LayoutModel",
          "state": {
            "_model_module": "@jupyter-widgets/base",
            "_model_module_version": "1.2.0",
            "_model_name": "LayoutModel",
            "_view_count": null,
            "_view_module": "@jupyter-widgets/base",
            "_view_module_version": "1.2.0",
            "_view_name": "LayoutView",
            "align_content": null,
            "align_items": null,
            "align_self": null,
            "border": null,
            "bottom": null,
            "display": null,
            "flex": null,
            "flex_flow": null,
            "grid_area": null,
            "grid_auto_columns": null,
            "grid_auto_flow": null,
            "grid_auto_rows": null,
            "grid_column": null,
            "grid_gap": null,
            "grid_row": null,
            "grid_template_areas": null,
            "grid_template_columns": null,
            "grid_template_rows": null,
            "height": null,
            "justify_content": null,
            "justify_items": null,
            "left": null,
            "margin": null,
            "max_height": null,
            "max_width": null,
            "min_height": null,
            "min_width": null,
            "object_fit": null,
            "object_position": null,
            "order": null,
            "overflow": null,
            "overflow_x": null,
            "overflow_y": null,
            "padding": null,
            "right": null,
            "top": null,
            "visibility": null,
            "width": null
          }
        },
        "a1c048f21a2842ae8e95764dda4bc688": {
          "model_module": "@jupyter-widgets/base",
          "model_module_version": "1.2.0",
          "model_name": "LayoutModel",
          "state": {
            "_model_module": "@jupyter-widgets/base",
            "_model_module_version": "1.2.0",
            "_model_name": "LayoutModel",
            "_view_count": null,
            "_view_module": "@jupyter-widgets/base",
            "_view_module_version": "1.2.0",
            "_view_name": "LayoutView",
            "align_content": null,
            "align_items": null,
            "align_self": null,
            "border": null,
            "bottom": null,
            "display": null,
            "flex": null,
            "flex_flow": null,
            "grid_area": null,
            "grid_auto_columns": null,
            "grid_auto_flow": null,
            "grid_auto_rows": null,
            "grid_column": null,
            "grid_gap": null,
            "grid_row": null,
            "grid_template_areas": null,
            "grid_template_columns": null,
            "grid_template_rows": null,
            "height": null,
            "justify_content": null,
            "justify_items": null,
            "left": null,
            "margin": null,
            "max_height": null,
            "max_width": null,
            "min_height": null,
            "min_width": null,
            "object_fit": null,
            "object_position": null,
            "order": null,
            "overflow": null,
            "overflow_x": null,
            "overflow_y": null,
            "padding": null,
            "right": null,
            "top": null,
            "visibility": null,
            "width": null
          }
        },
        "acce10521a674dd98247db1ca24af535": {
          "model_module": "@jupyter-widgets/controls",
          "model_module_version": "1.5.0",
          "model_name": "HTMLModel",
          "state": {
            "_dom_classes": [],
            "_model_module": "@jupyter-widgets/controls",
            "_model_module_version": "1.5.0",
            "_model_name": "HTMLModel",
            "_view_count": null,
            "_view_module": "@jupyter-widgets/controls",
            "_view_module_version": "1.5.0",
            "_view_name": "HTMLView",
            "description": "",
            "description_tooltip": null,
            "layout": "IPY_MODEL_4ccae1dcd9b64dd681ffb00b45e77d0f",
            "placeholder": "​",
            "style": "IPY_MODEL_91ed5414dec342d3a2f0f8e62ec82beb",
            "value": " 20/20 [01:20&lt;00:00,  3.96s/epoch, loss=0.184]"
          }
        },
        "adc5beee51f348eb99073401e156459a": {
          "model_module": "@jupyter-widgets/base",
          "model_module_version": "1.2.0",
          "model_name": "LayoutModel",
          "state": {
            "_model_module": "@jupyter-widgets/base",
            "_model_module_version": "1.2.0",
            "_model_name": "LayoutModel",
            "_view_count": null,
            "_view_module": "@jupyter-widgets/base",
            "_view_module_version": "1.2.0",
            "_view_name": "LayoutView",
            "align_content": null,
            "align_items": null,
            "align_self": null,
            "border": null,
            "bottom": null,
            "display": null,
            "flex": null,
            "flex_flow": null,
            "grid_area": null,
            "grid_auto_columns": null,
            "grid_auto_flow": null,
            "grid_auto_rows": null,
            "grid_column": null,
            "grid_gap": null,
            "grid_row": null,
            "grid_template_areas": null,
            "grid_template_columns": null,
            "grid_template_rows": null,
            "height": null,
            "justify_content": null,
            "justify_items": null,
            "left": null,
            "margin": null,
            "max_height": null,
            "max_width": null,
            "min_height": null,
            "min_width": null,
            "object_fit": null,
            "object_position": null,
            "order": null,
            "overflow": null,
            "overflow_x": null,
            "overflow_y": null,
            "padding": null,
            "right": null,
            "top": null,
            "visibility": null,
            "width": null
          }
        },
        "b338fd0e8b4242f2877eaf4b28db7be6": {
          "model_module": "@jupyter-widgets/controls",
          "model_module_version": "1.5.0",
          "model_name": "FloatProgressModel",
          "state": {
            "_dom_classes": [],
            "_model_module": "@jupyter-widgets/controls",
            "_model_module_version": "1.5.0",
            "_model_name": "FloatProgressModel",
            "_view_count": null,
            "_view_module": "@jupyter-widgets/controls",
            "_view_module_version": "1.5.0",
            "_view_name": "ProgressView",
            "bar_style": "success",
            "description": "",
            "description_tooltip": null,
            "layout": "IPY_MODEL_1c01a23cbd2a4d82bdf5a626914764b9",
            "max": 20,
            "min": 0,
            "orientation": "horizontal",
            "style": "IPY_MODEL_99a2ed73393b4fb9bc7caf5aa1f09c90",
            "value": 20
          }
        },
        "c15667ef1cea4df1bf1bab82098329c8": {
          "model_module": "@jupyter-widgets/base",
          "model_module_version": "1.2.0",
          "model_name": "LayoutModel",
          "state": {
            "_model_module": "@jupyter-widgets/base",
            "_model_module_version": "1.2.0",
            "_model_name": "LayoutModel",
            "_view_count": null,
            "_view_module": "@jupyter-widgets/base",
            "_view_module_version": "1.2.0",
            "_view_name": "LayoutView",
            "align_content": null,
            "align_items": null,
            "align_self": null,
            "border": null,
            "bottom": null,
            "display": null,
            "flex": null,
            "flex_flow": null,
            "grid_area": null,
            "grid_auto_columns": null,
            "grid_auto_flow": null,
            "grid_auto_rows": null,
            "grid_column": null,
            "grid_gap": null,
            "grid_row": null,
            "grid_template_areas": null,
            "grid_template_columns": null,
            "grid_template_rows": null,
            "height": null,
            "justify_content": null,
            "justify_items": null,
            "left": null,
            "margin": null,
            "max_height": null,
            "max_width": null,
            "min_height": null,
            "min_width": null,
            "object_fit": null,
            "object_position": null,
            "order": null,
            "overflow": null,
            "overflow_x": null,
            "overflow_y": null,
            "padding": null,
            "right": null,
            "top": null,
            "visibility": null,
            "width": null
          }
        },
        "c3cd9f841bee49f3821aaff4560d309d": {
          "model_module": "@jupyter-widgets/base",
          "model_module_version": "1.2.0",
          "model_name": "LayoutModel",
          "state": {
            "_model_module": "@jupyter-widgets/base",
            "_model_module_version": "1.2.0",
            "_model_name": "LayoutModel",
            "_view_count": null,
            "_view_module": "@jupyter-widgets/base",
            "_view_module_version": "1.2.0",
            "_view_name": "LayoutView",
            "align_content": null,
            "align_items": null,
            "align_self": null,
            "border": null,
            "bottom": null,
            "display": null,
            "flex": null,
            "flex_flow": null,
            "grid_area": null,
            "grid_auto_columns": null,
            "grid_auto_flow": null,
            "grid_auto_rows": null,
            "grid_column": null,
            "grid_gap": null,
            "grid_row": null,
            "grid_template_areas": null,
            "grid_template_columns": null,
            "grid_template_rows": null,
            "height": null,
            "justify_content": null,
            "justify_items": null,
            "left": null,
            "margin": null,
            "max_height": null,
            "max_width": null,
            "min_height": null,
            "min_width": null,
            "object_fit": null,
            "object_position": null,
            "order": null,
            "overflow": null,
            "overflow_x": null,
            "overflow_y": null,
            "padding": null,
            "right": null,
            "top": null,
            "visibility": null,
            "width": null
          }
        },
        "d348a7c0f6b74c8aaabea5fac1774529": {
          "model_module": "@jupyter-widgets/controls",
          "model_module_version": "1.5.0",
          "model_name": "HTMLModel",
          "state": {
            "_dom_classes": [],
            "_model_module": "@jupyter-widgets/controls",
            "_model_module_version": "1.5.0",
            "_model_name": "HTMLModel",
            "_view_count": null,
            "_view_module": "@jupyter-widgets/controls",
            "_view_module_version": "1.5.0",
            "_view_name": "HTMLView",
            "description": "",
            "description_tooltip": null,
            "layout": "IPY_MODEL_c15667ef1cea4df1bf1bab82098329c8",
            "placeholder": "​",
            "style": "IPY_MODEL_0a64c6dd16964d18b4d96209d23677b6",
            "value": "Training: 100%"
          }
        },
        "d617ecbf6727432eb6f1115115c446f8": {
          "model_module": "@jupyter-widgets/controls",
          "model_module_version": "1.5.0",
          "model_name": "HTMLModel",
          "state": {
            "_dom_classes": [],
            "_model_module": "@jupyter-widgets/controls",
            "_model_module_version": "1.5.0",
            "_model_name": "HTMLModel",
            "_view_count": null,
            "_view_module": "@jupyter-widgets/controls",
            "_view_module_version": "1.5.0",
            "_view_name": "HTMLView",
            "description": "",
            "description_tooltip": null,
            "layout": "IPY_MODEL_21b2569fbc6d40679d46db53ca53ab14",
            "placeholder": "​",
            "style": "IPY_MODEL_8eeb4abef15844d4adffffc43b0b167a",
            "value": " 20/20 [01:46&lt;00:00,  5.21s/epoch, loss=0.116]"
          }
        },
        "de60cc96c18b4b9281636f0c608de0da": {
          "model_module": "@jupyter-widgets/base",
          "model_module_version": "1.2.0",
          "model_name": "LayoutModel",
          "state": {
            "_model_module": "@jupyter-widgets/base",
            "_model_module_version": "1.2.0",
            "_model_name": "LayoutModel",
            "_view_count": null,
            "_view_module": "@jupyter-widgets/base",
            "_view_module_version": "1.2.0",
            "_view_name": "LayoutView",
            "align_content": null,
            "align_items": null,
            "align_self": null,
            "border": null,
            "bottom": null,
            "display": null,
            "flex": null,
            "flex_flow": null,
            "grid_area": null,
            "grid_auto_columns": null,
            "grid_auto_flow": null,
            "grid_auto_rows": null,
            "grid_column": null,
            "grid_gap": null,
            "grid_row": null,
            "grid_template_areas": null,
            "grid_template_columns": null,
            "grid_template_rows": null,
            "height": null,
            "justify_content": null,
            "justify_items": null,
            "left": null,
            "margin": null,
            "max_height": null,
            "max_width": null,
            "min_height": null,
            "min_width": null,
            "object_fit": null,
            "object_position": null,
            "order": null,
            "overflow": null,
            "overflow_x": null,
            "overflow_y": null,
            "padding": null,
            "right": null,
            "top": null,
            "visibility": null,
            "width": null
          }
        },
        "debab9357ac1462b9e5a343a686930db": {
          "model_module": "@jupyter-widgets/controls",
          "model_module_version": "1.5.0",
          "model_name": "ProgressStyleModel",
          "state": {
            "_model_module": "@jupyter-widgets/controls",
            "_model_module_version": "1.5.0",
            "_model_name": "ProgressStyleModel",
            "_view_count": null,
            "_view_module": "@jupyter-widgets/base",
            "_view_module_version": "1.2.0",
            "_view_name": "StyleView",
            "bar_color": null,
            "description_width": ""
          }
        },
        "f34f93c5d8dc42c29cde006621968ad5": {
          "model_module": "@jupyter-widgets/controls",
          "model_module_version": "1.5.0",
          "model_name": "DescriptionStyleModel",
          "state": {
            "_model_module": "@jupyter-widgets/controls",
            "_model_module_version": "1.5.0",
            "_model_name": "DescriptionStyleModel",
            "_view_count": null,
            "_view_module": "@jupyter-widgets/base",
            "_view_module_version": "1.2.0",
            "_view_name": "StyleView",
            "description_width": ""
          }
        },
        "f5650e6e421c49a4b5f214e0962c7674": {
          "model_module": "@jupyter-widgets/base",
          "model_module_version": "1.2.0",
          "model_name": "LayoutModel",
          "state": {
            "_model_module": "@jupyter-widgets/base",
            "_model_module_version": "1.2.0",
            "_model_name": "LayoutModel",
            "_view_count": null,
            "_view_module": "@jupyter-widgets/base",
            "_view_module_version": "1.2.0",
            "_view_name": "LayoutView",
            "align_content": null,
            "align_items": null,
            "align_self": null,
            "border": null,
            "bottom": null,
            "display": null,
            "flex": null,
            "flex_flow": null,
            "grid_area": null,
            "grid_auto_columns": null,
            "grid_auto_flow": null,
            "grid_auto_rows": null,
            "grid_column": null,
            "grid_gap": null,
            "grid_row": null,
            "grid_template_areas": null,
            "grid_template_columns": null,
            "grid_template_rows": null,
            "height": null,
            "justify_content": null,
            "justify_items": null,
            "left": null,
            "margin": null,
            "max_height": null,
            "max_width": null,
            "min_height": null,
            "min_width": null,
            "object_fit": null,
            "object_position": null,
            "order": null,
            "overflow": null,
            "overflow_x": null,
            "overflow_y": null,
            "padding": null,
            "right": null,
            "top": null,
            "visibility": null,
            "width": null
          }
        },
        "f9a92a23640c4adda7ee1b4f03cb6d60": {
          "model_module": "@jupyter-widgets/controls",
          "model_module_version": "1.5.0",
          "model_name": "DescriptionStyleModel",
          "state": {
            "_model_module": "@jupyter-widgets/controls",
            "_model_module_version": "1.5.0",
            "_model_name": "DescriptionStyleModel",
            "_view_count": null,
            "_view_module": "@jupyter-widgets/base",
            "_view_module_version": "1.2.0",
            "_view_name": "StyleView",
            "description_width": ""
          }
        },
        "fa568433c11e422f9969edab81614a69": {
          "model_module": "@jupyter-widgets/controls",
          "model_module_version": "1.5.0",
          "model_name": "FloatProgressModel",
          "state": {
            "_dom_classes": [],
            "_model_module": "@jupyter-widgets/controls",
            "_model_module_version": "1.5.0",
            "_model_name": "FloatProgressModel",
            "_view_count": null,
            "_view_module": "@jupyter-widgets/controls",
            "_view_module_version": "1.5.0",
            "_view_name": "ProgressView",
            "bar_style": "success",
            "description": "",
            "description_tooltip": null,
            "layout": "IPY_MODEL_9c0b69b625ee4ff2b893ee82559d2d9a",
            "max": 20,
            "min": 0,
            "orientation": "horizontal",
            "style": "IPY_MODEL_debab9357ac1462b9e5a343a686930db",
            "value": 20
          }
        },
        "ff73ff2f4d834099927ae20e848f8439": {
          "model_module": "@jupyter-widgets/controls",
          "model_module_version": "1.5.0",
          "model_name": "HBoxModel",
          "state": {
            "_dom_classes": [],
            "_model_module": "@jupyter-widgets/controls",
            "_model_module_version": "1.5.0",
            "_model_name": "HBoxModel",
            "_view_count": null,
            "_view_module": "@jupyter-widgets/controls",
            "_view_module_version": "1.5.0",
            "_view_name": "HBoxView",
            "box_style": "",
            "children": [
              "IPY_MODEL_15f2e9df352d479ba3ac0b5eaf3c0e2b",
              "IPY_MODEL_fa568433c11e422f9969edab81614a69",
              "IPY_MODEL_d617ecbf6727432eb6f1115115c446f8"
            ],
            "layout": "IPY_MODEL_adc5beee51f348eb99073401e156459a"
          }
        }
      }
    }
  },
  "nbformat": 4,
  "nbformat_minor": 0
}