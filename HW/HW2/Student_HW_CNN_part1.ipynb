{
  "cells": [
    {
      "cell_type": "markdown",
      "metadata": {
        "id": "hqn4e6QrMkeG"
      },
      "source": [
        "# Personal Info"
      ]
    },
    {
      "cell_type": "markdown",
      "metadata": {
        "id": "x-LIet7AMkeI"
      },
      "source": [
        "Name: Seyyed Amirmahdi Sadrzadeh\n",
        "\n",
        "Student Number: 401102015"
      ]
    },
    {
      "cell_type": "markdown",
      "metadata": {
        "id": "ezCpyvWuDV8R"
      },
      "source": [
        "# Introduction\n",
        "\n",
        "* Importing libraries\n",
        "\n",
        "* Helper functions\n",
        "\n",
        "* Plotting functions\n",
        "\n",
        "* Set seed and set device"
      ]
    },
    {
      "cell_type": "markdown",
      "metadata": {
        "id": "wT6AGnZC0R6j"
      },
      "source": [
        "## Libraries\n",
        "\n",
        "First, let's download the necessary libraries that are used throughout the assignment."
      ]
    },
    {
      "cell_type": "code",
      "execution_count": 1,
      "metadata": {
        "id": "MRh3pWSc0N3d"
      },
      "outputs": [],
      "source": [
        "import time\n",
        "import torch\n",
        "import scipy.signal\n",
        "import numpy as np\n",
        "import matplotlib.pyplot as plt\n",
        "\n",
        "import torch.nn as nn\n",
        "import torch.nn.functional as F\n",
        "\n",
        "import torchvision.transforms as transforms\n",
        "import torchvision.datasets as datasets\n",
        "from torch.utils.data import DataLoader\n",
        "\n",
        "from tqdm.notebook import tqdm, trange\n",
        "from PIL import Image\n",
        "import requests, os\n",
        "import random"
      ]
    },
    {
      "cell_type": "markdown",
      "metadata": {
        "id": "7zbHOFOL0uxT"
      },
      "source": [
        "## Helper Functioins"
      ]
    },
    {
      "cell_type": "code",
      "execution_count": 2,
      "metadata": {
        "id": "V-epTjVD0wRq"
      },
      "outputs": [],
      "source": [
        "from scipy.signal import correlate2d\n",
        "import zipfile, gzip, shutil, tarfile\n",
        "\n",
        "\n",
        "def download_data(fname, folder, url, tar):\n",
        "  \"\"\"\n",
        "  Data downloading from OSF.\n",
        "\n",
        "  Args:\n",
        "    fname : str\n",
        "      The name of the archive\n",
        "    folder : str\n",
        "      The name of the destination folder\n",
        "    url : str\n",
        "      The download url\n",
        "    tar : boolean\n",
        "      `tar=True` the archive is `fname`.tar.gz, `tar=False` is `fname`.zip\n",
        "\n",
        "  Returns:\n",
        "    Nothing.\n",
        "  \"\"\"\n",
        "\n",
        "  if not os.path.exists(folder):\n",
        "    print(f'\\nDownloading {folder} dataset...')\n",
        "    r = requests.get(url, allow_redirects=True)\n",
        "    with open(fname, 'wb') as fh:\n",
        "      fh.write(r.content)\n",
        "    print(f'\\nDownloading {folder} completed.')\n",
        "\n",
        "    print('\\nExtracting the files...\\n')\n",
        "    if not tar:\n",
        "      with zipfile.ZipFile(fname, 'r') as fz:\n",
        "        fz.extractall()\n",
        "    else:\n",
        "      with tarfile.open(fname) as ft:\n",
        "        ft.extractall()\n",
        "    # Remove the archive\n",
        "    os.remove(fname)\n",
        "\n",
        "    # Extract all .gz files\n",
        "    foldername = folder + '/raw/'\n",
        "    for filename in os.listdir(foldername):\n",
        "      # Remove the extension\n",
        "      fname = filename.replace('.gz', '')\n",
        "      # Gunzip all files\n",
        "      with gzip.open(foldername + filename, 'rb') as f_in:\n",
        "        with open(foldername + fname, 'wb') as f_out:\n",
        "          shutil.copyfileobj(f_in, f_out)\n",
        "          os.remove(foldername+filename)\n",
        "  else:\n",
        "    print(f'{folder} dataset has already been downloaded.\\n')\n",
        "\n",
        "\n",
        "def test(model, device, data_loader):\n",
        "  \"\"\"\n",
        "  Test function\n",
        "\n",
        "  Args:\n",
        "    net: nn.module\n",
        "      Net instance\n",
        "    device: string\n",
        "      GPU/CUDA if available, CPU otherwise.\n",
        "    data_loader: torch.loader\n",
        "      Test loader\n",
        "\n",
        "  Returns:\n",
        "    acc: float\n",
        "      Test accuracy\n",
        "  \"\"\"\n",
        "  model.eval()\n",
        "  correct = 0\n",
        "  total = 0\n",
        "  for data in data_loader:\n",
        "    inputs, labels = data\n",
        "    inputs = inputs.to(device).float()\n",
        "    labels = labels.to(device).long()\n",
        "\n",
        "    outputs = model(inputs)\n",
        "    _, predicted = torch.max(outputs, 1)\n",
        "    total += labels.size(0)\n",
        "    correct += (predicted == labels).sum().item()\n",
        "\n",
        "  acc = 100 * correct / total\n",
        "  return f\"{acc}%\""
      ]
    },
    {
      "cell_type": "markdown",
      "metadata": {
        "id": "uuBjTiYn0xGR"
      },
      "source": [
        "## Plotting Functions"
      ]
    },
    {
      "cell_type": "code",
      "execution_count": 3,
      "metadata": {
        "id": "jwKMz8q401hp"
      },
      "outputs": [],
      "source": [
        "def display_image_from_greyscale_array(matrix, title):\n",
        "  \"\"\"\n",
        "  Display image from greyscale array\n",
        "\n",
        "  Args:\n",
        "    matrix: np.ndarray\n",
        "      Image\n",
        "    title: string\n",
        "      Title of plot\n",
        "\n",
        "  Returns:\n",
        "    Nothing\n",
        "  \"\"\"\n",
        "  _matrix = matrix.astype(np.uint8)\n",
        "  _img = Image.fromarray(_matrix, 'L')\n",
        "  plt.figure(figsize=(3, 3))\n",
        "  plt.imshow(_img, cmap='gray', vmin=0, vmax=255) # Using 220 instead of 255 so the examples show up better\n",
        "  plt.title(title)\n",
        "  plt.axis('off')\n",
        "\n",
        "\n",
        "def make_plots(original, actual_convolution, solution):\n",
        "  \"\"\"\n",
        "  Function to build original image/obtained solution and actual convolution\n",
        "\n",
        "  Args:\n",
        "    original: np.ndarray\n",
        "      Image\n",
        "    actual_convolution: np.ndarray\n",
        "      Expected convolution output\n",
        "    solution: np.ndarray\n",
        "      Obtained convolution output\n",
        "\n",
        "  Returns:\n",
        "    Nothing\n",
        "  \"\"\"\n",
        "  display_image_from_greyscale_array(original, \"Original Image\")\n",
        "  display_image_from_greyscale_array(actual_convolution, \"Convolution result\")\n",
        "  display_image_from_greyscale_array(solution, \"Your solution\")\n",
        "\n",
        "\n",
        "def plot_loss_accuracy(train_loss, train_acc,\n",
        "                       validation_loss, validation_acc):\n",
        "  \"\"\"\n",
        "  Code to plot loss and accuracy\n",
        "\n",
        "  Args:\n",
        "    train_loss: list\n",
        "      Log of training loss\n",
        "    validation_loss: list\n",
        "      Log of validation loss\n",
        "    train_acc: list\n",
        "      Log of training accuracy\n",
        "    validation_acc: list\n",
        "      Log of validation accuracy\n",
        "\n",
        "  Returns:\n",
        "    Nothing\n",
        "  \"\"\"\n",
        "  epochs = len(train_loss)\n",
        "  fig, (ax1, ax2) = plt.subplots(1, 2)\n",
        "  ax1.plot(list(range(epochs)), train_loss, label='Training Loss')\n",
        "  ax1.plot(list(range(epochs)), validation_loss, label='Validation Loss')\n",
        "  ax1.set_xlabel('Epochs')\n",
        "  ax1.set_ylabel('Loss')\n",
        "  ax1.set_title('Epoch vs Loss')\n",
        "  ax1.legend()\n",
        "\n",
        "  ax2.plot(list(range(epochs)), train_acc, label='Training Accuracy')\n",
        "  ax2.plot(list(range(epochs)), validation_acc, label='Validation Accuracy')\n",
        "  ax2.set_xlabel('Epochs')\n",
        "  ax2.set_ylabel('Accuracy')\n",
        "  ax2.set_title('Epoch vs Accuracy')\n",
        "  ax2.legend()\n",
        "  fig.set_size_inches(15.5, 5.5)"
      ]
    },
    {
      "cell_type": "markdown",
      "metadata": {
        "id": "s1sLVmlC1Qm3"
      },
      "source": [
        "## Set Random Seed and Set Device"
      ]
    },
    {
      "cell_type": "code",
      "execution_count": 4,
      "metadata": {
        "id": "y9UOSLTf1VG2"
      },
      "outputs": [],
      "source": [
        "# For DL it's important to set the random seed so that you can have a\n",
        "# baseline to compare your results to expected results.\n",
        "# Read more here: https://pytorch.org/docs/stable/notes/randomness.html\n",
        "\n",
        "def set_seed(seed=None, seed_torch=True):\n",
        "  \"\"\"\n",
        "  Function that controls randomness.\n",
        "  NumPy and random modules must be imported.\n",
        "\n",
        "  Args:\n",
        "    seed : Integer\n",
        "      A non-negative integer that defines the random state. Default is `None`.\n",
        "    seed_torch : Boolean\n",
        "      If `True` sets the random seed for pytorch tensors, so pytorch module\n",
        "      must be imported. Default is `True`.\n",
        "\n",
        "  Returns:\n",
        "    Nothing.\n",
        "  \"\"\"\n",
        "  if seed is None:\n",
        "    seed = np.random.choice(2 ** 32)\n",
        "  random.seed(seed)\n",
        "  np.random.seed(seed)\n",
        "  if seed_torch:\n",
        "    torch.manual_seed(seed)\n",
        "    torch.cuda.manual_seed_all(seed)\n",
        "    torch.cuda.manual_seed(seed)\n",
        "    torch.backends.cudnn.benchmark = False\n",
        "    torch.backends.cudnn.deterministic = True\n",
        "\n",
        "  print(f'Random seed {seed} has been set.')\n",
        "\n",
        "\n",
        "# In case that `DataLoader` is used\n",
        "def seed_worker(worker_id):\n",
        "  \"\"\"\n",
        "  DataLoader will reseed workers following randomness in\n",
        "  multi-process data loading algorithm.\n",
        "\n",
        "  Args:\n",
        "    worker_id: integer\n",
        "      ID of subprocess to seed. 0 means that\n",
        "      the data will be loaded in the main process\n",
        "      Refer: https://pytorch.org/docs/stable/data.html#data-loading-randomness for more details\n",
        "\n",
        "  Returns:\n",
        "    Nothing\n",
        "  \"\"\"\n",
        "  worker_seed = torch.initial_seed() % 2**32\n",
        "  np.random.seed(worker_seed)\n",
        "  random.seed(worker_seed)"
      ]
    },
    {
      "cell_type": "code",
      "execution_count": 5,
      "metadata": {
        "id": "7-i7bxMq1jRl"
      },
      "outputs": [],
      "source": [
        "# using this function, you can be informed whether the notebook uses GPU or CPU.\n",
        "\n",
        "def set_device():\n",
        "  \"\"\"\n",
        "  Set the device. CUDA if available, CPU otherwise\n",
        "\n",
        "  Args:\n",
        "    None\n",
        "\n",
        "  Returns:\n",
        "    Nothing\n",
        "  \"\"\"\n",
        "  device = \"cuda\" if torch.cuda.is_available() else \"cpu\"\n",
        "  if device != \"cuda\":\n",
        "    print(\"WARNING: For this notebook to perform best, \"\n",
        "        \"if possible, in the menu under `Runtime` -> \"\n",
        "        \"`Change runtime type.`  select `GPU` \")\n",
        "  else:\n",
        "    print(\"GPU is enabled in this notebook.\")\n",
        "\n",
        "  return device"
      ]
    },
    {
      "cell_type": "code",
      "execution_count": 6,
      "metadata": {
        "colab": {
          "base_uri": "https://localhost:8080/"
        },
        "id": "eZUdMmi31nEH",
        "outputId": "60b089cb-b6cb-4113-85a0-272137cb66bb"
      },
      "outputs": [
        {
          "output_type": "stream",
          "name": "stdout",
          "text": [
            "Random seed 1404 has been set.\n",
            "GPU is enabled in this notebook.\n"
          ]
        }
      ],
      "source": [
        "SEED = 1404\n",
        "set_seed(seed=SEED)\n",
        "DEVICE = set_device()"
      ]
    },
    {
      "cell_type": "markdown",
      "metadata": {
        "id": "7TZb9dVw-X74"
      },
      "source": [
        "# Download EMNIST dataset\n",
        "\n",
        "* For this assignment, we will use the EMNIST letters dataset, which consists of binarized images of handwritten characters.\n",
        "\n",
        "* We only keep the images that correspond to **X** and **O**. Then, we will train a CNN to classify an image as either an **X** or an **O**."
      ]
    },
    {
      "cell_type": "code",
      "execution_count": 7,
      "metadata": {
        "colab": {
          "base_uri": "https://localhost:8080/"
        },
        "id": "_BC0tKMy-dvP",
        "outputId": "f05b3913-5ee8-4719-eefe-4a5506aaba55"
      },
      "outputs": [
        {
          "output_type": "stream",
          "name": "stdout",
          "text": [
            "\n",
            "Downloading EMNIST dataset...\n",
            "\n",
            "Downloading EMNIST completed.\n",
            "\n",
            "Extracting the files...\n",
            "\n"
          ]
        }
      ],
      "source": [
        "# webpage: https://www.itl.nist.gov/iaui/vip/cs_links/EMNIST/gzip.zip\n",
        "fname = 'EMNIST.zip'\n",
        "folder = 'EMNIST'\n",
        "url = \"https://osf.io/xwfaj/download\"\n",
        "download_data(fname, folder, url, tar=False)"
      ]
    },
    {
      "cell_type": "markdown",
      "metadata": {
        "id": "l-UnjocT_tUK"
      },
      "source": [
        "# Dataset/DataLoader Functions"
      ]
    },
    {
      "cell_type": "code",
      "execution_count": 8,
      "metadata": {
        "id": "J66N-N8X_w93"
      },
      "outputs": [],
      "source": [
        "def get_Xvs0_dataset(normalize=False, download=False):\n",
        "  \"\"\"\n",
        "  Load Dataset\n",
        "\n",
        "  Args:\n",
        "    normalize: boolean\n",
        "      If true, normalise dataloader\n",
        "    download: boolean\n",
        "      If true, download dataset\n",
        "\n",
        "  Returns:\n",
        "    emnist_train: torch.loader\n",
        "      Training Data\n",
        "    emnist_test: torch.loader\n",
        "      Test Data\n",
        "  \"\"\"\n",
        "  if normalize:\n",
        "    transform = transforms.Compose([\n",
        "        transforms.ToTensor(),\n",
        "        transforms.Normalize((0.1307,), (0.3081,))\n",
        "        ])\n",
        "  else:\n",
        "    transform = transforms.Compose([\n",
        "        transforms.ToTensor(),\n",
        "        ])\n",
        "\n",
        "  emnist_train = datasets.EMNIST(root='.',\n",
        "                                 split='letters',\n",
        "                                 download=download,\n",
        "                                 train=True,\n",
        "                                 transform=transform)\n",
        "  emnist_test = datasets.EMNIST(root='.',\n",
        "                                split='letters',\n",
        "                                download=download,\n",
        "                                train=False,\n",
        "                                transform=transform)\n",
        "\n",
        "  # Only want O (15) and X (24) labels\n",
        "  train_idx = (emnist_train.targets == 15) | (emnist_train.targets == 24)\n",
        "  emnist_train.targets = emnist_train.targets[train_idx]\n",
        "  emnist_train.data = emnist_train.data[train_idx]\n",
        "\n",
        "  # Convert Xs predictions to 1, Os predictions to 0\n",
        "  emnist_train.targets = (emnist_train.targets == 24).type(torch.int64)\n",
        "\n",
        "  test_idx = (emnist_test.targets == 15) | (emnist_test.targets == 24)\n",
        "  emnist_test.targets = emnist_test.targets[test_idx]\n",
        "  emnist_test.data = emnist_test.data[test_idx]\n",
        "\n",
        "  # Convert Xs predictions to 1, Os predictions to 0\n",
        "  emnist_test.targets = (emnist_test.targets == 24).type(torch.int64)\n",
        "\n",
        "  return emnist_train, emnist_test\n",
        "\n",
        "\n",
        "def get_data_loaders(train_dataset, test_dataset,\n",
        "                     batch_size=32, seed=0):\n",
        "  \"\"\"\n",
        "  Helper function to fetch dataloaders\n",
        "\n",
        "  Args:\n",
        "    train_dataset: torch.tensor\n",
        "      Training data\n",
        "    test_dataset: torch.tensor\n",
        "      Test data\n",
        "    batch_size: int\n",
        "      Batch Size\n",
        "    seed: int\n",
        "      Set seed for reproducibility\n",
        "\n",
        "  Returns:\n",
        "    emnist_train: torch.loader\n",
        "      Training Data\n",
        "    emnist_test: torch.loader\n",
        "      Test Data\n",
        "  \"\"\"\n",
        "  g_seed = torch.Generator()\n",
        "  g_seed.manual_seed(seed)\n",
        "\n",
        "  train_loader = DataLoader(train_dataset,\n",
        "                            batch_size=batch_size,\n",
        "                            shuffle=True,\n",
        "                            num_workers=2,\n",
        "                            worker_init_fn=seed_worker,\n",
        "                            generator=g_seed)\n",
        "  test_loader = DataLoader(test_dataset,\n",
        "                           batch_size=batch_size,\n",
        "                           shuffle=True,\n",
        "                           num_workers=2,\n",
        "                           worker_init_fn=seed_worker,\n",
        "                           generator=g_seed)\n",
        "\n",
        "  return train_loader, test_loader"
      ]
    },
    {
      "cell_type": "code",
      "execution_count": 9,
      "metadata": {
        "id": "GeOPOdf3_x-F"
      },
      "outputs": [],
      "source": [
        "emnist_train, emnist_test = get_Xvs0_dataset(normalize=False, download=False)\n",
        "train_loader, test_loader = get_data_loaders(emnist_train, emnist_test,\n",
        "                                             seed=SEED)\n",
        "\n",
        "# Index of an image in the dataset that corresponds to an X and O\n",
        "x_img_idx = 4\n",
        "o_img_idx = 15"
      ]
    },
    {
      "cell_type": "markdown",
      "metadata": {
        "id": "7i4g86qHRQFu"
      },
      "source": [
        "Here, you can see a couple of samples from the dataset."
      ]
    },
    {
      "cell_type": "code",
      "execution_count": 10,
      "metadata": {
        "colab": {
          "base_uri": "https://localhost:8080/",
          "height": 524
        },
        "id": "43mOXpl2RP0B",
        "outputId": "0da863a1-283d-49f9-f951-0beb25bbe53c"
      },
      "outputs": [
        {
          "output_type": "display_data",
          "data": {
            "text/plain": [
              "<Figure size 1200x600 with 6 Axes>"
            ],
            "image/png": "[encoded data removed]"
          },
          "metadata": {}
        }
      ],
      "source": [
        "fig, ((ax1, ax2, ax3),\n",
        "      (ax4, ax5, ax6)) = plt.subplots(2, 3, figsize=(12, 6))\n",
        "ax1.imshow(emnist_train[0][0].reshape(28, 28), cmap='gray')\n",
        "ax2.imshow(emnist_train[10][0].reshape(28, 28), cmap='gray')\n",
        "ax3.imshow(emnist_train[15][0].reshape(28, 28), cmap='gray')\n",
        "ax4.imshow(emnist_train[6][0].reshape(28, 28), cmap='gray')\n",
        "ax5.imshow(emnist_train[3][0].reshape(28, 28), cmap='gray')\n",
        "ax6.imshow(emnist_train[4][0].reshape(28, 28), cmap='gray')\n",
        "plt.show()"
      ]
    },
    {
      "cell_type": "markdown",
      "metadata": {
        "id": "HOU816T8gR_9"
      },
      "source": [
        "# A visualization of the process\n",
        "\n",
        "**Assignment starts from here, fill the missing codes (...)**"
      ]
    },
    {
      "cell_type": "markdown",
      "metadata": {
        "id": "FgN3GIbEgiL0"
      },
      "source": [
        "## Multiple filters\n",
        "\n",
        "* For the following network, we set up 3 filters and run them on an image of the dataset from the X class."
      ]
    },
    {
      "cell_type": "code",
      "execution_count": 11,
      "metadata": {
        "id": "3LtTV4j-gW7u"
      },
      "outputs": [],
      "source": [
        "class Net(nn.Module):\n",
        "\n",
        "  def __init__(self, padding=0):\n",
        "    \"\"\"\n",
        "    Initialize parameters of Net\n",
        "\n",
        "    Args:\n",
        "      padding: int or tuple, optional. Default: 0\n",
        "\n",
        "    Returns:\n",
        "      Nothing\n",
        "    \"\"\"\n",
        "    super(Net, self).__init__()\n",
        "    self.conv1 = nn.Conv2d(in_channels=1, out_channels=3, kernel_size=5,\n",
        "                           padding=padding)\n",
        "\n",
        "    # First kernel\n",
        "    kernel_1 = torch.Tensor([[[1., 1., -1., -1., -1.],\n",
        "                              [1., 1., 1., -1., -1.],\n",
        "                              [-1., 1., 1., 1., -1.],\n",
        "                              [-1., -1., 1., 1., 1.],\n",
        "                              [-1., -1., -1., 1., 1.]]])\n",
        "\n",
        "    # Second kernel\n",
        "    kernel_2 = torch.Tensor([[[-1., -1., -1., 1., 1.],\n",
        "                              [-1., -1., 1., 1., 1.],\n",
        "                              [-1., 1., 1., 1., -1.],\n",
        "                              [1., 1., 1., -1., -1.],\n",
        "                              [1., 1., -1., -1., -1.]]])\n",
        "\n",
        "    # Third kernel\n",
        "    kernel_3 = torch.Tensor([[[1., 1., -1., 1., 1.],\n",
        "                              [1., 1., 1., 1., 1.],\n",
        "                              [-1., 1., 1., 1., -1.],\n",
        "                              [1., 1., 1., 1., 1.],\n",
        "                              [1., 1., -1., 1., 1.]]])\n",
        "\n",
        "\n",
        "    #####################################################################\n",
        "    # TODO:\n",
        "    # 1) Stack all kernels in one tensor with (3, 1, 5, 5) dimensions\n",
        "    # 2) Set this tensor as the weight of self.conv1 --> use torch.nn.Parameter(...)\n",
        "\n",
        "    # comment the line below to test your code\n",
        "    # raise NotImplementedError(\" Complete the initialization first\")\n",
        "    #####################################################################\n",
        "\n",
        "    # 1)\n",
        "    multiple_kernels = torch.stack([kernel_1, kernel_2, kernel_3])\n",
        "\n",
        "    # 2)\n",
        "    self.conv1.weight = torch.nn.Parameter(multiple_kernels)\n",
        "\n",
        "    # Negative bias\n",
        "    self.conv1.bias = torch.nn.Parameter(torch.Tensor([-4, -4, -12]))\n",
        "\n",
        "  def forward(self, x):\n",
        "    \"\"\"\n",
        "    Forward Pass of Net\n",
        "\n",
        "    Args:\n",
        "      x: torch.tensor\n",
        "        Input features\n",
        "\n",
        "    Returns:\n",
        "      x: torch.tensor\n",
        "        Convolution output\n",
        "    \"\"\"\n",
        "    #####################################################################\n",
        "    # TODO:\n",
        "    # 3) Apply the conv layer to the input\n",
        "\n",
        "    # comment the line below to test your code\n",
        "    # raise NotImplementedError(\" Apply the conv layer to the input\")\n",
        "    #####################################################################\n",
        "\n",
        "    # 3)\n",
        "    x = self.conv1(x)\n",
        "    return x"
      ]
    },
    {
      "cell_type": "markdown",
      "metadata": {
        "id": "rK5Fw63LiPrT"
      },
      "source": [
        "**Q1: Why did we  add a negative bias?**\n",
        "\n",
        "We added a negative bias to the convolutional filters to ensure the activation occurs only when there's a sufficiently strong correlation between the filter and specific patterns in the input. Without a negative bias, the convolutional filters may activate even for weak or unrelated patterns, making the network less discriminative.\n",
        "\n",
        "The negative bias essentially raises the activation threshold, meaning that only clear and strong matches between the input and the kernels result in positive (activated) outputs. This helps the CNN learn more distinct features, leading to better feature extraction and classification performance.\n",
        "\n"
      ]
    },
    {
      "cell_type": "code",
      "execution_count": 12,
      "metadata": {
        "colab": {
          "base_uri": "https://localhost:8080/",
          "height": 245
        },
        "id": "1uMAJeZQiw1Y",
        "outputId": "503e352e-9b3b-486a-d0c3-078b9c1d7980"
      },
      "outputs": [
        {
          "output_type": "execute_result",
          "data": {
            "text/plain": [
              "<matplotlib.image.AxesImage at 0x7f4f7cafb050>"
            ]
          },
          "metadata": {},
          "execution_count": 12
        },
        {
          "output_type": "display_data",
          "data": {
            "text/plain": [
              "<Figure size 640x480 with 3 Axes>"
            ],
            "image/png": "[encoded data removed]"
          },
          "metadata": {}
        }
      ],
      "source": [
        "# Visualizing the filters\n",
        "\n",
        "net = Net().to(DEVICE)\n",
        "fig, (ax11, ax12, ax13) = plt.subplots(1, 3)\n",
        "# Show the filters\n",
        "ax11.set_title(\"filter 1\")\n",
        "ax11.imshow(net.conv1.weight[0, 0].detach().cpu().numpy(), cmap=\"gray\")\n",
        "ax12.set_title(\"filter 2\")\n",
        "ax12.imshow(net.conv1.weight[1, 0].detach().cpu().numpy(), cmap=\"gray\")\n",
        "ax13.set_title(\"filter 3\")\n",
        "ax13.imshow(net.conv1.weight[2, 0].detach().cpu().numpy(), cmap=\"gray\")"
      ]
    },
    {
      "cell_type": "markdown",
      "metadata": {
        "id": "vR6fr0bsjQJx"
      },
      "source": [
        "**Q2: How do you think these filters would help to recognize X?**\n",
        "\n",
        "These filters contain carefully designed patterns composed of diagonal and cross-shaped edges, which strongly resemble key features of the letter \"X\". Specifically:\n",
        "\n",
        "\n",
        "\n",
        "*   Filter 1 and Filter 2 capture diagonal edge patterns going in opposite directions. Since the letter \"X\" is composed of two intersecting diagonal lines, these filters will effectively detect those diagonal features.\n",
        "*   Filter 3 is designed to recognize cross-like patterns, explicitly matching the intersection at the center of the letter \"X\".\n",
        "\n",
        "\n",
        "Thus, when an \"X\" passes through these filters, we expect strong activations indicating the presence of these characteristic diagonal and intersecting patterns, facilitating robust detection and classification of the \"X\" character."
      ]
    },
    {
      "cell_type": "code",
      "execution_count": 13,
      "metadata": {
        "id": "MtAmWY42jvsK"
      },
      "outputs": [],
      "source": [
        "# Applying the filters to the images\n",
        "\n",
        "\n",
        "#####################################################################\n",
        "# TODO:\n",
        "# 1) Pass the the image of 'X' and 'O' through the network to see the output\n",
        "\n",
        "# comment the line below to test your code\n",
        "# raise NotImplementedError(\" No filter has implemented to the images\")\n",
        "#####################################################################\n",
        "\n",
        "net = Net().to(DEVICE)\n",
        "x_img = emnist_train[x_img_idx][0].unsqueeze(dim=0).to(DEVICE)\n",
        "\n",
        "# 1)\n",
        "output_x = net(x_img)\n",
        "output_x = output_x.squeeze(dim=0).detach().cpu().numpy()\n",
        "\n",
        "o_img = emnist_train[o_img_idx][0].unsqueeze(dim=0).to(DEVICE)\n",
        "\n",
        "# 1)\n",
        "output_o = net(o_img)\n",
        "output_o = output_o.squeeze(dim=0).detach().cpu().numpy()"
      ]
    },
    {
      "cell_type": "code",
      "execution_count": 14,
      "metadata": {
        "colab": {
          "base_uri": "https://localhost:8080/",
          "height": 828
        },
        "id": "SVpZyjvVj9PF",
        "outputId": "dd100ee7-a5cc-4de6-914a-d5fef45eaaea"
      },
      "outputs": [
        {
          "output_type": "display_data",
          "data": {
            "text/plain": [
              "<Figure size 1200x1000 with 12 Axes>"
            ],
            "image/png": "[encoded data removed]"
          },
          "metadata": {}
        }
      ],
      "source": [
        "# Viewing what the output of the applied filters looks like\n",
        "\n",
        "fig, ((ax11, ax12, ax13, ax14),\n",
        "      (ax21, ax22, ax23, ax24),\n",
        "      (ax31, ax32, ax33, ax34)) = plt.subplots(3, 4, figsize=(12, 10))\n",
        "\n",
        "# Show the filters\n",
        "ax11.axis(\"off\")\n",
        "ax12.set_title(\"filter 1\")\n",
        "ax12.imshow(net.conv1.weight[0, 0].detach().cpu().numpy(), cmap=\"gray\")\n",
        "ax13.set_title(\"filter 2\")\n",
        "ax13.imshow(net.conv1.weight[1, 0].detach().cpu().numpy(), cmap=\"gray\")\n",
        "ax14.set_title(\"filter 3\")\n",
        "ax14.imshow(net.conv1.weight[2, 0].detach().cpu().numpy(), cmap=\"gray\")\n",
        "\n",
        "vmin, vmax = -6, 10\n",
        "# Show x and the filters applied to x\n",
        "ax21.set_title(\"image x\")\n",
        "ax21.imshow(emnist_train[x_img_idx][0].reshape(28, 28), cmap='gray')\n",
        "ax22.set_title(\"output filter 1\")\n",
        "ax22.imshow(output_x[0], cmap='gray', vmin=vmin, vmax=vmax)\n",
        "ax23.set_title(\"output filter 2\")\n",
        "ax23.imshow(output_x[1], cmap='gray', vmin=vmin, vmax=vmax)\n",
        "ax24.set_title(\"output filter 3\")\n",
        "ax24.imshow(output_x[2], cmap='gray', vmin=vmin, vmax=vmax)\n",
        "\n",
        "# Show o and the filters applied to o\n",
        "ax31.set_title(\"image o\")\n",
        "ax31.imshow(emnist_train[o_img_idx][0].reshape(28, 28), cmap='gray')\n",
        "ax32.set_title(\"output filter 1\")\n",
        "ax32.imshow(output_o[0], cmap='gray', vmin=vmin, vmax=vmax)\n",
        "ax33.set_title(\"output filter 2\")\n",
        "ax33.imshow(output_o[1], cmap='gray', vmin=vmin, vmax=vmax)\n",
        "ax34.set_title(\"output filter 3\")\n",
        "ax34.imshow(output_o[2], cmap='gray', vmin=vmin, vmax=vmax)\n",
        "plt.show()"
      ]
    },
    {
      "cell_type": "markdown",
      "metadata": {
        "id": "j47uyywLlrBB"
      },
      "source": [
        "## ReLU\n",
        "\n",
        "* ReLU introduces non-linearity into our model, allowing to learn a more complex function that can better predict the class of an image.\n",
        "\n",
        "* Let's incorporate ReLU into the previous model and visualize the output.\n"
      ]
    },
    {
      "cell_type": "code",
      "execution_count": 17,
      "metadata": {
        "id": "uMsOdl5vl6f3"
      },
      "outputs": [],
      "source": [
        "class Net2(nn.Module):\n",
        "\n",
        "  def __init__(self, padding=0):\n",
        "    \"\"\"\n",
        "    Initialize Net2 parameters\n",
        "\n",
        "    Args:\n",
        "      padding: int or tuple, optional. Default: 0\n",
        "\n",
        "    Returns:\n",
        "      Nothing\n",
        "    \"\"\"\n",
        "    super(Net2, self).__init__()\n",
        "    self.conv1 = nn.Conv2d(in_channels=1, out_channels=3, kernel_size=5,\n",
        "                           padding=padding)\n",
        "\n",
        "    # First kernel\n",
        "    kernel_1 = torch.Tensor([[[1., 1., -1., -1., -1.],\n",
        "                              [1., 1., 1., -1., -1.],\n",
        "                              [-1., 1., 1., 1., -1.],\n",
        "                              [-1., -1., 1., 1., 1.],\n",
        "                              [-1., -1., -1., 1., 1.]]])\n",
        "\n",
        "    # Second kernel\n",
        "    kernel_2 = torch.Tensor([[[-1., -1., -1., 1., 1.],\n",
        "                              [-1., -1., 1., 1., 1.],\n",
        "                              [-1., 1., 1., 1., -1.],\n",
        "                              [1., 1., 1., -1., -1.],\n",
        "                              [1., 1., -1., -1., -1.]]])\n",
        "\n",
        "    # Third kernel\n",
        "    kernel_3 = torch.Tensor([[[1., 1., -1., 1., 1.],\n",
        "                              [1., 1., 1., 1., 1.],\n",
        "                              [-1., 1., 1., 1., -1.],\n",
        "                              [1., 1., 1., 1., 1.],\n",
        "                              [1., 1., -1., 1., 1.]]])\n",
        "\n",
        "\n",
        "\n",
        "    #####################################################################\n",
        "    # TODO:\n",
        "    # 1) Stack all kernels in one tensor\n",
        "    # 2) Set this tensor as the weight of self.conv1\n",
        "\n",
        "    # comment the line below to test your code\n",
        "    # raise NotImplementedError(\" Complete the initialization first\")\n",
        "    #####################################################################\n",
        "\n",
        "    # 1)\n",
        "    multiple_kernels = torch.stack([kernel_1, kernel_2, kernel_3])\n",
        "\n",
        "    # 2)\n",
        "    self.conv1.weight = torch.nn.Parameter(multiple_kernels)\n",
        "\n",
        "    # Negative bias\n",
        "    self.conv1.bias = torch.nn.Parameter(torch.Tensor([-4, -4, -12]))\n",
        "\n",
        "  def forward(self, x):\n",
        "    \"\"\"\n",
        "    Forward Pass of Net2\n",
        "\n",
        "    Args:\n",
        "      x: torch.tensor\n",
        "        Input features\n",
        "\n",
        "    Returns:\n",
        "      x: torch.tensor\n",
        "        Convolution + ReLU output\n",
        "    \"\"\"\n",
        "\n",
        "    #####################################################################\n",
        "    # TODO:\n",
        "    # 1) Apply conv layer and ReLU to the input\n",
        "\n",
        "    # comment the line below to test your code\n",
        "    # raise NotImplementedError(\" Apply the conv layer and ReLU to the input\")\n",
        "    #####################################################################\n",
        "\n",
        "    # 3)\n",
        "    # Apply convolution\n",
        "    x = self.conv1(x)\n",
        "    # Apply ReLU activation\n",
        "    x = F.relu(x)\n",
        "    return x"
      ]
    },
    {
      "cell_type": "code",
      "execution_count": 18,
      "metadata": {
        "id": "4bMSuvxEmnCr"
      },
      "outputs": [],
      "source": [
        "# Apply the filters and relus to the images.\n",
        "\n",
        "net2 = Net2().to(DEVICE)\n",
        "x_img = emnist_train[x_img_idx][0].unsqueeze(dim=0).to(DEVICE)\n",
        "output_x_relu = net2(x_img)\n",
        "output_x_relu = output_x_relu.squeeze(dim=0).detach().cpu().numpy()\n",
        "\n",
        "o_img = emnist_train[o_img_idx][0].unsqueeze(dim=0).to(DEVICE)\n",
        "output_o_relu = net2(o_img)\n",
        "output_o_relu = output_o_relu.squeeze(dim=0).detach().cpu().numpy()"
      ]
    },
    {
      "cell_type": "code",
      "execution_count": 19,
      "metadata": {
        "colab": {
          "base_uri": "https://localhost:8080/",
          "height": 652
        },
        "id": "jTYzLcv6myN_",
        "outputId": "09b48aa4-7b96-44a2-9557-00de0b58ef48"
      },
      "outputs": [
        {
          "output_type": "display_data",
          "data": {
            "text/plain": [
              "<Figure size 1400x800 with 21 Axes>"
            ],
            "image/png": "[encoded data removed]"
          },
          "metadata": {}
        }
      ],
      "source": [
        "# Viewing what the output of the applied filters looks like\n",
        "\n",
        "fig, ((ax11, ax12, ax13, ax14, ax15, ax16, ax17),\n",
        "      (ax21, ax22, ax23, ax24, ax25, ax26, ax27),\n",
        "      (ax31, ax32, ax33, ax34, ax35, ax36, ax37)) = plt.subplots(3, 4 + 3,\n",
        "                                                                 figsize=(14, 8))\n",
        "# Show the filters\n",
        "ax11.axis(\"off\")\n",
        "ax12.set_title(\"filter 1\")\n",
        "ax12.imshow(net2.conv1.weight[0, 0].detach().cpu().numpy(), cmap=\"gray\")\n",
        "ax13.set_title(\"filter 2\")\n",
        "ax13.imshow(net2.conv1.weight[1, 0].detach().cpu().numpy(), cmap=\"gray\")\n",
        "ax14.set_title(\"filter 3\")\n",
        "ax14.imshow(net2.conv1.weight[2, 0].detach().cpu().numpy(), cmap=\"gray\")\n",
        "\n",
        "ax15.set_title(\"filter 1\")\n",
        "ax15.imshow(net2.conv1.weight[0, 0].detach().cpu().numpy(), cmap=\"gray\")\n",
        "ax16.set_title(\"filter 2\")\n",
        "ax16.imshow(net2.conv1.weight[1, 0].detach().cpu().numpy(), cmap=\"gray\")\n",
        "ax17.set_title(\"filter 3\")\n",
        "ax17.imshow(net2.conv1.weight[2, 0].detach().cpu().numpy(), cmap=\"gray\")\n",
        "\n",
        "vmin, vmax = -6, 10\n",
        "# Show x and the filters applied to `x`\n",
        "ax21.set_title(\"image x\")\n",
        "ax21.imshow(emnist_train[x_img_idx][0].reshape(28, 28), cmap='gray')\n",
        "ax22.set_title(\"output filter 1\")\n",
        "ax22.imshow(output_x[0], cmap='gray', vmin=vmin, vmax=vmax)\n",
        "ax23.set_title(\"output filter 2\")\n",
        "ax23.imshow(output_x[1], cmap='gray', vmin=vmin, vmax=vmax)\n",
        "ax24.set_title(\"output filter 3\")\n",
        "ax24.imshow(output_x[2], cmap='gray', vmin=vmin, vmax=vmax)\n",
        "\n",
        "ax25.set_title(\"filter 1 + ReLU\")\n",
        "ax25.imshow(output_x_relu[0], cmap='gray', vmin=vmin, vmax=vmax)\n",
        "ax26.set_title(\"filter 2 + ReLU\")\n",
        "ax26.imshow(output_x_relu[1], cmap='gray', vmin=vmin, vmax=vmax)\n",
        "ax27.set_title(\"filter 3 + ReLU\")\n",
        "ax27.imshow(output_x_relu[2], cmap='gray', vmin=vmin, vmax=vmax)\n",
        "\n",
        "# Show o and the filters applied to `o`\n",
        "ax31.set_title(\"image o\")\n",
        "ax31.imshow(emnist_train[o_img_idx][0].reshape(28, 28), cmap='gray')\n",
        "ax32.set_title(\"output filter 1\")\n",
        "ax32.imshow(output_o[0], cmap='gray', vmin=vmin, vmax=vmax)\n",
        "ax33.set_title(\"output filter 2\")\n",
        "ax33.imshow(output_o[1], cmap='gray', vmin=vmin, vmax=vmax)\n",
        "ax34.set_title(\"output filter 3\")\n",
        "ax34.imshow(output_o[2], cmap='gray', vmin=vmin, vmax=vmax)\n",
        "\n",
        "ax35.set_title(\"filter 1 + ReLU\")\n",
        "ax35.imshow(output_o_relu[0], cmap='gray', vmin=vmin, vmax=vmax)\n",
        "ax36.set_title(\"filter 2 + ReLU\")\n",
        "ax36.imshow(output_o_relu[1], cmap='gray', vmin=vmin, vmax=vmax)\n",
        "ax37.set_title(\"filter 3 + ReLU\")\n",
        "ax37.imshow(output_o_relu[2], cmap='gray', vmin=vmin, vmax=vmax)\n",
        "plt.show()"
      ]
    },
    {
      "cell_type": "markdown",
      "metadata": {
        "id": "6M6pKW5cnY4I"
      },
      "source": [
        "**Q3: How do you think the ReLU activations help strengthen the features necessary to detect an image?**\n",
        "\n",
        "The ReLU (Rectified Linear Unit) activation helps strengthen the important features by introducing non-linearity into the model. Specifically, ReLU achieves this by:\n",
        "\n",
        "*   **Suppressing Negative Activations:**\n",
        "ReLU converts all negative values to zero. This effectively removes weak or irrelevant responses from filters, focusing attention only on features that strongly match the learned patterns.\n",
        "*   **Enhancing Feature Contrast:**\n",
        "By preserving only positive activations, ReLU amplifies the difference between relevant features (high activations) and non-relevant features (low or negative activations). This contrast makes the important patterns stand out clearly.\n",
        "*   **Non-linear Representation:**\n",
        "Without ReLU (or other nonlinearities), multiple layers would collapse to a single linear operation. By using ReLU, the network becomes capable of learning complex patterns and combinations of features, making it better suited for recognizing intricate shapes like the letter \"X\".\n",
        "\n",
        "Overall, the ReLU activation significantly improves the network's capability to extract meaningful and discriminative features from the input images."
      ]
    },
    {
      "cell_type": "markdown",
      "metadata": {
        "id": "f9gz-XJipIJw"
      },
      "source": [
        "## MaxPooling\n",
        "\n",
        "* Now Let's implement MaxPooling. We use a kernel of size 2 and stride of 2 for the MaxPooling layer."
      ]
    },
    {
      "cell_type": "code",
      "execution_count": 21,
      "metadata": {
        "id": "I4BD2mGYpUj9"
      },
      "outputs": [],
      "source": [
        "class Net3(nn.Module):\n",
        "\n",
        "  def __init__(self, padding=0, stride=2):\n",
        "    \"\"\"\n",
        "    Initialise parameters of Net3\n",
        "\n",
        "    Args:\n",
        "      padding: int or tuple, optional\n",
        "        Zero-padding added to both sides of the input. Default: 0\n",
        "      stride: int\n",
        "        Stride\n",
        "\n",
        "    Returns:\n",
        "      Nothing\n",
        "    \"\"\"\n",
        "    super(Net3, self).__init__()\n",
        "    self.conv1 = nn.Conv2d(in_channels=1, out_channels=3, kernel_size=5,\n",
        "                            padding=padding)\n",
        "\n",
        "    # First kernel\n",
        "    kernel_1 = torch.Tensor([[[1., 1., -1., -1., -1.],\n",
        "                              [1., 1., 1., -1., -1.],\n",
        "                              [-1., 1., 1., 1., -1.],\n",
        "                              [-1., -1., 1., 1., 1.],\n",
        "                              [-1., -1., -1., 1., 1.]]])\n",
        "\n",
        "    # Second kernel\n",
        "    kernel_2 = torch.Tensor([[[-1., -1., -1., 1., 1.],\n",
        "                              [-1., -1., 1., 1., 1.],\n",
        "                              [-1., 1., 1., 1., -1.],\n",
        "                              [1., 1., 1., -1., -1.],\n",
        "                              [1., 1., -1., -1., -1.]]])\n",
        "\n",
        "    # Third kernel\n",
        "    kernel_3 = torch.Tensor([[[1., 1., -1., 1., 1.],\n",
        "                              [1., 1., 1., 1., 1.],\n",
        "                              [-1., 1., 1., 1., -1.],\n",
        "                              [1., 1., 1., 1., 1.],\n",
        "                              [1., 1., -1., 1., 1.]]])\n",
        "\n",
        "\n",
        "    #####################################################################\n",
        "    # TODO:\n",
        "    # 1) Stack all kernels in one tensor\n",
        "    # 2) Set this tensor as the weight of self.conv1\n",
        "    # comment the line below to test your code\n",
        "    # raise NotImplementedError(\" Complete the initialization first\")\n",
        "\n",
        "    # 3) Define a MaxPooling layer with a kernel of size 2 and stride of 2 --> there is an arg for stride in __init__\n",
        "    # comment the line below to test your function\n",
        "    # raise NotImplementedError(\"Define the maxpool layer\")\n",
        "    #####################################################################\n",
        "\n",
        "    # 1)\n",
        "    multiple_kernels = torch.stack([kernel_1, kernel_2, kernel_3])\n",
        "\n",
        "    # 2)\n",
        "    self.conv1.weight = torch.nn.Parameter(multiple_kernels)\n",
        "\n",
        "    # Negative bias\n",
        "    self.conv1.bias = torch.nn.Parameter(torch.Tensor([-4, -4, -12]))\n",
        "\n",
        "    # 3)\n",
        "    self.pool = nn.MaxPool2d(kernel_size=2, stride=stride)\n",
        "\n",
        "  def forward(self, x):\n",
        "    \"\"\"\n",
        "    Forward Pass of Net3\n",
        "\n",
        "    Args:\n",
        "      x: torch.tensor\n",
        "        Input features\n",
        "\n",
        "    Returns:\n",
        "      x: torch.tensor\n",
        "        Convolution + ReLU + Pooling output\n",
        "    \"\"\"\n",
        "    #####################################################################\n",
        "    # TODO:\n",
        "    # 4) Apply conv layer + ReLU + maxpool layer to the input\n",
        "\n",
        "    # comment the line below to test your code\n",
        "    # raise NotImplementedError(\" Apply conv layer + ReLU + maxpool to the input\")\n",
        "    #####################################################################\n",
        "\n",
        "    # 4)\n",
        "    # Apply convolution\n",
        "    x = self.conv1(x)\n",
        "    # Apply ReLU activation\n",
        "    x = F.relu(x)\n",
        "    # Apply MaxPooling\n",
        "    x = self.pool(x)\n",
        "    return x\n"
      ]
    },
    {
      "cell_type": "code",
      "execution_count": 22,
      "metadata": {
        "id": "gnYsov22qKkK"
      },
      "outputs": [],
      "source": [
        "# Apply the filters and relus to the images.\n",
        "\n",
        "net3 = Net3().to(DEVICE)\n",
        "x_img = emnist_train[x_img_idx][0].unsqueeze(dim=0).to(DEVICE)\n",
        "output_x_pool = net3(x_img)\n",
        "output_x_pool = output_x_pool.squeeze(dim=0).detach().cpu().numpy()\n",
        "\n",
        "o_img = emnist_train[o_img_idx][0].unsqueeze(dim=0).to(DEVICE)\n",
        "output_o_pool = net3(o_img)\n",
        "output_o_pool = output_o_pool.squeeze(dim=0).detach().cpu().numpy()"
      ]
    },
    {
      "cell_type": "code",
      "execution_count": 23,
      "metadata": {
        "colab": {
          "base_uri": "https://localhost:8080/",
          "height": 828
        },
        "id": "IrpJztogqLch",
        "outputId": "8cf08b07-d470-40c7-e79d-e8b6798651ef"
      },
      "outputs": [
        {
          "output_type": "display_data",
          "data": {
            "text/plain": [
              "<Figure size 1200x1000 with 12 Axes>"
            ],
            "image/png": "[encoded data removed]"
          },
          "metadata": {}
        }
      ],
      "source": [
        "# Viewing what the output of the applied filters looks like\n",
        "\n",
        "fig, ((ax11, ax12, ax13, ax14),\n",
        "      (ax21, ax22, ax23, ax24),\n",
        "      (ax31, ax32, ax33, ax34)) = plt.subplots(3, 4, figsize=(12, 10))\n",
        "\n",
        "# Show the filters\n",
        "ax11.axis(\"off\")\n",
        "ax12.set_title(\"filter 1\")\n",
        "ax12.imshow(net3.conv1.weight[0, 0].detach().cpu().numpy(), cmap=\"gray\")\n",
        "ax13.set_title(\"filter 2\")\n",
        "ax13.imshow(net3.conv1.weight[1, 0].detach().cpu().numpy(), cmap=\"gray\")\n",
        "ax14.set_title(\"filter 3\")\n",
        "ax14.imshow(net3.conv1.weight[2, 0].detach().cpu().numpy(), cmap=\"gray\")\n",
        "\n",
        "vmin, vmax = -6, 10\n",
        "# Show x and the filters applied to x\n",
        "ax21.set_title(\"image x\")\n",
        "ax21.imshow(emnist_train[x_img_idx][0].reshape(28, 28), cmap='gray')\n",
        "ax22.set_title(\"output filter 1\")\n",
        "ax22.imshow(output_x_pool[0], cmap='gray', vmin=vmin, vmax=vmax)\n",
        "ax23.set_title(\"output filter 2\")\n",
        "ax23.imshow(output_x_pool[1], cmap='gray', vmin=vmin, vmax=vmax)\n",
        "ax24.set_title(\"output filter 3\")\n",
        "ax24.imshow(output_x_pool[2], cmap='gray', vmin=vmin, vmax=vmax)\n",
        "\n",
        "# Show o and the filters applied to o\n",
        "ax31.set_title(\"image o\")\n",
        "ax31.imshow(emnist_train[o_img_idx][0].reshape(28, 28), cmap='gray')\n",
        "ax32.set_title(\"output filter 1\")\n",
        "ax32.imshow(output_o_pool[0], cmap='gray', vmin=vmin, vmax=vmax)\n",
        "ax33.set_title(\"output filter 2\")\n",
        "ax33.imshow(output_o_pool[1], cmap='gray', vmin=vmin, vmax=vmax)\n",
        "ax34.set_title(\"output filter 3\")\n",
        "ax34.imshow(output_o_pool[2], cmap='gray', vmin=vmin, vmax=vmax)\n",
        "plt.show()"
      ]
    },
    {
      "cell_type": "markdown",
      "metadata": {
        "id": "PWmYCIe2r2mV"
      },
      "source": [
        "* You can observe that after implementing Maxpool layer, the size of the output  being half of what you we after the ReLU section.\n",
        "\n",
        "* Despite the reduction in the size of the output, the important or high-level features in the output still remains intact."
      ]
    },
    {
      "cell_type": "markdown",
      "metadata": {
        "id": "QjsnpUcT19aS"
      },
      "source": [
        "# implement a CNN\n",
        "\n",
        "For this section, you're going to create a CNN."
      ]
    },
    {
      "cell_type": "code",
      "execution_count": null,
      "metadata": {
        "id": "AFa9AGjsD9em"
      },
      "outputs": [],
      "source": [
        "# Train/Test Functions\n",
        "# You will code your training loop in HW_CNN_part2, you can run this cell for this HW for now\n",
        "\n",
        "def train(model, device, train_loader, epochs):\n",
        "  \"\"\"\n",
        "  Training function\n",
        "\n",
        "  Args:\n",
        "    model: nn.module\n",
        "      Neural network instance\n",
        "    device: string\n",
        "      GPU/CUDA if available, CPU otherwise\n",
        "    train_loader: torch.loader\n",
        "      Training Set\n",
        "    epochs: int\n",
        "      Number of epochs\n",
        "\n",
        "  Returns:\n",
        "    Nothing\n",
        "  \"\"\"\n",
        "  model.train()\n",
        "\n",
        "  criterion = nn.CrossEntropyLoss()\n",
        "  optimizer = torch.optim.SGD(model.parameters(), lr=0.01)\n",
        "  for epoch in range(epochs):\n",
        "    with tqdm(train_loader, unit='batch') as tepoch:\n",
        "      for data, target in tepoch:\n",
        "        data, target = data.to(device), target.to(device)\n",
        "        optimizer.zero_grad()\n",
        "        output = model(data)\n",
        "\n",
        "        loss = criterion(output, target)\n",
        "        loss.backward()\n",
        "        optimizer.step()\n",
        "        tepoch.set_postfix(loss=loss.item())\n",
        "        time.sleep(0.1)\n",
        "\n",
        "def test(model, device, data_loader):\n",
        "  \"\"\"\n",
        "  Test function\n",
        "\n",
        "  Args:\n",
        "    model: nn.module\n",
        "      Neural network instance\n",
        "    device: string\n",
        "      GPU/CUDA if available, CPU otherwise\n",
        "    data_loader: torch.loader\n",
        "      Test Set\n",
        "\n",
        "  Returns:\n",
        "    acc: float\n",
        "      Test accuracy\n",
        "  \"\"\"\n",
        "  model.eval()\n",
        "  correct = 0\n",
        "  total = 0\n",
        "  for data in data_loader:\n",
        "    inputs, labels = data\n",
        "    inputs = inputs.to(device).float()\n",
        "    labels = labels.to(device).long()\n",
        "\n",
        "    outputs = model(inputs)\n",
        "    _, predicted = torch.max(outputs, 1)\n",
        "    total += labels.size(0)\n",
        "    correct += (predicted == labels).sum().item()\n",
        "\n",
        "  acc = 100 * correct / total\n",
        "  return acc"
      ]
    },
    {
      "cell_type": "code",
      "execution_count": null,
      "metadata": {
        "colab": {
          "base_uri": "https://localhost:8080/"
        },
        "id": "UPm4zb-qECZ_",
        "outputId": "d0e7f1b4-b83b-434a-8b3b-2a9cdc8c0850"
      },
      "outputs": [
        {
          "name": "stdout",
          "output_type": "stream",
          "text": [
            "Random seed 1404 has been set.\n"
          ]
        }
      ],
      "source": [
        "set_seed(SEED)\n",
        "emnist_train, emnist_test = get_Xvs0_dataset(normalize=True)\n",
        "train_loader, test_loader = get_data_loaders(emnist_train, emnist_test,\n",
        "                                             seed=SEED)"
      ]
    },
    {
      "cell_type": "code",
      "execution_count": null,
      "metadata": {
        "colab": {
          "base_uri": "https://localhost:8080/",
          "height": 84,
          "referenced_widgets": [
            "abc1fa09c739473e82c651bf68e0d3fb",
            "565c11dd0e31467ba6a7c56eb76d9dfb",
            "649f90888647485e973ec3e936a8b349",
            "c82d06f1799c4c01bc862c74d51e4709",
            "683dcb454aa046d4b761f20ee3a14682",
            "d543a074c81c4999967ca1bfe9ba28cf",
            "a209d2372e1b4f46a2982f4e3f77dce0",
            "7de2acf5eb184593a53a658718b74f55",
            "1541101a1af640a79bc9fe85837a8ef6",
            "6e4371613ea74dca94c6eb32cb6aa3ce",
            "bd3a794e6c1744e8bda51f7b4c1dba5d"
          ]
        },
        "id": "6PpSbpN5EC8g",
        "outputId": "df609e8e-2352-4144-c57b-a00b464d381b"
      },
      "outputs": [
        {
          "name": "stdout",
          "output_type": "stream",
          "text": [
            "Total Parameters in Network    1198850\n"
          ]
        },
        {
          "data": {
            "application/vnd.jupyter.widget-view+json": {
              "model_id": "abc1fa09c739473e82c651bf68e0d3fb",
              "version_major": 2,
              "version_minor": 0
            },
            "text/plain": [
              "  0%|          | 0/300 [00:00<?, ?batch/s]"
            ]
          },
          "metadata": {},
          "output_type": "display_data"
        },
        {
          "name": "stdout",
          "output_type": "stream",
          "text": [
            "Test accuracy is: 99.1875\n"
          ]
        }
      ],
      "source": [
        "class EMNIST_Net(nn.Module):\n",
        "  \"\"\"\n",
        "  Neural network instance with following structure\n",
        "  # Convolutional Layer 1: 1 --> 32, kernel_size=3\n",
        "  # Convolutional Block 2: 32 --> 64, kernel_size=3 + maxpooling\n",
        "  # Fully Connected Layer 1: 9216 --> 128\n",
        "  # Fully Connected Layer 2: 128 --> 2\n",
        "  \"\"\"\n",
        "\n",
        "  def __init__(self):\n",
        "    \"\"\"\n",
        "    Initialize parameters of EMNISTNet\n",
        "\n",
        "    Args:\n",
        "      None\n",
        "\n",
        "    Returns:\n",
        "      Nothing\n",
        "    \"\"\"\n",
        "    super(EMNIST_Net, self).__init__()\n",
        "\n",
        "\n",
        "    ####################################################################\n",
        "    # TODO:\n",
        "    # 1) Define the required layers according to the given structure\n",
        "\n",
        "    # comment the line below to test your code\n",
        "    raise NotImplementedError(\"Define the required layers\")\n",
        "    ####################################################################\n",
        "\n",
        "    # 1)\n",
        "    self.conv1 = ...\n",
        "    self.conv2 = ...\n",
        "    self.fc1 = ...\n",
        "    self.fc2 = ...\n",
        "    self.pool = ...\n",
        "\n",
        "  def forward(self, x):\n",
        "    \"\"\"\n",
        "    Forward pass of EMNISTNet\n",
        "\n",
        "    Args:\n",
        "      x: torch.tensor\n",
        "        Input features\n",
        "\n",
        "    Returns:\n",
        "      x: torch.tensor\n",
        "        Output of final fully connected layer\n",
        "    \"\"\"\n",
        "\n",
        "    ####################################################################\n",
        "    # TODO:\n",
        "    # 2) Define forward pass for any input x (don't forget relus)\n",
        "    # hint --> don't forget to flatten the image when it passes from Convolution Layers to Linear Layers (torch.flatten())\n",
        "\n",
        "    # comment the line below to test your code\n",
        "    raise NotImplementedError(\"Define forward pass for any input x\")\n",
        "    ####################################################################\n",
        "\n",
        "    # 2)\n",
        "    x = ...\n",
        "    x = ...\n",
        "    x = ...\n",
        "    x = ...\n",
        "    x = ...\n",
        "    x = ...\n",
        "    x = ...\n",
        "    x = ...\n",
        "    x = ...\n",
        "    return x\n",
        "\n",
        "\n",
        "emnist_net = EMNIST_Net().to(DEVICE)\n",
        "print(\"Total Parameters in Network {:10d}\".format(sum(p.numel() for p in emnist_net.parameters())))\n",
        "train(emnist_net, DEVICE, train_loader, 1)\n",
        "\n",
        "print(f'Test accuracy is: {test(emnist_net, DEVICE, test_loader)}')"
      ]
    },
    {
      "cell_type": "markdown",
      "metadata": {
        "id": "wdjA5x0L38QD"
      },
      "source": [
        "## Softmax\n",
        "\n",
        "* Now let's use softmax function which converts a real value to a value between 0 and 1, that can be interpreted as a probability."
      ]
    },
    {
      "cell_type": "code",
      "execution_count": null,
      "metadata": {
        "colab": {
          "base_uri": "https://localhost:8080/",
          "height": 1000
        },
        "id": "gN1jzzxD3LkL",
        "outputId": "89a420b4-38dc-4e84-83a1-b213e28f6966"
      },
      "outputs": [
        {
          "name": "stdout",
          "output_type": "stream",
          "text": [
            "Input1:\n"
          ]
        },
        {
          "data": {
            "image/png": "[encoded data removed]",
            "text/plain": [
              "<Figure size 640x480 with 1 Axes>"
            ]
          },
          "metadata": {},
          "output_type": "display_data"
        },
        {
          "name": "stdout",
          "output_type": "stream",
          "text": [
            "\n",
            "Result: tensor([[0.0015, 0.9985]], device='cuda:0', grad_fn=<SoftmaxBackward0>)\n",
            "Confidence of image being an 'O': 0.0014562272699549794\n",
            "Confidence of image being an 'X': 0.9985437393188477\n",
            "\n",
            "--------------------------\n",
            "\n",
            "Input2:\n"
          ]
        },
        {
          "data": {
            "image/png": "[encoded data removed]",
            "text/plain": [
              "<Figure size 640x480 with 1 Axes>"
            ]
          },
          "metadata": {},
          "output_type": "display_data"
        },
        {
          "name": "stdout",
          "output_type": "stream",
          "text": [
            "\n",
            "Result: tensor([[9.9988e-01, 1.2062e-04]], device='cuda:0', grad_fn=<SoftmaxBackward0>)\n",
            "Confidence of image being an 'O': 0.9998793601989746\n",
            "Confidence of image being an 'X': 0.00012061846791766584\n"
          ]
        }
      ],
      "source": [
        "# Index of an image in the dataset that corresponds to an X and O\n",
        "x_img_idx = 11\n",
        "o_img_idx = 0\n",
        "\n",
        "print(\"Input1:\")\n",
        "x_img = emnist_train[x_img_idx][0].unsqueeze(dim=0).to(DEVICE)\n",
        "plt.imshow(emnist_train[x_img_idx][0].reshape(28, 28),\n",
        "           cmap=plt.get_cmap('gray'))\n",
        "\n",
        "\n",
        "#####################################################################\n",
        "# TODO:\n",
        "# 1) Apply softmax to the output logits\n",
        "\n",
        "# comment the line below to test your code\n",
        "raise NotImplementedError(\"Apply softmax\")\n",
        "#####################################################################\n",
        "\n",
        "plt.show()\n",
        "output = emnist_net(x_img)\n",
        "\n",
        "# 1)\n",
        "result = ...\n",
        "print(\"\\nResult:\", result)\n",
        "print(\"Confidence of image being an 'O':\", result[0, 0].item())\n",
        "print(\"Confidence of image being an 'X':\", result[0, 1].item())\n",
        "\n",
        "print(\"\\n--------------------------\\n\")\n",
        "\n",
        "print(\"Input2:\")\n",
        "o_img = emnist_train[o_img_idx][0].unsqueeze(dim=0).to(DEVICE)\n",
        "plt.imshow(emnist_train[o_img_idx][0].reshape(28, 28),\n",
        "           cmap=plt.get_cmap('gray'))\n",
        "plt.show()\n",
        "output = emnist_net(o_img)\n",
        "\n",
        "# 1)\n",
        "result = ...\n",
        "print(\"\\nResult:\", result)\n",
        "print(\"Confidence of image being an 'O':\", result[0, 0].item())\n",
        "print(\"Confidence of image being an 'X':\", result[0, 1].item())"
      ]
    },
    {
      "cell_type": "markdown",
      "metadata": {
        "id": "DxL94P5w4Run"
      },
      "source": [
        "* This is evident from the softmax output, which shows the probabilities of the image belonging to each of the classes."
      ]
    },
    {
      "cell_type": "markdown",
      "metadata": {
        "id": "feTMx5vLwlCu"
      },
      "source": [
        "# Further tasks"
      ]
    },
    {
      "cell_type": "markdown",
      "metadata": {
        "id": "1127fc44"
      },
      "source": [
        "## Task 1: Compare with a Fully Connected Network\n",
        "\n",
        "Train a simple fully connected neural network (MLP) on the same dataset. Compare its performance with your CNN in terms of accuracy, number of parameters, and training time. Explain why CNN performs better or worse."
      ]
    },
    {
      "cell_type": "code",
      "execution_count": null,
      "metadata": {
        "id": "e0-ZclNE8kY5"
      },
      "outputs": [],
      "source": [
        "# YOUR CODE HERE"
      ]
    },
    {
      "cell_type": "markdown",
      "metadata": {
        "id": "f8e07c31"
      },
      "source": [
        "## Task 2: Add Evaluation Metrics\n",
        "\n",
        "In addition to overall accuracy, compute and report:\n",
        "* Confusion matrix\n",
        "\n",
        "* Model performance metrics\n"
      ]
    },
    {
      "cell_type": "code",
      "execution_count": null,
      "metadata": {
        "id": "wnWt-pip8nWM"
      },
      "outputs": [],
      "source": [
        "# YOUR CODE HERE"
      ]
    },
    {
      "cell_type": "markdown",
      "metadata": {
        "id": "6babfd36"
      },
      "source": [
        "## Task 3: Compare Optimizers\n",
        "\n",
        "Compare model performance when trained with SGD, Adam, and RMSProp. Plot the loss curves."
      ]
    },
    {
      "cell_type": "code",
      "execution_count": null,
      "metadata": {
        "id": "D4HVgLda811X"
      },
      "outputs": [],
      "source": [
        "# YOUR CODE HERE"
      ]
    },
    {
      "cell_type": "markdown",
      "metadata": {
        "id": "Fsob63gJ-2bt"
      },
      "source": [
        "## Task 4: Compare Activation Functions\n",
        "\n",
        "Replace ReLU with Tanh or LeakyReLU. How does that affect performance?"
      ]
    },
    {
      "cell_type": "code",
      "execution_count": null,
      "metadata": {
        "id": "YIpgw8uG--6k"
      },
      "outputs": [],
      "source": [
        "# YOURCODE HERE"
      ]
    },
    {
      "cell_type": "markdown",
      "metadata": {
        "id": "5c5kdo9rAV7X"
      },
      "source": [
        "## Task 5: Train a Deeper CNN\n",
        "\n",
        "Extend the network with your desired additional layers. Does it help or hurt performance?"
      ]
    },
    {
      "cell_type": "code",
      "execution_count": null,
      "metadata": {
        "id": "k9c2fTbuAcn3"
      },
      "outputs": [],
      "source": [
        "# YOUR CODE HERE"
      ]
    }
  ],
  "metadata": {
    "accelerator": "GPU",
    "colab": {
      "gpuType": "T4",
      "provenance": []
    },
    "kernelspec": {
      "display_name": "Python 3",
      "name": "python3"
    },
    "language_info": {
      "codemirror_mode": {
        "name": "ipython",
        "version": 3
      },
      "file_extension": ".py",
      "mimetype": "text/x-python",
      "name": "python",
      "nbconvert_exporter": "python",
      "pygments_lexer": "ipython3",
      "version": "3.12.9"
    },
    "widgets": {
      "application/vnd.jupyter.widget-state+json": {
        "1541101a1af640a79bc9fe85837a8ef6": {
          "model_module": "@jupyter-widgets/controls",
          "model_module_version": "1.5.0",
          "model_name": "ProgressStyleModel",
          "state": {
            "_model_module": "@jupyter-widgets/controls",
            "_model_module_version": "1.5.0",
            "_model_name": "ProgressStyleModel",
            "_view_count": null,
            "_view_module": "@jupyter-widgets/base",
            "_view_module_version": "1.2.0",
            "_view_name": "StyleView",
            "bar_color": null,
            "description_width": ""
          }
        },
        "565c11dd0e31467ba6a7c56eb76d9dfb": {
          "model_module": "@jupyter-widgets/controls",
          "model_module_version": "1.5.0",
          "model_name": "HTMLModel",
          "state": {
            "_dom_classes": [],
            "_model_module": "@jupyter-widgets/controls",
            "_model_module_version": "1.5.0",
            "_model_name": "HTMLModel",
            "_view_count": null,
            "_view_module": "@jupyter-widgets/controls",
            "_view_module_version": "1.5.0",
            "_view_name": "HTMLView",
            "description": "",
            "description_tooltip": null,
            "layout": "IPY_MODEL_d543a074c81c4999967ca1bfe9ba28cf",
            "placeholder": "​",
            "style": "IPY_MODEL_a209d2372e1b4f46a2982f4e3f77dce0",
            "value": "100%"
          }
        },
        "649f90888647485e973ec3e936a8b349": {
          "model_module": "@jupyter-widgets/controls",
          "model_module_version": "1.5.0",
          "model_name": "FloatProgressModel",
          "state": {
            "_dom_classes": [],
            "_model_module": "@jupyter-widgets/controls",
            "_model_module_version": "1.5.0",
            "_model_name": "FloatProgressModel",
            "_view_count": null,
            "_view_module": "@jupyter-widgets/controls",
            "_view_module_version": "1.5.0",
            "_view_name": "ProgressView",
            "bar_style": "success",
            "description": "",
            "description_tooltip": null,
            "layout": "IPY_MODEL_7de2acf5eb184593a53a658718b74f55",
            "max": 300,
            "min": 0,
            "orientation": "horizontal",
            "style": "IPY_MODEL_1541101a1af640a79bc9fe85837a8ef6",
            "value": 300
          }
        },
        "683dcb454aa046d4b761f20ee3a14682": {
          "model_module": "@jupyter-widgets/base",
          "model_module_version": "1.2.0",
          "model_name": "LayoutModel",
          "state": {
            "_model_module": "@jupyter-widgets/base",
            "_model_module_version": "1.2.0",
            "_model_name": "LayoutModel",
            "_view_count": null,
            "_view_module": "@jupyter-widgets/base",
            "_view_module_version": "1.2.0",
            "_view_name": "LayoutView",
            "align_content": null,
            "align_items": null,
            "align_self": null,
            "border": null,
            "bottom": null,
            "display": null,
            "flex": null,
            "flex_flow": null,
            "grid_area": null,
            "grid_auto_columns": null,
            "grid_auto_flow": null,
            "grid_auto_rows": null,
            "grid_column": null,
            "grid_gap": null,
            "grid_row": null,
            "grid_template_areas": null,
            "grid_template_columns": null,
            "grid_template_rows": null,
            "height": null,
            "justify_content": null,
            "justify_items": null,
            "left": null,
            "margin": null,
            "max_height": null,
            "max_width": null,
            "min_height": null,
            "min_width": null,
            "object_fit": null,
            "object_position": null,
            "order": null,
            "overflow": null,
            "overflow_x": null,
            "overflow_y": null,
            "padding": null,
            "right": null,
            "top": null,
            "visibility": null,
            "width": null
          }
        },
        "6e4371613ea74dca94c6eb32cb6aa3ce": {
          "model_module": "@jupyter-widgets/base",
          "model_module_version": "1.2.0",
          "model_name": "LayoutModel",
          "state": {
            "_model_module": "@jupyter-widgets/base",
            "_model_module_version": "1.2.0",
            "_model_name": "LayoutModel",
            "_view_count": null,
            "_view_module": "@jupyter-widgets/base",
            "_view_module_version": "1.2.0",
            "_view_name": "LayoutView",
            "align_content": null,
            "align_items": null,
            "align_self": null,
            "border": null,
            "bottom": null,
            "display": null,
            "flex": null,
            "flex_flow": null,
            "grid_area": null,
            "grid_auto_columns": null,
            "grid_auto_flow": null,
            "grid_auto_rows": null,
            "grid_column": null,
            "grid_gap": null,
            "grid_row": null,
            "grid_template_areas": null,
            "grid_template_columns": null,
            "grid_template_rows": null,
            "height": null,
            "justify_content": null,
            "justify_items": null,
            "left": null,
            "margin": null,
            "max_height": null,
            "max_width": null,
            "min_height": null,
            "min_width": null,
            "object_fit": null,
            "object_position": null,
            "order": null,
            "overflow": null,
            "overflow_x": null,
            "overflow_y": null,
            "padding": null,
            "right": null,
            "top": null,
            "visibility": null,
            "width": null
          }
        },
        "7de2acf5eb184593a53a658718b74f55": {
          "model_module": "@jupyter-widgets/base",
          "model_module_version": "1.2.0",
          "model_name": "LayoutModel",
          "state": {
            "_model_module": "@jupyter-widgets/base",
            "_model_module_version": "1.2.0",
            "_model_name": "LayoutModel",
            "_view_count": null,
            "_view_module": "@jupyter-widgets/base",
            "_view_module_version": "1.2.0",
            "_view_name": "LayoutView",
            "align_content": null,
            "align_items": null,
            "align_self": null,
            "border": null,
            "bottom": null,
            "display": null,
            "flex": null,
            "flex_flow": null,
            "grid_area": null,
            "grid_auto_columns": null,
            "grid_auto_flow": null,
            "grid_auto_rows": null,
            "grid_column": null,
            "grid_gap": null,
            "grid_row": null,
            "grid_template_areas": null,
            "grid_template_columns": null,
            "grid_template_rows": null,
            "height": null,
            "justify_content": null,
            "justify_items": null,
            "left": null,
            "margin": null,
            "max_height": null,
            "max_width": null,
            "min_height": null,
            "min_width": null,
            "object_fit": null,
            "object_position": null,
            "order": null,
            "overflow": null,
            "overflow_x": null,
            "overflow_y": null,
            "padding": null,
            "right": null,
            "top": null,
            "visibility": null,
            "width": null
          }
        },
        "a209d2372e1b4f46a2982f4e3f77dce0": {
          "model_module": "@jupyter-widgets/controls",
          "model_module_version": "1.5.0",
          "model_name": "DescriptionStyleModel",
          "state": {
            "_model_module": "@jupyter-widgets/controls",
            "_model_module_version": "1.5.0",
            "_model_name": "DescriptionStyleModel",
            "_view_count": null,
            "_view_module": "@jupyter-widgets/base",
            "_view_module_version": "1.2.0",
            "_view_name": "StyleView",
            "description_width": ""
          }
        },
        "abc1fa09c739473e82c651bf68e0d3fb": {
          "model_module": "@jupyter-widgets/controls",
          "model_module_version": "1.5.0",
          "model_name": "HBoxModel",
          "state": {
            "_dom_classes": [],
            "_model_module": "@jupyter-widgets/controls",
            "_model_module_version": "1.5.0",
            "_model_name": "HBoxModel",
            "_view_count": null,
            "_view_module": "@jupyter-widgets/controls",
            "_view_module_version": "1.5.0",
            "_view_name": "HBoxView",
            "box_style": "",
            "children": [
              "IPY_MODEL_565c11dd0e31467ba6a7c56eb76d9dfb",
              "IPY_MODEL_649f90888647485e973ec3e936a8b349",
              "IPY_MODEL_c82d06f1799c4c01bc862c74d51e4709"
            ],
            "layout": "IPY_MODEL_683dcb454aa046d4b761f20ee3a14682"
          }
        },
        "bd3a794e6c1744e8bda51f7b4c1dba5d": {
          "model_module": "@jupyter-widgets/controls",
          "model_module_version": "1.5.0",
          "model_name": "DescriptionStyleModel",
          "state": {
            "_model_module": "@jupyter-widgets/controls",
            "_model_module_version": "1.5.0",
            "_model_name": "DescriptionStyleModel",
            "_view_count": null,
            "_view_module": "@jupyter-widgets/base",
            "_view_module_version": "1.2.0",
            "_view_name": "StyleView",
            "description_width": ""
          }
        },
        "c82d06f1799c4c01bc862c74d51e4709": {
          "model_module": "@jupyter-widgets/controls",
          "model_module_version": "1.5.0",
          "model_name": "HTMLModel",
          "state": {
            "_dom_classes": [],
            "_model_module": "@jupyter-widgets/controls",
            "_model_module_version": "1.5.0",
            "_model_name": "HTMLModel",
            "_view_count": null,
            "_view_module": "@jupyter-widgets/controls",
            "_view_module_version": "1.5.0",
            "_view_name": "HTMLView",
            "description": "",
            "description_tooltip": null,
            "layout": "IPY_MODEL_6e4371613ea74dca94c6eb32cb6aa3ce",
            "placeholder": "​",
            "style": "IPY_MODEL_bd3a794e6c1744e8bda51f7b4c1dba5d",
            "value": " 300/300 [00:33&lt;00:00,  9.35batch/s, loss=0.0217]"
          }
        },
        "d543a074c81c4999967ca1bfe9ba28cf": {
          "model_module": "@jupyter-widgets/base",
          "model_module_version": "1.2.0",
          "model_name": "LayoutModel",
          "state": {
            "_model_module": "@jupyter-widgets/base",
            "_model_module_version": "1.2.0",
            "_model_name": "LayoutModel",
            "_view_count": null,
            "_view_module": "@jupyter-widgets/base",
            "_view_module_version": "1.2.0",
            "_view_name": "LayoutView",
            "align_content": null,
            "align_items": null,
            "align_self": null,
            "border": null,
            "bottom": null,
            "display": null,
            "flex": null,
            "flex_flow": null,
            "grid_area": null,
            "grid_auto_columns": null,
            "grid_auto_flow": null,
            "grid_auto_rows": null,
            "grid_column": null,
            "grid_gap": null,
            "grid_row": null,
            "grid_template_areas": null,
            "grid_template_columns": null,
            "grid_template_rows": null,
            "height": null,
            "justify_content": null,
            "justify_items": null,
            "left": null,
            "margin": null,
            "max_height": null,
            "max_width": null,
            "min_height": null,
            "min_width": null,
            "object_fit": null,
            "object_position": null,
            "order": null,
            "overflow": null,
            "overflow_x": null,
            "overflow_y": null,
            "padding": null,
            "right": null,
            "top": null,
            "visibility": null,
            "width": null
          }
        }
      }
    }
  },
  "nbformat": 4,
  "nbformat_minor": 0
}